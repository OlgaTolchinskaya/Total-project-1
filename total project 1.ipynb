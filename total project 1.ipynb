{
 "cells": [
  {
   "cell_type": "markdown",
   "metadata": {},
   "source": [
    "<div style=\"border:solid green 3px; padding: 20px\">\n",
    "<b>🥇 Ольга, спасибо за доработки, проект принят, молодец!</b>\n",
    "    \n",
    "Ты провела очень хорошую работу над ошибками! Уверен, ты обязательно достигнешь своей цели! Успехов в дальнейшем обучении! 🙂\n",
    "    "
   ]
  },
  {
   "cell_type": "markdown",
   "metadata": {},
   "source": [
    "Ольга, привет! Меня зовут Ефимов Денис и сегодня я буду делать ревью твоего проекта!\\\n",
    "В Практикуме принято общаться на \"ты\", однако если это неудобно - дай знать, и можем перейти на более официальное общение.\n",
    "\n",
    "Ниже ты найдешь мои комментарии - пожалуйста, не перемещай, не изменяй и не удаляй их. Я буду использовать цветовую разметку: \n",
    "\n",
    "<div class=\"alert alert-block alert-success\">\n",
    "<b>✅Комментарий ревьюера:</b> Если все сделано хорошо. </div>\n",
    "\n",
    "<div class=\"alert alert-block alert-warning\">\n",
    "<b>🔁Комментарий ревьюера:</b> Некритичное замечание; если таких замечаний меньше трех — проект может быть принят без их отработки.</div>\n",
    "\n",
    "<div class=\"alert alert-block alert-danger\">\n",
    "<b>❌Комментарий ревьюера:</b> Грубая ошибка, необходимо исправить, иначе проект не будет принят.\n",
    "</div>\n",
    "\n",
    "Давай работать над проектом в диалоге: если ты что-то меняешь в проекте или отвечаешь на мои комментарии — пиши об этом. Мне будет легче отследить изменения, если ты выделишь свои комментарии:\n",
    "Например так:\n",
    "<div class=\"alert alert-block alert-info\">\n",
    "<b>🔄Комментарий студента:</b> \n",
    "Hello World! ✔\n",
    "</div>\n",
    "\n",
    "Или можешь использовать эту галочку ✔ в моих комментариях, если писать особо нечего.\n",
    "\n",
    "<div class=\"alert alert-block alert-warning\">\n",
    "<b>Общее впечатление:</b> \n",
    "    \n",
    "- Ты проделала огромную работу и проект получился впечатляющим:)\n",
    "- У меня есть несколько замечаний, исправив которые ты сделаешь проект еще лучше.\n",
    "- Пробегись по моим комментариям, исправь недочёты и всё будет отлично :)\n",
    "    \n",
    "</div>\n",
    "\n"
   ]
  },
  {
   "cell_type": "markdown",
   "metadata": {},
   "source": [
    "**ИССЛЕДОВАНИЕ ЗАКОНОМЕРНОСТЕЙ, ОПРЕДЕЛЯЮЩИХ УСПЕХ ИГРЫ.**\n",
    "\n",
    "**Цель исследования** -  выявить определяющие успешность игры закономерности. Это позволит сделать ставку на потенциально популярный продукт и спланировать рекламные кампании.\n",
    "**Объект исследования** - исторические данные, доступные из открытых источников, о продажах игр, оценки пользователей и экспертов, жанры и платформы. \n",
    "\n",
    "**Ход исследования**\n",
    "1. Откроем файл с данными и изучили общую информацию\n",
    "2. Проведем предобработку данных:\n",
    " - заменим названия столбцов (приведем к нижнему регистру)\n",
    " - преобразуем данные в нужные типы \n",
    " - обработаем пропуски\n",
    " - посчитаем суммарные продажи во всех регионах и запишем их в отдельный столбец\n",
    "3. Исследовательский анализ данных\n",
    " - изучим, сколько игр выпускалось в разные годы. \n",
    " - изучим,как менялись продажи по платформам. \n",
    " - определим актуальный период\n",
    " - изучим, какие платформы лидируют по продажам, растут или падают? Выберим несколько потенциально прибыльных платформ.\n",
    " - построим график «ящик с усами» по глобальным продажам игр в разбивке по платформам. Опишем результат.\n",
    " - изучим, как влияют на продажи внутри одной популярной платформы отзывы пользователей и критиков. построим диаграмму рассеяния   и посчитайте корреляцию между отзывами и продажами. Сформулируем выводы.\n",
    " - соотнесем выводы с продажами игр на других платформах.\n",
    " - изучим общее распределение игр по жанрам.\n",
    "4. Составим портрет пользователя для каждого региона\n",
    " - определим для пользователя каждого региона (NA, EU, JP):\n",
    "   - самые популярные платформы (топ-5). Опишем различия в долях продаж.\n",
    "   - самые популярные жанры (топ-5). \n",
    "   - влияние рейтинга ESRB на продажи в отдельном регионе\n",
    "5. Проверим гипотезы\n",
    " - средние пользовательские рейтинги платформ Xbox One и PC одинаковые;\n",
    " - средние пользовательские рейтинги\n",
    "6. Общий вывод   "
   ]
  },
  {
   "cell_type": "markdown",
   "metadata": {},
   "source": [
    "<div class=\"alert alert-block alert-success\">\n",
    "<b>✅Комментарий ревьюера:</b> Молодец, что написала введение!  Проекту также нужно и название)</div>"
   ]
  },
  {
   "cell_type": "markdown",
   "metadata": {},
   "source": [
    "### Открытие файла с данными и изучение общей информации. "
   ]
  },
  {
   "cell_type": "markdown",
   "metadata": {},
   "source": [
    "Изучим файл, типы данных, наличие пропусков в столбцах."
   ]
  },
  {
   "cell_type": "code",
   "execution_count": 1,
   "metadata": {},
   "outputs": [],
   "source": [
    "import pandas as pd\n",
    "import matplotlib.pyplot as plt\n",
    "import numpy as np\n",
    "from scipy import stats as st\n",
    "import seaborn as sns"
   ]
  },
  {
   "cell_type": "code",
   "execution_count": 2,
   "metadata": {},
   "outputs": [
    {
     "name": "stdout",
     "output_type": "stream",
     "text": [
      "                       Name Platform  Year_of_Release         Genre  NA_sales  \\\n",
      "0                Wii Sports      Wii           2006.0        Sports     41.36   \n",
      "1         Super Mario Bros.      NES           1985.0      Platform     29.08   \n",
      "2            Mario Kart Wii      Wii           2008.0        Racing     15.68   \n",
      "3         Wii Sports Resort      Wii           2009.0        Sports     15.61   \n",
      "4  Pokemon Red/Pokemon Blue       GB           1996.0  Role-Playing     11.27   \n",
      "\n",
      "   EU_sales  JP_sales  Other_sales  Critic_Score User_Score Rating  \n",
      "0     28.96      3.77         8.45          76.0          8      E  \n",
      "1      3.58      6.81         0.77           NaN        NaN    NaN  \n",
      "2     12.76      3.79         3.29          82.0        8.3      E  \n",
      "3     10.93      3.28         2.95          80.0          8      E  \n",
      "4      8.89     10.22         1.00           NaN        NaN    NaN  \n",
      "<class 'pandas.core.frame.DataFrame'>\n",
      "RangeIndex: 16715 entries, 0 to 16714\n",
      "Data columns (total 11 columns):\n",
      " #   Column           Non-Null Count  Dtype  \n",
      "---  ------           --------------  -----  \n",
      " 0   Name             16713 non-null  object \n",
      " 1   Platform         16715 non-null  object \n",
      " 2   Year_of_Release  16446 non-null  float64\n",
      " 3   Genre            16713 non-null  object \n",
      " 4   NA_sales         16715 non-null  float64\n",
      " 5   EU_sales         16715 non-null  float64\n",
      " 6   JP_sales         16715 non-null  float64\n",
      " 7   Other_sales      16715 non-null  float64\n",
      " 8   Critic_Score     8137 non-null   float64\n",
      " 9   User_Score       10014 non-null  object \n",
      " 10  Rating           9949 non-null   object \n",
      "dtypes: float64(6), object(5)\n",
      "memory usage: 1.4+ MB\n"
     ]
    },
    {
     "data": {
      "text/html": [
       "<style  type=\"text/css\" >\n",
       "#T_283a0_row0_col0,#T_283a0_row1_col0,#T_283a0_row3_col0,#T_283a0_row4_col0,#T_283a0_row5_col0,#T_283a0_row6_col0,#T_283a0_row7_col0{\n",
       "            background-color:  #3b4cc0;\n",
       "            color:  #f1f1f1;\n",
       "        }#T_283a0_row2_col0{\n",
       "            background-color:  #465ecf;\n",
       "            color:  #f1f1f1;\n",
       "        }#T_283a0_row8_col0{\n",
       "            background-color:  #b40426;\n",
       "            color:  #f1f1f1;\n",
       "        }#T_283a0_row9_col0,#T_283a0_row10_col0{\n",
       "            background-color:  #f08b6e;\n",
       "            color:  #000000;\n",
       "        }</style><table id=\"T_283a0_\" ><thead>    <tr>        <th class=\"blank level0\" ></th>        <th class=\"col_heading level0 col0\" >0</th>    </tr></thead><tbody>\n",
       "                <tr>\n",
       "                        <th id=\"T_283a0_level0_row0\" class=\"row_heading level0 row0\" >Name</th>\n",
       "                        <td id=\"T_283a0_row0_col0\" class=\"data row0 col0\" >0.000000</td>\n",
       "            </tr>\n",
       "            <tr>\n",
       "                        <th id=\"T_283a0_level0_row1\" class=\"row_heading level0 row1\" >Platform</th>\n",
       "                        <td id=\"T_283a0_row1_col0\" class=\"data row1 col0\" >0.000000</td>\n",
       "            </tr>\n",
       "            <tr>\n",
       "                        <th id=\"T_283a0_level0_row2\" class=\"row_heading level0 row2\" >Year_of_Release</th>\n",
       "                        <td id=\"T_283a0_row2_col0\" class=\"data row2 col0\" >2.000000</td>\n",
       "            </tr>\n",
       "            <tr>\n",
       "                        <th id=\"T_283a0_level0_row3\" class=\"row_heading level0 row3\" >Genre</th>\n",
       "                        <td id=\"T_283a0_row3_col0\" class=\"data row3 col0\" >0.000000</td>\n",
       "            </tr>\n",
       "            <tr>\n",
       "                        <th id=\"T_283a0_level0_row4\" class=\"row_heading level0 row4\" >NA_sales</th>\n",
       "                        <td id=\"T_283a0_row4_col0\" class=\"data row4 col0\" >0.000000</td>\n",
       "            </tr>\n",
       "            <tr>\n",
       "                        <th id=\"T_283a0_level0_row5\" class=\"row_heading level0 row5\" >EU_sales</th>\n",
       "                        <td id=\"T_283a0_row5_col0\" class=\"data row5 col0\" >0.000000</td>\n",
       "            </tr>\n",
       "            <tr>\n",
       "                        <th id=\"T_283a0_level0_row6\" class=\"row_heading level0 row6\" >JP_sales</th>\n",
       "                        <td id=\"T_283a0_row6_col0\" class=\"data row6 col0\" >0.000000</td>\n",
       "            </tr>\n",
       "            <tr>\n",
       "                        <th id=\"T_283a0_level0_row7\" class=\"row_heading level0 row7\" >Other_sales</th>\n",
       "                        <td id=\"T_283a0_row7_col0\" class=\"data row7 col0\" >0.000000</td>\n",
       "            </tr>\n",
       "            <tr>\n",
       "                        <th id=\"T_283a0_level0_row8\" class=\"row_heading level0 row8\" >Critic_Score</th>\n",
       "                        <td id=\"T_283a0_row8_col0\" class=\"data row8 col0\" >51.000000</td>\n",
       "            </tr>\n",
       "            <tr>\n",
       "                        <th id=\"T_283a0_level0_row9\" class=\"row_heading level0 row9\" >User_Score</th>\n",
       "                        <td id=\"T_283a0_row9_col0\" class=\"data row9 col0\" >40.000000</td>\n",
       "            </tr>\n",
       "            <tr>\n",
       "                        <th id=\"T_283a0_level0_row10\" class=\"row_heading level0 row10\" >Rating</th>\n",
       "                        <td id=\"T_283a0_row10_col0\" class=\"data row10 col0\" >40.000000</td>\n",
       "            </tr>\n",
       "    </tbody></table>"
      ],
      "text/plain": [
       "<pandas.io.formats.style.Styler at 0x7f6905a36a60>"
      ]
     },
     "execution_count": 2,
     "metadata": {},
     "output_type": "execute_result"
    }
   ],
   "source": [
    "data = pd.read_csv('/datasets/games.csv')\n",
    "print(data.head())\n",
    "\n",
    "data.info()\n",
    "pd.DataFrame(round(data.isna().mean()*100,)).style.background_gradient('coolwarm')"
   ]
  },
  {
   "cell_type": "markdown",
   "metadata": {},
   "source": [
    "#### Вывод\n",
    "\n",
    "- скачала датасет, изучила общую информацию и тип данных.\n",
    "- датафрейм состоит из 11 столбцов и 16715 строк\n",
    "- обнаружены пропуски в столбцах Name (2 пропуска),  Year_of_Release (2 % пропусков), Genre(2 пропуска), Critic_Score (51 % пропусков), User_Score (40 % пропусков), Rating (40 % пропусков)."
   ]
  },
  {
   "cell_type": "markdown",
   "metadata": {},
   "source": [
    "<div class=\"alert alert-block alert-danger\">\n",
    "<b>❌Комментарий ревьюера:</b> \n",
    "    \n",
    "Каждому пункту нужен вывод.\n",
    "    \n",
    "Что мы можем сказать о данных после первичного знакомства  с ними?\n",
    "\n",
    "</div>"
   ]
  },
  {
   "cell_type": "markdown",
   "metadata": {},
   "source": [
    "<div class=\"alert alert-block alert-info\">\n",
    "<b>🔄Комментарий студента:</b> \n",
    "Вывод добавила ✔\n",
    "</div>"
   ]
  },
  {
   "cell_type": "markdown",
   "metadata": {},
   "source": [
    "<div class=\"alert alert-block alert-success\">\n",
    "<b>✅Комментарий ревьюера 2:</b> Отлично, исправлено!👍  </div>"
   ]
  },
  {
   "cell_type": "markdown",
   "metadata": {},
   "source": [
    "### Предобработка данных"
   ]
  },
  {
   "cell_type": "markdown",
   "metadata": {},
   "source": [
    "#### Приведем названия столбцов к нижнему регистру."
   ]
  },
  {
   "cell_type": "code",
   "execution_count": 3,
   "metadata": {},
   "outputs": [
    {
     "name": "stdout",
     "output_type": "stream",
     "text": [
      "Index(['name', 'platform', 'year_of_release', 'genre', 'na_sales', 'eu_sales',\n",
      "       'jp_sales', 'other_sales', 'critic_score', 'user_score', 'rating'],\n",
      "      dtype='object')\n"
     ]
    }
   ],
   "source": [
    "data = data.rename(columns={'Name': 'name','Platform': 'platform', 'Year_of_Release': 'year_of_release', 'Genre' : 'genre', \\\n",
    "'NA_sales' : 'na_sales', 'EU_sales' : 'eu_sales', 'JP_sales' : 'jp_sales', 'Other_sales' : 'other_sales', \\\n",
    "'Critic_Score' : 'critic_score', 'User_Score' : 'user_score', 'Rating' : 'rating'}) \n",
    "print(data.columns)"
   ]
  },
  {
   "cell_type": "markdown",
   "metadata": {},
   "source": [
    "<div class=\"alert alert-block alert-success\">\n",
    "<b>✅Комментарий ревьюера:</b> \n",
    "\n",
    "Также названия столбцов можно привести в нижнему регистру, если к `df.columns` применить метод `str.lower`</div>\n",
    "\n",
    "```python\n",
    "\n",
    "                                    df.columns = df.columns.str.lower()\n",
    "    \n",
    "```"
   ]
  },
  {
   "cell_type": "markdown",
   "metadata": {},
   "source": [
    "<div class=\"alert alert-block alert-info\">\n",
    "<b>🔄Комментарий студента:</b> \n",
    "Спасибо, так действительно проще ✔\n",
    "</div>"
   ]
  },
  {
   "cell_type": "markdown",
   "metadata": {},
   "source": [
    "<div class=\"alert alert-block alert-success\">\n",
    "<b>✅Комментарий ревьюера 2:</b> Пожалуйста)  </div>"
   ]
  },
  {
   "cell_type": "markdown",
   "metadata": {},
   "source": [
    "####  Удалим строки с пропусками в столбцах 'name' и 'genre' и 'year_of_release' \n",
    "Это можно сделать из-за незначительного процента пропусков в данных столбцах.\n",
    "Пропуски в данных столбцах могли появиться или из-за отсутствия информации или из-за \"человеческого фактора\""
   ]
  },
  {
   "cell_type": "code",
   "execution_count": 4,
   "metadata": {},
   "outputs": [
    {
     "name": "stdout",
     "output_type": "stream",
     "text": [
      "<class 'pandas.core.frame.DataFrame'>\n",
      "Int64Index: 16444 entries, 0 to 16714\n",
      "Data columns (total 11 columns):\n",
      " #   Column           Non-Null Count  Dtype  \n",
      "---  ------           --------------  -----  \n",
      " 0   name             16444 non-null  object \n",
      " 1   platform         16444 non-null  object \n",
      " 2   year_of_release  16444 non-null  float64\n",
      " 3   genre            16444 non-null  object \n",
      " 4   na_sales         16444 non-null  float64\n",
      " 5   eu_sales         16444 non-null  float64\n",
      " 6   jp_sales         16444 non-null  float64\n",
      " 7   other_sales      16444 non-null  float64\n",
      " 8   critic_score     7983 non-null   float64\n",
      " 9   user_score       9839 non-null   object \n",
      " 10  rating           9768 non-null   object \n",
      "dtypes: float64(6), object(5)\n",
      "memory usage: 1.5+ MB\n"
     ]
    }
   ],
   "source": [
    "data = data.dropna(subset=['name', 'genre', 'year_of_release']) \n",
    "\n",
    "data.info()"
   ]
  },
  {
   "cell_type": "markdown",
   "metadata": {},
   "source": [
    "#### преобразуем данные в нужные типы"
   ]
  },
  {
   "cell_type": "markdown",
   "metadata": {},
   "source": [
    "данные столбца 'year_of_release' приведем к целочисленному значению."
   ]
  },
  {
   "cell_type": "code",
   "execution_count": 5,
   "metadata": {},
   "outputs": [
    {
     "name": "stdout",
     "output_type": "stream",
     "text": [
      "[2006. 1985. 2008. 2009. 1996. 1989. 1984. 2005. 1999. 2007. 2010. 2013.\n",
      " 2004. 1990. 1988. 2002. 2001. 2011. 1998. 2015. 2012. 2014. 1992. 1997.\n",
      " 1993. 1994. 1982. 2016. 2003. 1986. 2000. 1995. 1991. 1981. 1987. 1980.\n",
      " 1983.]\n"
     ]
    }
   ],
   "source": [
    "print(data['year_of_release'].unique())\n",
    "data['year_of_release'] = data['year_of_release'].astype(int)\n"
   ]
  },
  {
   "cell_type": "markdown",
   "metadata": {},
   "source": [
    "Столбец 'user_score' имеет тип object. Для того, чтобы перевести его в тип float64, нужно сначала изменить аббревиатуру 'tbd' to be determined , которая означает, что данные должны быть определены. То есть на данный момент 'tbd' фактически означает пропуск. Заменим 'tbd' на значение 'NaN'.\n",
    "\n",
    "Изменим тип столбца на float64\n"
   ]
  },
  {
   "cell_type": "markdown",
   "metadata": {},
   "source": [
    "<div class=\"alert alert-block alert-success\">\n",
    "<b>✅Комментарий ревьюера:</b> Верное решение\n",
    "</div>"
   ]
  },
  {
   "cell_type": "markdown",
   "metadata": {},
   "source": [
    "<div class=\"alert alert-block alert-warning\">\n",
    "<b>🔁Комментарий ревьюера:</b>\n",
    "\n",
    "Все библиотеки лучше импортировать в самом начале проекта, в отдельной ячейке. Если в процессе работы появилась необходимость добавить библиотеку, то ее можно дописать в эту ячейку и исполнить.</div>"
   ]
  },
  {
   "cell_type": "markdown",
   "metadata": {},
   "source": [
    "<div class=\"alert alert-block alert-info\">\n",
    "<b>🔄Комментарий студента:</b> \n",
    "Библиотеки импортировала в начале проекта в отдельной ячейке\n",
    "</div>"
   ]
  },
  {
   "cell_type": "markdown",
   "metadata": {},
   "source": [
    "<div class=\"alert alert-block alert-success\">\n",
    "<b>✅Комментарий ревьюера 2:</b> Отлично, исправлено!👍  </div>"
   ]
  },
  {
   "cell_type": "code",
   "execution_count": 6,
   "metadata": {},
   "outputs": [
    {
     "name": "stdout",
     "output_type": "stream",
     "text": [
      "['8' nan '8.3' '8.5' '6.6' '8.4' '8.6' '7.7' '6.3' '7.4' '8.2' '9' '7.9'\n",
      " '8.1' '8.7' '7.1' '3.4' '5.3' '4.8' '3.2' '8.9' '6.4' '7.8' '7.5' '2.6'\n",
      " '7.2' '9.2' '7' '7.3' '4.3' '7.6' '5.7' '5' '9.1' '6.5' 'tbd' '8.8' '6.9'\n",
      " '9.4' '6.8' '6.1' '6.7' '5.4' '4' '4.9' '4.5' '9.3' '6.2' '4.2' '6' '3.7'\n",
      " '4.1' '5.8' '5.6' '5.5' '4.4' '4.6' '5.9' '3.9' '3.1' '2.9' '5.2' '3.3'\n",
      " '4.7' '5.1' '3.5' '2.5' '1.9' '3' '2.7' '2.2' '2' '9.5' '2.1' '3.6' '2.8'\n",
      " '1.8' '3.8' '0' '1.6' '9.6' '2.4' '1.7' '1.1' '0.3' '1.5' '0.7' '1.2'\n",
      " '2.3' '0.5' '1.3' '0.2' '0.6' '1.4' '0.9' '1' '9.7']\n"
     ]
    }
   ],
   "source": [
    "print(data['user_score'].unique())\n",
    "data['user_score'] = data['user_score'].replace('tbd', np.NaN)   \n",
    "data['user_score'] = data['user_score'].astype(float)   "
   ]
  },
  {
   "cell_type": "markdown",
   "metadata": {},
   "source": [
    "#### Обработаем пропуски"
   ]
  },
  {
   "cell_type": "markdown",
   "metadata": {},
   "source": [
    "Заполним пропуски 'NaN' в столбце 'user_score' значением 0. \n",
    "\n",
    "Пропуски могут быть связаны с отсутсвием оценок от пользователей."
   ]
  },
  {
   "cell_type": "code",
   "execution_count": 7,
   "metadata": {},
   "outputs": [],
   "source": [
    "data.loc[data['user_score'].isna(), 'user_score'] = 0"
   ]
  },
  {
   "cell_type": "markdown",
   "metadata": {},
   "source": [
    "Заполним пропуски в столбце 'critic_score' значением 0.\n",
    "\n",
    "Пропуски в данном столбце, вероятно, возникли в связи с отсутствием оценок от критиков. "
   ]
  },
  {
   "cell_type": "code",
   "execution_count": 8,
   "metadata": {},
   "outputs": [],
   "source": [
    "data.loc[data['critic_score'].isna(), 'critic_score'] = 0\n",
    "\n",
    "# первоначально думала заполнить пропуски медианой\n",
    "#for genre in data['genre'].unique():\n",
    "#    median = data.loc[data['genre']==genre, 'critic_score'].median()\n",
    "#    data.loc[(data['critic_score'].isna()) & (data['genre']==genre), 'critic_score'] = median\n"
   ]
  },
  {
   "cell_type": "markdown",
   "metadata": {},
   "source": [
    "<div class=\"alert alert-block alert-success\">\n",
    "<b>✅Комментарий ревьюера:</b> Главное не забывать эти значения отфильтровывать перед расчетами, иначе они повлияют на результаты.\n",
    "</div>"
   ]
  },
  {
   "cell_type": "markdown",
   "metadata": {},
   "source": [
    "Заполним строки с пропусками в столбце 'rating' значением 'unknown', так как количество пропусков достаточно много 40% и удалять их нецелесообразно.\n",
    "\n",
    "Пропуски могут быть связаны с отсутствием рейтинга игры или его не добавили в базу."
   ]
  },
  {
   "cell_type": "code",
   "execution_count": 9,
   "metadata": {},
   "outputs": [],
   "source": [
    "data['rating'] = data['rating'].fillna('unknown')"
   ]
  },
  {
   "cell_type": "code",
   "execution_count": 10,
   "metadata": {},
   "outputs": [
    {
     "name": "stdout",
     "output_type": "stream",
     "text": [
      "<class 'pandas.core.frame.DataFrame'>\n",
      "Int64Index: 16444 entries, 0 to 16714\n",
      "Data columns (total 11 columns):\n",
      " #   Column           Non-Null Count  Dtype  \n",
      "---  ------           --------------  -----  \n",
      " 0   name             16444 non-null  object \n",
      " 1   platform         16444 non-null  object \n",
      " 2   year_of_release  16444 non-null  int64  \n",
      " 3   genre            16444 non-null  object \n",
      " 4   na_sales         16444 non-null  float64\n",
      " 5   eu_sales         16444 non-null  float64\n",
      " 6   jp_sales         16444 non-null  float64\n",
      " 7   other_sales      16444 non-null  float64\n",
      " 8   critic_score     16444 non-null  float64\n",
      " 9   user_score       16444 non-null  float64\n",
      " 10  rating           16444 non-null  object \n",
      "dtypes: float64(6), int64(1), object(4)\n",
      "memory usage: 1.5+ MB\n"
     ]
    }
   ],
   "source": [
    "data.info()"
   ]
  },
  {
   "cell_type": "markdown",
   "metadata": {},
   "source": [
    "####  Посчитаем суммарные продажи во всех регионах и запишем их в отдельный столбец."
   ]
  },
  {
   "cell_type": "code",
   "execution_count": 11,
   "metadata": {},
   "outputs": [
    {
     "data": {
      "text/html": [
       "<div>\n",
       "<style scoped>\n",
       "    .dataframe tbody tr th:only-of-type {\n",
       "        vertical-align: middle;\n",
       "    }\n",
       "\n",
       "    .dataframe tbody tr th {\n",
       "        vertical-align: top;\n",
       "    }\n",
       "\n",
       "    .dataframe thead th {\n",
       "        text-align: right;\n",
       "    }\n",
       "</style>\n",
       "<table border=\"1\" class=\"dataframe\">\n",
       "  <thead>\n",
       "    <tr style=\"text-align: right;\">\n",
       "      <th></th>\n",
       "      <th>name</th>\n",
       "      <th>platform</th>\n",
       "      <th>year_of_release</th>\n",
       "      <th>genre</th>\n",
       "      <th>na_sales</th>\n",
       "      <th>eu_sales</th>\n",
       "      <th>jp_sales</th>\n",
       "      <th>other_sales</th>\n",
       "      <th>critic_score</th>\n",
       "      <th>user_score</th>\n",
       "      <th>rating</th>\n",
       "      <th>total_sales</th>\n",
       "    </tr>\n",
       "  </thead>\n",
       "  <tbody>\n",
       "    <tr>\n",
       "      <th>0</th>\n",
       "      <td>Wii Sports</td>\n",
       "      <td>Wii</td>\n",
       "      <td>2006</td>\n",
       "      <td>Sports</td>\n",
       "      <td>41.36</td>\n",
       "      <td>28.96</td>\n",
       "      <td>3.77</td>\n",
       "      <td>8.45</td>\n",
       "      <td>76.0</td>\n",
       "      <td>8.0</td>\n",
       "      <td>E</td>\n",
       "      <td>82.54</td>\n",
       "    </tr>\n",
       "    <tr>\n",
       "      <th>1</th>\n",
       "      <td>Super Mario Bros.</td>\n",
       "      <td>NES</td>\n",
       "      <td>1985</td>\n",
       "      <td>Platform</td>\n",
       "      <td>29.08</td>\n",
       "      <td>3.58</td>\n",
       "      <td>6.81</td>\n",
       "      <td>0.77</td>\n",
       "      <td>0.0</td>\n",
       "      <td>0.0</td>\n",
       "      <td>unknown</td>\n",
       "      <td>40.24</td>\n",
       "    </tr>\n",
       "    <tr>\n",
       "      <th>2</th>\n",
       "      <td>Mario Kart Wii</td>\n",
       "      <td>Wii</td>\n",
       "      <td>2008</td>\n",
       "      <td>Racing</td>\n",
       "      <td>15.68</td>\n",
       "      <td>12.76</td>\n",
       "      <td>3.79</td>\n",
       "      <td>3.29</td>\n",
       "      <td>82.0</td>\n",
       "      <td>8.3</td>\n",
       "      <td>E</td>\n",
       "      <td>35.52</td>\n",
       "    </tr>\n",
       "    <tr>\n",
       "      <th>3</th>\n",
       "      <td>Wii Sports Resort</td>\n",
       "      <td>Wii</td>\n",
       "      <td>2009</td>\n",
       "      <td>Sports</td>\n",
       "      <td>15.61</td>\n",
       "      <td>10.93</td>\n",
       "      <td>3.28</td>\n",
       "      <td>2.95</td>\n",
       "      <td>80.0</td>\n",
       "      <td>8.0</td>\n",
       "      <td>E</td>\n",
       "      <td>32.77</td>\n",
       "    </tr>\n",
       "    <tr>\n",
       "      <th>4</th>\n",
       "      <td>Pokemon Red/Pokemon Blue</td>\n",
       "      <td>GB</td>\n",
       "      <td>1996</td>\n",
       "      <td>Role-Playing</td>\n",
       "      <td>11.27</td>\n",
       "      <td>8.89</td>\n",
       "      <td>10.22</td>\n",
       "      <td>1.00</td>\n",
       "      <td>0.0</td>\n",
       "      <td>0.0</td>\n",
       "      <td>unknown</td>\n",
       "      <td>31.38</td>\n",
       "    </tr>\n",
       "    <tr>\n",
       "      <th>5</th>\n",
       "      <td>Tetris</td>\n",
       "      <td>GB</td>\n",
       "      <td>1989</td>\n",
       "      <td>Puzzle</td>\n",
       "      <td>23.20</td>\n",
       "      <td>2.26</td>\n",
       "      <td>4.22</td>\n",
       "      <td>0.58</td>\n",
       "      <td>0.0</td>\n",
       "      <td>0.0</td>\n",
       "      <td>unknown</td>\n",
       "      <td>30.26</td>\n",
       "    </tr>\n",
       "    <tr>\n",
       "      <th>6</th>\n",
       "      <td>New Super Mario Bros.</td>\n",
       "      <td>DS</td>\n",
       "      <td>2006</td>\n",
       "      <td>Platform</td>\n",
       "      <td>11.28</td>\n",
       "      <td>9.14</td>\n",
       "      <td>6.50</td>\n",
       "      <td>2.88</td>\n",
       "      <td>89.0</td>\n",
       "      <td>8.5</td>\n",
       "      <td>E</td>\n",
       "      <td>29.80</td>\n",
       "    </tr>\n",
       "    <tr>\n",
       "      <th>7</th>\n",
       "      <td>Wii Play</td>\n",
       "      <td>Wii</td>\n",
       "      <td>2006</td>\n",
       "      <td>Misc</td>\n",
       "      <td>13.96</td>\n",
       "      <td>9.18</td>\n",
       "      <td>2.93</td>\n",
       "      <td>2.84</td>\n",
       "      <td>58.0</td>\n",
       "      <td>6.6</td>\n",
       "      <td>E</td>\n",
       "      <td>28.91</td>\n",
       "    </tr>\n",
       "    <tr>\n",
       "      <th>8</th>\n",
       "      <td>New Super Mario Bros. Wii</td>\n",
       "      <td>Wii</td>\n",
       "      <td>2009</td>\n",
       "      <td>Platform</td>\n",
       "      <td>14.44</td>\n",
       "      <td>6.94</td>\n",
       "      <td>4.70</td>\n",
       "      <td>2.24</td>\n",
       "      <td>87.0</td>\n",
       "      <td>8.4</td>\n",
       "      <td>E</td>\n",
       "      <td>28.32</td>\n",
       "    </tr>\n",
       "    <tr>\n",
       "      <th>9</th>\n",
       "      <td>Duck Hunt</td>\n",
       "      <td>NES</td>\n",
       "      <td>1984</td>\n",
       "      <td>Shooter</td>\n",
       "      <td>26.93</td>\n",
       "      <td>0.63</td>\n",
       "      <td>0.28</td>\n",
       "      <td>0.47</td>\n",
       "      <td>0.0</td>\n",
       "      <td>0.0</td>\n",
       "      <td>unknown</td>\n",
       "      <td>28.31</td>\n",
       "    </tr>\n",
       "  </tbody>\n",
       "</table>\n",
       "</div>"
      ],
      "text/plain": [
       "                        name platform  year_of_release         genre  \\\n",
       "0                 Wii Sports      Wii             2006        Sports   \n",
       "1          Super Mario Bros.      NES             1985      Platform   \n",
       "2             Mario Kart Wii      Wii             2008        Racing   \n",
       "3          Wii Sports Resort      Wii             2009        Sports   \n",
       "4   Pokemon Red/Pokemon Blue       GB             1996  Role-Playing   \n",
       "5                     Tetris       GB             1989        Puzzle   \n",
       "6      New Super Mario Bros.       DS             2006      Platform   \n",
       "7                   Wii Play      Wii             2006          Misc   \n",
       "8  New Super Mario Bros. Wii      Wii             2009      Platform   \n",
       "9                  Duck Hunt      NES             1984       Shooter   \n",
       "\n",
       "   na_sales  eu_sales  jp_sales  other_sales  critic_score  user_score  \\\n",
       "0     41.36     28.96      3.77         8.45          76.0         8.0   \n",
       "1     29.08      3.58      6.81         0.77           0.0         0.0   \n",
       "2     15.68     12.76      3.79         3.29          82.0         8.3   \n",
       "3     15.61     10.93      3.28         2.95          80.0         8.0   \n",
       "4     11.27      8.89     10.22         1.00           0.0         0.0   \n",
       "5     23.20      2.26      4.22         0.58           0.0         0.0   \n",
       "6     11.28      9.14      6.50         2.88          89.0         8.5   \n",
       "7     13.96      9.18      2.93         2.84          58.0         6.6   \n",
       "8     14.44      6.94      4.70         2.24          87.0         8.4   \n",
       "9     26.93      0.63      0.28         0.47           0.0         0.0   \n",
       "\n",
       "    rating  total_sales  \n",
       "0        E        82.54  \n",
       "1  unknown        40.24  \n",
       "2        E        35.52  \n",
       "3        E        32.77  \n",
       "4  unknown        31.38  \n",
       "5  unknown        30.26  \n",
       "6        E        29.80  \n",
       "7        E        28.91  \n",
       "8        E        28.32  \n",
       "9  unknown        28.31  "
      ]
     },
     "metadata": {},
     "output_type": "display_data"
    }
   ],
   "source": [
    "data['total_sales'] = data['na_sales'] + data['eu_sales'] + data['jp_sales'] + data['other_sales'] \n",
    "display(data.head(10))"
   ]
  },
  {
   "cell_type": "markdown",
   "metadata": {},
   "source": [
    "<div class=\"alert alert-block alert-success\">\n",
    "<b>✅Комментарий ревьюера:</b> \n",
    "    \n",
    "Тут можно использовать метод `DataFrame.sum` с аргументом `axis=1`</div>\n",
    "\n",
    "```python\n",
    "\n",
    "        df['total_sum'] = df[['value_1', 'value_2', 'value_3']].sum(axis=1)\n",
    "    \n",
    "```\n",
    "\n",
    "✔ Спасибо!"
   ]
  },
  {
   "cell_type": "markdown",
   "metadata": {},
   "source": [
    "#### Вывод\n",
    "\n",
    "- привели названия столбцов к нижнему регистру\n",
    "- преобразовали данные в нужные типы\n",
    "  - данные столбца 'year_of_release' привели к целочисленному типу int\n",
    "  - данные столбца 'user_score' имеют тип object. Для того, чтобы перевести данные в тип float64, нужно сначала изменить      аббревиатуру 'tbd' to be determined , которая означает, что данные должны быть определены, то есть 'tbd' означает пропуск.  Заменили 'tbd' на значение 'NaN', полсе чего изменли тип столбца на float64\n",
    "- обработаем пропуски\n",
    "  - заполнили пропуски 'NaN' в столбце 'user_score' значением 0\n",
    "  - заполним пропуски в столбце 'critic_score' значением 0\n",
    "  - заполнили пропуски в столбце 'rating' значением 'unknown'\n",
    "\n",
    "Пропуски в столбцах можно связать с отсутствием оценок от пользователей и критиков и с отсутсвием рейтингов у некоторых игр. Возможно, данные просто не были заведены в базу.   \n",
    "\n",
    "-  Посчитали суммарные продажи во всех регионах и записали их в отдельный столбец 'total_sales'."
   ]
  },
  {
   "cell_type": "markdown",
   "metadata": {},
   "source": [
    "<div class=\"alert alert-block alert-success\">\n",
    "<b>✅Комментарий ревьюера:</b> Пропуски и типы данных обработаны, дополнительный столбец рассчитан и добавлен, можно приступать к исследованию!🙂 </div>"
   ]
  },
  {
   "cell_type": "markdown",
   "metadata": {},
   "source": [
    "###  Исследовательский анализ данных"
   ]
  },
  {
   "cell_type": "markdown",
   "metadata": {},
   "source": [
    "#### Изучим, сколько игр выпускалось в разные годы."
   ]
  },
  {
   "cell_type": "code",
   "execution_count": 12,
   "metadata": {},
   "outputs": [
    {
     "data": {
      "text/plain": [
       "<AxesSubplot:title={'center':'Количество выпускаемых игр по годам'}, xlabel='year_of_release'>"
      ]
     },
     "execution_count": 12,
     "metadata": {},
     "output_type": "execute_result"
    },
    {
     "data": {
      "image/png": "[encoded data removed]",
      "text/plain": [
       "<Figure size 720x360 with 1 Axes>"
      ]
     },
     "metadata": {
      "needs_background": "light"
     },
     "output_type": "display_data"
    }
   ],
   "source": [
    "data_year = data.pivot_table(index='year_of_release', values='name', aggfunc='count')\n",
    "data_year.plot(grid = True, y = 'name', style='o-',figsize=(10, 5), label = 'Count of games', title = 'Количество выпускаемых игр по годам')\n",
    "# print(data_year)"
   ]
  },
  {
   "cell_type": "markdown",
   "metadata": {},
   "source": [
    "\n",
    "Данные за период до 1994 - 1995 г. не так важны, так как количество выпускаемых игр в эти годы достаточно мало.\n",
    "Резкий рост количества игр наблюдается за период с 2000 до 2010 г., после 2010 г. наблюдается спад."
   ]
  },
  {
   "cell_type": "markdown",
   "metadata": {},
   "source": [
    "#### Изучим, как менялись продажи по платформам."
   ]
  },
  {
   "cell_type": "code",
   "execution_count": 13,
   "metadata": {},
   "outputs": [
    {
     "name": "stdout",
     "output_type": "stream",
     "text": [
      "          total_sales\n",
      "platform             \n",
      "PS2           1233.56\n",
      "X360           961.24\n",
      "PS3            931.34\n",
      "Wii            891.18\n",
      "DS             802.78\n",
      "PS             727.58\n",
      "PS4            314.14\n",
      "GBA            312.88\n",
      "PSP            289.53\n",
      "3DS            257.81\n",
      "PC             255.76\n",
      "GB             254.43\n",
      "XB             251.57\n",
      "NES            251.05\n",
      "N64            218.01\n",
      "SNES           200.04\n",
      "GC             196.73\n",
      "XOne           159.32\n",
      "2600            86.48\n",
      "WiiU            82.19\n",
      "PSV             53.81\n",
      "SAT             33.59\n",
      "GEN             28.35\n",
      "DC              15.95\n",
      "SCD              1.86\n",
      "NG               1.44\n",
      "WS               1.42\n",
      "TG16             0.16\n",
      "3DO              0.10\n",
      "GG               0.04\n",
      "PCFX             0.03\n"
     ]
    }
   ],
   "source": [
    "data_platform_all = data.pivot_table(index='platform', values='total_sales', aggfunc='sum').sort_values(by='total_sales', ascending=False)\n",
    "print(data_platform_all)\n",
    "platform_max_sales = ['PS2','X360','Wii','PS3','DS','PS','GBA','PS4','PSP','GB','NES','3DS','XB','PC','N64','SNES','GC','XOne']      \n",
    "data_platform_max_sales = data.query('platform in @platform_max_sales')"
   ]
  },
  {
   "cell_type": "markdown",
   "metadata": {},
   "source": [
    "выделим платформы с общим кол-вом продаваемых экземпляров более 100 млн."
   ]
  },
  {
   "cell_type": "markdown",
   "metadata": {},
   "source": [
    "##### Построим распределение по годам для платформы с наибольшим количеством проданных экземпляров копий."
   ]
  },
  {
   "cell_type": "code",
   "execution_count": 14,
   "metadata": {},
   "outputs": [
    {
     "data": {
      "image/png": "[encoded data removed]",
      "text/plain": [
       "<Figure size 1440x504 with 1 Axes>"
      ]
     },
     "metadata": {
      "needs_background": "light"
     },
     "output_type": "display_data"
    }
   ],
   "source": [
    "data_platform_by_years = data_platform_max_sales.pivot_table(index='year_of_release', columns='platform', values='total_sales', aggfunc='sum')\n",
    "data_platform_by_years.plot(grid = True, style='o-',figsize=(20, 7), label = 'Count of games', title = 'Распределение суммарных продаж по годам')\n",
    "plt.show()"
   ]
  },
  {
   "cell_type": "markdown",
   "metadata": {},
   "source": [
    "Характерный срок появлявления новых и исчезновения старых платформ составляет примерно 10 лет. Это хорошо прослеживается на примере PS платформ."
   ]
  },
  {
   "cell_type": "markdown",
   "metadata": {},
   "source": [
    "<div class=\"alert alert-block alert-success\">\n",
    "<b>✅Комментарий ревьюера:</b> Все верно</div>"
   ]
  },
  {
   "cell_type": "markdown",
   "metadata": {},
   "source": [
    "##### Построим график зависимости суммарных продаж за последний год с 2015 по 2016 для платформ с максимальным количеством проданных экземпляров копий. "
   ]
  },
  {
   "cell_type": "markdown",
   "metadata": {},
   "source": [
    "Определим актуальный период - будем рассматривать 2015 - 2016. Данные за предыдущие годы не учитываем. Так как нам нужно спрогнозировать потенциально прибыльные платформы на 2017, далее будем рассматривать платформы, которые остались на 2015-2016 год. Сделаем срез по 2015-2016 году. Новую базу данных назовем data_last_year."
   ]
  },
  {
   "cell_type": "code",
   "execution_count": 15,
   "metadata": {},
   "outputs": [
    {
     "data": {
      "image/png": "[encoded data removed]",
      "text/plain": [
       "<Figure size 720x360 with 1 Axes>"
      ]
     },
     "metadata": {
      "needs_background": "light"
     },
     "output_type": "display_data"
    }
   ],
   "source": [
    "data_last_year = data_platform_max_sales.query('2015 <= year_of_release <= 2016' )\n",
    "\n",
    "data_platform_top_sales_year = data_last_year.pivot_table(index='year_of_release', columns='platform', values='total_sales', aggfunc='sum')\n",
    "data_platform_top_sales_year.plot(grid = True, style='o-',figsize=(10, 5), label = 'Count of games', title = 'Распределение суммарных продаж по годам')\n",
    "plt.show()\n",
    "#print(data_platform)"
   ]
  },
  {
   "cell_type": "markdown",
   "metadata": {},
   "source": [
    "<div class=\"alert alert-block alert-success\">\n",
    "<b>✅Комментарий ревьюера:</b> Согласен с выбранным актуальным периодом! </div>"
   ]
  },
  {
   "cell_type": "code",
   "execution_count": 16,
   "metadata": {},
   "outputs": [
    {
     "name": "stderr",
     "output_type": "stream",
     "text": [
      "/tmp/ipykernel_48/1755219140.py:1: FutureWarning: Indexing with multiple keys (implicitly converted to a tuple of keys) will be deprecated, use a list instead.\n",
      "  data_last_year.groupby(['platform'])['na_sales', 'eu_sales', 'jp_sales', 'other_sales', 'total_sales'].sum().sort_values(by='total_sales', ascending=False)\n"
     ]
    },
    {
     "data": {
      "text/html": [
       "<div>\n",
       "<style scoped>\n",
       "    .dataframe tbody tr th:only-of-type {\n",
       "        vertical-align: middle;\n",
       "    }\n",
       "\n",
       "    .dataframe tbody tr th {\n",
       "        vertical-align: top;\n",
       "    }\n",
       "\n",
       "    .dataframe thead th {\n",
       "        text-align: right;\n",
       "    }\n",
       "</style>\n",
       "<table border=\"1\" class=\"dataframe\">\n",
       "  <thead>\n",
       "    <tr style=\"text-align: right;\">\n",
       "      <th></th>\n",
       "      <th>na_sales</th>\n",
       "      <th>eu_sales</th>\n",
       "      <th>jp_sales</th>\n",
       "      <th>other_sales</th>\n",
       "      <th>total_sales</th>\n",
       "    </tr>\n",
       "    <tr>\n",
       "      <th>platform</th>\n",
       "      <th></th>\n",
       "      <th></th>\n",
       "      <th></th>\n",
       "      <th></th>\n",
       "      <th></th>\n",
       "    </tr>\n",
       "  </thead>\n",
       "  <tbody>\n",
       "    <tr>\n",
       "      <th>PS4</th>\n",
       "      <td>63.86</td>\n",
       "      <td>83.54</td>\n",
       "      <td>12.05</td>\n",
       "      <td>28.70</td>\n",
       "      <td>188.15</td>\n",
       "    </tr>\n",
       "    <tr>\n",
       "      <th>XOne</th>\n",
       "      <td>50.30</td>\n",
       "      <td>28.10</td>\n",
       "      <td>0.18</td>\n",
       "      <td>7.71</td>\n",
       "      <td>86.29</td>\n",
       "    </tr>\n",
       "    <tr>\n",
       "      <th>3DS</th>\n",
       "      <td>10.31</td>\n",
       "      <td>7.39</td>\n",
       "      <td>23.55</td>\n",
       "      <td>1.67</td>\n",
       "      <td>42.92</td>\n",
       "    </tr>\n",
       "    <tr>\n",
       "      <th>PS3</th>\n",
       "      <td>5.66</td>\n",
       "      <td>7.30</td>\n",
       "      <td>4.97</td>\n",
       "      <td>2.49</td>\n",
       "      <td>20.42</td>\n",
       "    </tr>\n",
       "    <tr>\n",
       "      <th>PC</th>\n",
       "      <td>3.72</td>\n",
       "      <td>9.10</td>\n",
       "      <td>0.00</td>\n",
       "      <td>0.95</td>\n",
       "      <td>13.77</td>\n",
       "    </tr>\n",
       "    <tr>\n",
       "      <th>X360</th>\n",
       "      <td>8.05</td>\n",
       "      <td>4.21</td>\n",
       "      <td>0.00</td>\n",
       "      <td>1.22</td>\n",
       "      <td>13.48</td>\n",
       "    </tr>\n",
       "    <tr>\n",
       "      <th>Wii</th>\n",
       "      <td>0.49</td>\n",
       "      <td>0.73</td>\n",
       "      <td>0.00</td>\n",
       "      <td>0.10</td>\n",
       "      <td>1.32</td>\n",
       "    </tr>\n",
       "    <tr>\n",
       "      <th>PSP</th>\n",
       "      <td>0.00</td>\n",
       "      <td>0.00</td>\n",
       "      <td>0.12</td>\n",
       "      <td>0.00</td>\n",
       "      <td>0.12</td>\n",
       "    </tr>\n",
       "  </tbody>\n",
       "</table>\n",
       "</div>"
      ],
      "text/plain": [
       "          na_sales  eu_sales  jp_sales  other_sales  total_sales\n",
       "platform                                                        \n",
       "PS4          63.86     83.54     12.05        28.70       188.15\n",
       "XOne         50.30     28.10      0.18         7.71        86.29\n",
       "3DS          10.31      7.39     23.55         1.67        42.92\n",
       "PS3           5.66      7.30      4.97         2.49        20.42\n",
       "PC            3.72      9.10      0.00         0.95        13.77\n",
       "X360          8.05      4.21      0.00         1.22        13.48\n",
       "Wii           0.49      0.73      0.00         0.10         1.32\n",
       "PSP           0.00      0.00      0.12         0.00         0.12"
      ]
     },
     "execution_count": 16,
     "metadata": {},
     "output_type": "execute_result"
    }
   ],
   "source": [
    "data_last_year.groupby(['platform'])['na_sales', 'eu_sales', 'jp_sales', 'other_sales', 'total_sales'].sum().sort_values(by='total_sales', ascending=False)"
   ]
  },
  {
   "cell_type": "markdown",
   "metadata": {},
   "source": [
    "Из графика видно, что количество проданных экземпляров копий на всех платформах уменьшаются за последний год. Тем не менее, по продажам лидируют и являются потенциально прибыльными -  платформы Sony PS4, Microsoft XOne и Nintendo 3DS."
   ]
  },
  {
   "cell_type": "markdown",
   "metadata": {},
   "source": [
    "#### Выберем потенциально прибыльные платформы"
   ]
  },
  {
   "cell_type": "markdown",
   "metadata": {},
   "source": [
    "Сделаем срез по датафрейму по потенциально прибыльным платформам за последний год."
   ]
  },
  {
   "cell_type": "code",
   "execution_count": 17,
   "metadata": {},
   "outputs": [
    {
     "data": {
      "text/html": [
       "<div>\n",
       "<style scoped>\n",
       "    .dataframe tbody tr th:only-of-type {\n",
       "        vertical-align: middle;\n",
       "    }\n",
       "\n",
       "    .dataframe tbody tr th {\n",
       "        vertical-align: top;\n",
       "    }\n",
       "\n",
       "    .dataframe thead th {\n",
       "        text-align: right;\n",
       "    }\n",
       "</style>\n",
       "<table border=\"1\" class=\"dataframe\">\n",
       "  <thead>\n",
       "    <tr style=\"text-align: right;\">\n",
       "      <th></th>\n",
       "      <th>name</th>\n",
       "      <th>platform</th>\n",
       "      <th>year_of_release</th>\n",
       "      <th>genre</th>\n",
       "      <th>na_sales</th>\n",
       "      <th>eu_sales</th>\n",
       "      <th>jp_sales</th>\n",
       "      <th>other_sales</th>\n",
       "      <th>critic_score</th>\n",
       "      <th>user_score</th>\n",
       "      <th>rating</th>\n",
       "      <th>total_sales</th>\n",
       "    </tr>\n",
       "  </thead>\n",
       "  <tbody>\n",
       "    <tr>\n",
       "      <th>31</th>\n",
       "      <td>Call of Duty: Black Ops 3</td>\n",
       "      <td>PS4</td>\n",
       "      <td>2015</td>\n",
       "      <td>Shooter</td>\n",
       "      <td>6.03</td>\n",
       "      <td>5.86</td>\n",
       "      <td>0.36</td>\n",
       "      <td>2.38</td>\n",
       "      <td>0.0</td>\n",
       "      <td>0.0</td>\n",
       "      <td>unknown</td>\n",
       "      <td>14.63</td>\n",
       "    </tr>\n",
       "    <tr>\n",
       "      <th>77</th>\n",
       "      <td>FIFA 16</td>\n",
       "      <td>PS4</td>\n",
       "      <td>2015</td>\n",
       "      <td>Sports</td>\n",
       "      <td>1.12</td>\n",
       "      <td>6.12</td>\n",
       "      <td>0.06</td>\n",
       "      <td>1.28</td>\n",
       "      <td>82.0</td>\n",
       "      <td>4.3</td>\n",
       "      <td>E</td>\n",
       "      <td>8.58</td>\n",
       "    </tr>\n",
       "    <tr>\n",
       "      <th>87</th>\n",
       "      <td>Star Wars Battlefront (2015)</td>\n",
       "      <td>PS4</td>\n",
       "      <td>2015</td>\n",
       "      <td>Shooter</td>\n",
       "      <td>2.99</td>\n",
       "      <td>3.49</td>\n",
       "      <td>0.22</td>\n",
       "      <td>1.28</td>\n",
       "      <td>0.0</td>\n",
       "      <td>0.0</td>\n",
       "      <td>unknown</td>\n",
       "      <td>7.98</td>\n",
       "    </tr>\n",
       "    <tr>\n",
       "      <th>94</th>\n",
       "      <td>FIFA 17</td>\n",
       "      <td>PS4</td>\n",
       "      <td>2016</td>\n",
       "      <td>Sports</td>\n",
       "      <td>0.66</td>\n",
       "      <td>5.75</td>\n",
       "      <td>0.08</td>\n",
       "      <td>1.11</td>\n",
       "      <td>85.0</td>\n",
       "      <td>5.0</td>\n",
       "      <td>E</td>\n",
       "      <td>7.60</td>\n",
       "    </tr>\n",
       "    <tr>\n",
       "      <th>99</th>\n",
       "      <td>Call of Duty: Black Ops 3</td>\n",
       "      <td>XOne</td>\n",
       "      <td>2015</td>\n",
       "      <td>Shooter</td>\n",
       "      <td>4.59</td>\n",
       "      <td>2.11</td>\n",
       "      <td>0.01</td>\n",
       "      <td>0.68</td>\n",
       "      <td>0.0</td>\n",
       "      <td>0.0</td>\n",
       "      <td>unknown</td>\n",
       "      <td>7.39</td>\n",
       "    </tr>\n",
       "    <tr>\n",
       "      <th>105</th>\n",
       "      <td>Fallout 4</td>\n",
       "      <td>PS4</td>\n",
       "      <td>2015</td>\n",
       "      <td>Role-Playing</td>\n",
       "      <td>2.53</td>\n",
       "      <td>3.27</td>\n",
       "      <td>0.24</td>\n",
       "      <td>1.13</td>\n",
       "      <td>87.0</td>\n",
       "      <td>6.5</td>\n",
       "      <td>M</td>\n",
       "      <td>7.17</td>\n",
       "    </tr>\n",
       "    <tr>\n",
       "      <th>108</th>\n",
       "      <td>Pokemon Sun/Moon</td>\n",
       "      <td>3DS</td>\n",
       "      <td>2016</td>\n",
       "      <td>Role-Playing</td>\n",
       "      <td>2.98</td>\n",
       "      <td>1.45</td>\n",
       "      <td>2.26</td>\n",
       "      <td>0.45</td>\n",
       "      <td>0.0</td>\n",
       "      <td>0.0</td>\n",
       "      <td>unknown</td>\n",
       "      <td>7.14</td>\n",
       "    </tr>\n",
       "    <tr>\n",
       "      <th>171</th>\n",
       "      <td>Uncharted 4: A Thief's End</td>\n",
       "      <td>PS4</td>\n",
       "      <td>2016</td>\n",
       "      <td>Shooter</td>\n",
       "      <td>1.85</td>\n",
       "      <td>2.50</td>\n",
       "      <td>0.19</td>\n",
       "      <td>0.85</td>\n",
       "      <td>93.0</td>\n",
       "      <td>7.9</td>\n",
       "      <td>T</td>\n",
       "      <td>5.39</td>\n",
       "    </tr>\n",
       "    <tr>\n",
       "      <th>231</th>\n",
       "      <td>Uncharted: The Nathan Drake Collection</td>\n",
       "      <td>PS4</td>\n",
       "      <td>2015</td>\n",
       "      <td>Action</td>\n",
       "      <td>2.07</td>\n",
       "      <td>1.71</td>\n",
       "      <td>0.08</td>\n",
       "      <td>0.76</td>\n",
       "      <td>86.0</td>\n",
       "      <td>8.1</td>\n",
       "      <td>T</td>\n",
       "      <td>4.62</td>\n",
       "    </tr>\n",
       "    <tr>\n",
       "      <th>242</th>\n",
       "      <td>Halo 5: Guardians</td>\n",
       "      <td>XOne</td>\n",
       "      <td>2015</td>\n",
       "      <td>Shooter</td>\n",
       "      <td>2.78</td>\n",
       "      <td>1.27</td>\n",
       "      <td>0.03</td>\n",
       "      <td>0.41</td>\n",
       "      <td>84.0</td>\n",
       "      <td>6.4</td>\n",
       "      <td>T</td>\n",
       "      <td>4.49</td>\n",
       "    </tr>\n",
       "  </tbody>\n",
       "</table>\n",
       "</div>"
      ],
      "text/plain": [
       "                                       name platform  year_of_release  \\\n",
       "31                Call of Duty: Black Ops 3      PS4             2015   \n",
       "77                                  FIFA 16      PS4             2015   \n",
       "87             Star Wars Battlefront (2015)      PS4             2015   \n",
       "94                                  FIFA 17      PS4             2016   \n",
       "99                Call of Duty: Black Ops 3     XOne             2015   \n",
       "105                               Fallout 4      PS4             2015   \n",
       "108                        Pokemon Sun/Moon      3DS             2016   \n",
       "171              Uncharted 4: A Thief's End      PS4             2016   \n",
       "231  Uncharted: The Nathan Drake Collection      PS4             2015   \n",
       "242                       Halo 5: Guardians     XOne             2015   \n",
       "\n",
       "            genre  na_sales  eu_sales  jp_sales  other_sales  critic_score  \\\n",
       "31        Shooter      6.03      5.86      0.36         2.38           0.0   \n",
       "77         Sports      1.12      6.12      0.06         1.28          82.0   \n",
       "87        Shooter      2.99      3.49      0.22         1.28           0.0   \n",
       "94         Sports      0.66      5.75      0.08         1.11          85.0   \n",
       "99        Shooter      4.59      2.11      0.01         0.68           0.0   \n",
       "105  Role-Playing      2.53      3.27      0.24         1.13          87.0   \n",
       "108  Role-Playing      2.98      1.45      2.26         0.45           0.0   \n",
       "171       Shooter      1.85      2.50      0.19         0.85          93.0   \n",
       "231        Action      2.07      1.71      0.08         0.76          86.0   \n",
       "242       Shooter      2.78      1.27      0.03         0.41          84.0   \n",
       "\n",
       "     user_score   rating  total_sales  \n",
       "31          0.0  unknown        14.63  \n",
       "77          4.3        E         8.58  \n",
       "87          0.0  unknown         7.98  \n",
       "94          5.0        E         7.60  \n",
       "99          0.0  unknown         7.39  \n",
       "105         6.5        M         7.17  \n",
       "108         0.0  unknown         7.14  \n",
       "171         7.9        T         5.39  \n",
       "231         8.1        T         4.62  \n",
       "242         6.4        T         4.49  "
      ]
     },
     "metadata": {},
     "output_type": "display_data"
    }
   ],
   "source": [
    "platform_top = ['PS4','3DS','XOne']\n",
    "data_last_year_top = data_last_year.query('platform in @platform_top')\n",
    "display(data_last_year_top.head(10))"
   ]
  },
  {
   "cell_type": "markdown",
   "metadata": {
    "id": "5766e785"
   },
   "source": [
    "<div class=\"alert alert-block alert-danger\">\n",
    "<b>❌Комментарий ревьюера:</b> \n",
    "    \n",
    "Далее нам не нужно делать фильтрацию по платформам. Мы выделили перспективные платформы и чтобы в этом убедиться нужно дальнейшее исследование провести на всех данных из актуального периода.</div>"
   ]
  },
  {
   "cell_type": "markdown",
   "metadata": {},
   "source": [
    "<div class=\"alert alert-block alert-info\">\n",
    "<b>🔄Комментарий студента:</b> \n",
    "В дальнейшем использовала данный срез только для построения графика «ящик с усами» для потенциально прибыльных платформ в следующем задании 3.4. \n",
    "</div>"
   ]
  },
  {
   "cell_type": "markdown",
   "metadata": {},
   "source": [
    "<div class=\"alert alert-block alert-success\">\n",
    "<b>✅Комментарий ревьюера 2:</b> Отлично, исправлено!👍  </div>"
   ]
  },
  {
   "cell_type": "markdown",
   "metadata": {},
   "source": [
    "#### Построим график «ящик с усами» по глобальным продажам игр в разбивке по платформам. "
   ]
  },
  {
   "cell_type": "markdown",
   "metadata": {},
   "source": [
    "Построим график «ящик с усами» для потенциально прибыльных платформ."
   ]
  },
  {
   "cell_type": "code",
   "execution_count": 18,
   "metadata": {
    "scrolled": true
   },
   "outputs": [
    {
     "data": {
      "text/html": [
       "<div>\n",
       "<style scoped>\n",
       "    .dataframe tbody tr th:only-of-type {\n",
       "        vertical-align: middle;\n",
       "    }\n",
       "\n",
       "    .dataframe tbody tr th {\n",
       "        vertical-align: top;\n",
       "    }\n",
       "\n",
       "    .dataframe thead th {\n",
       "        text-align: right;\n",
       "    }\n",
       "</style>\n",
       "<table border=\"1\" class=\"dataframe\">\n",
       "  <thead>\n",
       "    <tr style=\"text-align: right;\">\n",
       "      <th></th>\n",
       "      <th>count</th>\n",
       "      <th>mean</th>\n",
       "      <th>std</th>\n",
       "      <th>min</th>\n",
       "      <th>25%</th>\n",
       "      <th>50%</th>\n",
       "      <th>75%</th>\n",
       "      <th>max</th>\n",
       "    </tr>\n",
       "    <tr>\n",
       "      <th>platform</th>\n",
       "      <th></th>\n",
       "      <th></th>\n",
       "      <th></th>\n",
       "      <th></th>\n",
       "      <th></th>\n",
       "      <th></th>\n",
       "      <th></th>\n",
       "      <th></th>\n",
       "    </tr>\n",
       "  </thead>\n",
       "  <tbody>\n",
       "    <tr>\n",
       "      <th>3DS</th>\n",
       "      <td>132.0</td>\n",
       "      <td>0.325152</td>\n",
       "      <td>0.798620</td>\n",
       "      <td>0.01</td>\n",
       "      <td>0.030</td>\n",
       "      <td>0.09</td>\n",
       "      <td>0.2325</td>\n",
       "      <td>7.14</td>\n",
       "    </tr>\n",
       "    <tr>\n",
       "      <th>PS4</th>\n",
       "      <td>301.0</td>\n",
       "      <td>0.625083</td>\n",
       "      <td>1.457063</td>\n",
       "      <td>0.01</td>\n",
       "      <td>0.050</td>\n",
       "      <td>0.12</td>\n",
       "      <td>0.4200</td>\n",
       "      <td>14.63</td>\n",
       "    </tr>\n",
       "    <tr>\n",
       "      <th>XOne</th>\n",
       "      <td>167.0</td>\n",
       "      <td>0.516707</td>\n",
       "      <td>0.965940</td>\n",
       "      <td>0.01</td>\n",
       "      <td>0.035</td>\n",
       "      <td>0.13</td>\n",
       "      <td>0.5550</td>\n",
       "      <td>7.39</td>\n",
       "    </tr>\n",
       "  </tbody>\n",
       "</table>\n",
       "</div>"
      ],
      "text/plain": [
       "          count      mean       std   min    25%   50%     75%    max\n",
       "platform                                                             \n",
       "3DS       132.0  0.325152  0.798620  0.01  0.030  0.09  0.2325   7.14\n",
       "PS4       301.0  0.625083  1.457063  0.01  0.050  0.12  0.4200  14.63\n",
       "XOne      167.0  0.516707  0.965940  0.01  0.035  0.13  0.5550   7.39"
      ]
     },
     "execution_count": 18,
     "metadata": {},
     "output_type": "execute_result"
    }
   ],
   "source": [
    "import matplotlib.pyplot as plt \n",
    "\n",
    "data_last_year_top.groupby('platform')['total_sales'].describe()\n"
   ]
  },
  {
   "cell_type": "code",
   "execution_count": 19,
   "metadata": {},
   "outputs": [
    {
     "data": {
      "text/plain": [
       "Text(0.5, 0, 'Платформа')"
      ]
     },
     "execution_count": 19,
     "metadata": {},
     "output_type": "execute_result"
    },
    {
     "data": {
      "image/png": "[encoded data removed]",
      "text/plain": [
       "<Figure size 720x576 with 1 Axes>"
      ]
     },
     "metadata": {
      "needs_background": "light"
     },
     "output_type": "display_data"
    }
   ],
   "source": [
    "data_last_year_top.boxplot(column='total_sales', by='platform', figsize=(10, 8))\n",
    "plt.ylabel('Глобальные продажи')\n",
    "plt.xlabel('Платформа')"
   ]
  },
  {
   "cell_type": "markdown",
   "metadata": {},
   "source": [
    "<div class=\"alert alert-block alert-success\">\n",
    "<b>✅Комментарий ревьюера:</b> \n",
    "    \n",
    "Для удобства можно расположить диаграммы горизонтально (пример ниже). Для визуализации мне больше нравится библиотека seaborn. Есть [отличная статья](https://habr.com/ru/post/468295/), где показаны различные способы визуализации. Может быть тебе пригодится)</div> \n",
    "\n",
    "✔ Спасибо!"
   ]
  },
  {
   "cell_type": "code",
   "execution_count": 20,
   "metadata": {
    "scrolled": false
   },
   "outputs": [
    {
     "data": {
      "image/png": "[encoded data removed]",
      "text/plain": [
       "<Figure size 1224x792 with 1 Axes>"
      ]
     },
     "metadata": {
      "needs_background": "light"
     },
     "output_type": "display_data"
    }
   ],
   "source": [
    "# код ревьюера\n",
    "\n",
    "import seaborn as sns\n",
    "\n",
    "plt.figure(figsize=(17, 11))\n",
    "sns.boxplot(data=data_last_year_top, y='platform', x='total_sales')\n",
    "plt.xlim(-0.1, 5)\n",
    "\n",
    "plt.title('Объемы продаж игр на разных платформах', size=17)\n",
    "plt.xlabel('Объем продаж', size=12)\n",
    "plt.ylabel('Название платформы', size=12)\n",
    "\n",
    "plt.show()"
   ]
  },
  {
   "cell_type": "markdown",
   "metadata": {},
   "source": [
    "Анализируя полученную диаграмму и описание можно сделать вывод:\n",
    "- платформа PS4 лидирует среди других платформ по количеству средней продажи за игру в 2015-2016 гг. - 625 тыс. копий, а также по количеству игр, которые проданы в количестве от 1 млн. копий и более. Есть даже игра, продажи которой составили свыше 14 млн. копий. На втором месте платформа XOne - 517 тыс. копий. На третьем месте платформа 3DS со средним количеством продаваемых копий - 325 тыс. \n",
    "- Медианное значение для этих платформ примерно одинаковое\n",
    "- PS4 лидирует за счёт наличия очень популярных игр (значения за пределами \"усов\", выбросов)\n",
    "- Тем не менее нет необходимости удалять выбросы, так как , возможно, именно игры с продажей максимального количества копий помогут выявить определяющие успешность платформы закономерности. "
   ]
  },
  {
   "cell_type": "markdown",
   "metadata": {},
   "source": [
    "#### Изучим, как влияют на продажи внутри одной популярной платформы (например, PS4) отзывы пользователей и критиков."
   ]
  },
  {
   "cell_type": "markdown",
   "metadata": {},
   "source": [
    " - Построим диаграммы рассеяния, показывающие связь между оценками пользователей или критиков и количеством проданных копий (млн.)\n",
    " - рассчитаеми  коэф. Пирсона и оценим корреляцию между отзывами пользователей и критиков и продажами на платформе PS4. "
   ]
  },
  {
   "cell_type": "code",
   "execution_count": 21,
   "metadata": {},
   "outputs": [
    {
     "name": "stdout",
     "output_type": "stream",
     "text": [
      "коэффициент Пирсона =  -0.05973845712638215\n"
     ]
    },
    {
     "data": {
      "image/png": "[encoded data removed]",
      "text/plain": [
       "<Figure size 576x360 with 1 Axes>"
      ]
     },
     "metadata": {
      "needs_background": "light"
     },
     "output_type": "display_data"
    }
   ],
   "source": [
    "data_last_year_corrected = data_last_year[data_last_year['user_score'] !=0 ] # уберем строки, в которых пропуски заполнили значением \"0\"\n",
    "data_PS4_user_score = data_last_year_corrected.query('platform ==\"PS4\"')\n",
    "data_PS4_user_score.plot(x='user_score', y='total_sales', kind='scatter', alpha=0.3, figsize=(8,5), grid=True)\n",
    "print('коэффициент Пирсона = ', data_PS4_user_score['user_score'].corr(data_PS4_user_score['total_sales']))\n"
   ]
  },
  {
   "cell_type": "markdown",
   "metadata": {
    "id": "5766e785"
   },
   "source": [
    "<div class=\"alert alert-block alert-danger\">\n",
    "<b>❌Комментарий ревьюера:</b> \n",
    "    \n",
    "Молодец, что не забыла исключить нули, которыми заполнили пропуски. Но ты сделала это не совсем корректно, так как был перезаписан датафрейм, используемый в дальнейшем для исследования данных по регионам. В удаленных строках также содержалась важная информация о продажах, их отсутствие может повлиять на результаты.</div>"
   ]
  },
  {
   "cell_type": "markdown",
   "metadata": {},
   "source": [
    "<div class=\"alert alert-block alert-info\">\n",
    "<b>🔄Комментарий студента:</b> \n",
    "Исправила!\n",
    "    \n",
    "data_last_year_corrected - с удаленными пропусками\n",
    "\n",
    "data_last_year - оставила первоначальный датафрейм для дальнейших исследований    \n",
    "    \n",
    "</div>"
   ]
  },
  {
   "cell_type": "markdown",
   "metadata": {},
   "source": [
    "<div class=\"alert alert-block alert-success\">\n",
    "<b>✅Комментарий ревьюера 2:</b> Отлично, исправлено!👍  </div>"
   ]
  },
  {
   "cell_type": "code",
   "execution_count": 22,
   "metadata": {},
   "outputs": [
    {
     "name": "stdout",
     "output_type": "stream",
     "text": [
      "коэффициент Пирсона =  0.3299479868243164\n"
     ]
    },
    {
     "data": {
      "image/png": "[encoded data removed]",
      "text/plain": [
       "<Figure size 576x360 with 1 Axes>"
      ]
     },
     "metadata": {
      "needs_background": "light"
     },
     "output_type": "display_data"
    }
   ],
   "source": [
    "data_PS4_critic_score = data_last_year_corrected.query('platform ==\"PS4\"')\n",
    "data_PS4_critic_score.plot(x='critic_score', y='total_sales', kind='scatter', alpha=0.3, figsize=(8,5), grid=True)\n",
    "print('коэффициент Пирсона = ', data_PS4_critic_score['critic_score'].corr(data_PS4_critic_score['total_sales']))\n"
   ]
  },
  {
   "cell_type": "markdown",
   "metadata": {},
   "source": [
    "- большинство пользователей ставят играм оценки, от 6 до 8,5 баллов. \n",
    "- коэффициент корреляции между кол-вом проданных копий и отзывами пользователь близок к 0. Это значит, что на продажи игр отзывы пользователей не влияют.\n",
    "- большинство критиков ставят играм оценки играм, от 60 до 80 баллов. Коэффициент корреляции между кол-вом проданных копий и отзывами - положительный, равен 0,33. Это значит, что отзывы критиков оказывают влияние на продажи. Чем выше балл, тем выше продажи.\n"
   ]
  },
  {
   "cell_type": "markdown",
   "metadata": {},
   "source": [
    "#### Соотнесем выводы с продажами игр на других платформах в зависимости от оценок пользователей и критиков"
   ]
  },
  {
   "cell_type": "code",
   "execution_count": 23,
   "metadata": {},
   "outputs": [],
   "source": [
    "#data_last_year.groupby('platform')['total_sales'].describe()"
   ]
  },
  {
   "cell_type": "code",
   "execution_count": 24,
   "metadata": {},
   "outputs": [],
   "source": [
    "#data_last_year.boxplot(column='total_sales', by='platform', figsize=(15, 10))\n",
    "#plt.ylim(0, 10)\n",
    "#plt.ylabel('Глобальные продажи')\n",
    "#plt.xlabel('Платформа')"
   ]
  },
  {
   "cell_type": "markdown",
   "metadata": {},
   "source": [
    "Рассчитаем коэф. Пирсона и оценим корреляцию между отзывами пользователей и продажами, и между отзывами критоков и продажами на всех платформах в 2015-2016 гг."
   ]
  },
  {
   "cell_type": "code",
   "execution_count": 25,
   "metadata": {},
   "outputs": [
    {
     "name": "stdout",
     "output_type": "stream",
     "text": [
      "коэффициент Пирсона для платформы PS4  в зависимости от оценки пользователей = -0.05973845712638215\n",
      "коэффициент Пирсона для платформы XOne  в зависимости от оценки пользователей = -0.04146733387366271\n",
      "коэффициент Пирсона для платформы 3DS  в зависимости от оценки пользователей = 0.19879627008102982\n",
      "коэффициент Пирсона для платформы PS3  в зависимости от оценки пользователей = -0.16529542277898507\n",
      "коэффициент Пирсона для платформы X360  в зависимости от оценки пользователей = -0.2813082274094897\n",
      "коэффициент Пирсона для платформы PC  в зависимости от оценки пользователей = 0.15038053045029076\n"
     ]
    }
   ],
   "source": [
    "for platform in data_last_year_corrected['platform'].unique():\n",
    "    data_platform_user_score = data_last_year_corrected.query('platform ==@platform')\n",
    "           \n",
    "    print('коэффициент Пирсона для платформы', platform, ' в зависимости от оценки пользователей =',data_platform_user_score['user_score'].corr(data_platform_user_score['total_sales']))"
   ]
  },
  {
   "cell_type": "code",
   "execution_count": 26,
   "metadata": {},
   "outputs": [
    {
     "name": "stdout",
     "output_type": "stream",
     "text": [
      "коэффициент Пирсона для платформы PS4  в зависимости от оценки критиков = 0.3299479868243164\n",
      "коэффициент Пирсона для платформы XOne  в зависимости от оценки критиков = 0.3832735471086994\n",
      "коэффициент Пирсона для платформы 3DS  в зависимости от оценки критиков = 0.17705199719136214\n",
      "коэффициент Пирсона для платформы PS3  в зависимости от оценки критиков = -0.12517560125934357\n",
      "коэффициент Пирсона для платформы X360  в зависимости от оценки критиков = nan\n",
      "коэффициент Пирсона для платформы PC  в зависимости от оценки критиков = 0.29178747874012856\n"
     ]
    }
   ],
   "source": [
    "for platform in data_last_year_corrected['platform'].unique():\n",
    "    data_platform_critic_score = data_last_year_corrected.query('platform ==@platform')\n",
    "    \n",
    "    print('коэффициент Пирсона для платформы', platform, ' в зависимости от оценки критиков =',data_platform_critic_score ['critic_score'].corr(data_platform_critic_score ['total_sales']))"
   ]
  },
  {
   "cell_type": "markdown",
   "metadata": {
    "id": "5766e785"
   },
   "source": [
    "<div class=\"alert alert-block alert-danger\">\n",
    "<b>❌Комментарий ревьюера:</b> \n",
    "    \n",
    "Соотнести выводы с продажами игр на других платформах нам нужно по зависимости продаж от оценок пользователей и критиков.</div>"
   ]
  },
  {
   "cell_type": "markdown",
   "metadata": {},
   "source": [
    "<div class=\"alert alert-block alert-info\">\n",
    "<b>🔄Комментарий студента:</b> \n",
    "Предыдущий код закомментировала - первоначально неправильно поняла задание.\n",
    "Добавила новый код + новый вывод    \n",
    "</div>"
   ]
  },
  {
   "cell_type": "markdown",
   "metadata": {},
   "source": [
    "<div class=\"alert alert-block alert-success\">\n",
    "<b>✅Комментарий ревьюера 2:</b> Отлично, исправлено!👍 Молодец, что используешь циклы </div>"
   ]
  },
  {
   "cell_type": "markdown",
   "metadata": {},
   "source": [
    "**Новый вывод**\n",
    "\n",
    "- рассчитали коэффициент Пирсона и  между отзывами пользователей и продажами и между отзывами критоков и продажами на всех платформах в 2015-2016 гг. и оценили корреляцию.\n",
    "- выявили, что для топ платформ PS4 и XOne оценки пользователей не влияют на продажи, так как коэффициент Пирсона близок к 0. А вот оценки критиков в некоторой степени влияют на продажи. Коэффициент Пирсона больше 0.3 > 0. Это говорит о том, что чем выше оценки критиков, тем выше продаж. В то же время, на увеличение продаж влияют и другие факторы, так как коэффициент Пирсона существенно меньше 1.\n",
    "- для платформ 3DS и PC корреляция между отзывами пользователей и продажами и между отзывами критиков и продажами примерно одинаковая и составляет 0.2 -0.3. И оценки пользователей и оценки критиков в равной степени влияют на продажи. Чем выше оценки, тем выше продажи.\n",
    "- для платформ PS3 и X360 корреляция скорее обратная, коэффициенты Пирсона незначительно, но меньше 0, то есть чем выше отзывы, тем ниже продажи. Но данная зависимость слабо выражена, так как коэффициен существенно выше -1.\n",
    "\n"
   ]
  },
  {
   "cell_type": "markdown",
   "metadata": {},
   "source": [
    "**Старый вывод**\n",
    "- Анализируя график, можно заметить, что медаинное значение незначительно ниже, а средние значения продаж по остальным платформам уступают лидерам PS4 и XOne. Это значит, что у других платформ выбросов меньше, то есть популярных игр мало, а мегапопулярных игр нет совсем."
   ]
  },
  {
   "cell_type": "markdown",
   "metadata": {},
   "source": [
    "#### Изучим общее распределение игр по жанрам"
   ]
  },
  {
   "cell_type": "markdown",
   "metadata": {},
   "source": [
    " Нельзя рассчитать коэф. Пирсона, чтобы понять зависимость продаж от жанра, но можно построить круговую диаграмму.\n",
    " На диаграмме видно, какую долю в общих продажах занимает тот или иной жанр.   \n",
    " \n",
    " В данном исследовании будем ориентировать на наиболее популярные жанры игр на платформах PS4, XOne, 3DS за 2015 - 2016 год.\n",
    " Для сравнения построим круговую диаграмму по всем существующим платформам за 2015 - 2016 год."
   ]
  },
  {
   "cell_type": "code",
   "execution_count": 27,
   "metadata": {},
   "outputs": [
    {
     "data": {
      "text/plain": [
       "<matplotlib.legend.Legend at 0x7f6905307910>"
      ]
     },
     "execution_count": 27,
     "metadata": {},
     "output_type": "execute_result"
    },
    {
     "data": {
      "image/png": "[encoded data removed]",
      "text/plain": [
       "<Figure size 432x288 with 1 Axes>"
      ]
     },
     "metadata": {},
     "output_type": "display_data"
    },
    {
     "data": {
      "image/png": "[encoded data removed]",
      "text/plain": [
       "<Figure size 432x288 with 1 Axes>"
      ]
     },
     "metadata": {},
     "output_type": "display_data"
    }
   ],
   "source": [
    "data_last_year_top.pivot_table(index='genre', values='total_sales', aggfunc='median').plot(kind = 'pie', subplots=True, \\\n",
    "colors= ['#2192FF', '#38E54D', '#9CFF2E', '#FDFF00', '#31E1F7', '#400D51', '#D800A6', '#FF7777', '#00FFAB', '#FF94CC', '#A239EA', '#5C33F6'])\n",
    "plt.legend(bbox_to_anchor=(1.02, 0.1), loc='upper left', borderaxespad=0)\n",
    "data_last_year.pivot_table(index='genre', values='total_sales', aggfunc='median').plot(kind = 'pie', subplots=True, \\\n",
    "colors= ['#2192FF', '#38E54D', '#9CFF2E', '#FDFF00', '#31E1F7', '#400D51', '#D800A6', '#FF7777', '#00FFAB', '#FF94CC', '#A239EA', '#5C33F6'])\n",
    "plt.legend(bbox_to_anchor=(1.02, 0.1), loc='upper left', borderaxespad=0)"
   ]
  },
  {
   "cell_type": "markdown",
   "metadata": {},
   "source": [
    "<div class=\"alert alert-block alert-warning\">\n",
    "<b>🔁Комментарий ревьюера:</b>\n",
    "\n",
    "Нужно стараться, чтобы цвета на диаграмме не повторялись, это может ввести в заблуждение.\n",
    "\n",
    "Есть [отличный сайт](https://colorhunt.co/palettes/pastel), который помогает подобрать цвет.</div>"
   ]
  },
  {
   "cell_type": "markdown",
   "metadata": {},
   "source": [
    "<div class=\"alert alert-block alert-info\">\n",
    "<b>🔄Комментарий студента:</b> \n",
    "С цветами разобралась, спасибо за информацию!\n",
    "</div>"
   ]
  },
  {
   "cell_type": "markdown",
   "metadata": {},
   "source": [
    "<div class=\"alert alert-block alert-success\">\n",
    "<b>✅Комментарий ревьюера 2:</b> Пожалуйста) Теперь выглядит очень ярко и красиво) </div>"
   ]
  },
  {
   "cell_type": "markdown",
   "metadata": {},
   "source": [
    "- лидером продаж является такой игровой жанр, как Shooter (\"стрелялки\")\n",
    "- также очень популярны жанры Sports, Role-Playing, Fighting.\n",
    "- в меньшей степени популярны жанры Puzzle, Strategy, Adventure, Racing, Platform, Simulation, Action\n",
    "- жанр Misc является одним из лидеров на графике, где представлены все платформы. Но совсем непопулярен на top платформах.\n",
    "  Возможно, марктологам на top платформах стоит обратить внимание на такой жанр как Misc\n"
   ]
  },
  {
   "cell_type": "markdown",
   "metadata": {},
   "source": [
    "<div class=\"alert alert-block alert-success\">\n",
    "<b>✅Комментарий ревьюера:</b> Молодец, что рассмотрела именно медианные значения! Это наиболее показательные значения для определения прибыльности. </div>"
   ]
  },
  {
   "cell_type": "markdown",
   "metadata": {},
   "source": [
    "#### Вывод\n",
    "\n",
    "1. количество новых игр постепенно росло, начиная с 1980 г., но только, в 1994 - 1995 г. начинается активный рост. 2008-2009 - годы появления максимально большого количества игр. После 2010 наблюдается спад в производстве игр.\n",
    "2. характерный срок появлявления новых и исчезновения старых платформ составляет примерно 10 лет\n",
    "3. определим актуальный период для дальнейших исследований - 2015 - 2016 гг.Так как нам нужно спрогнозировать потенциально прибыльные платформы на 2017, далее будем рассматривать платформы, которые остались на 2015-2016 гг.\n",
    "4. количество проданных экземпляров копий на всех платформах уменьшается с 2015 г по 2016 г. На большестве платформ продажи близки к 0. Лидируют и являются потенциально прибыльными следующие платформы: Sony PS4, Microsoft XOne и Nintendo 3DS.\n",
    "5. PS4 лидирует среди остальных платформ за счёт наличия очень популярных игр с продажами от 1 млн. копий и выше.\n",
    "6. рассчитали коэффициент Пирсона и между отзывами пользователей и продажами и между отзывами критоков и продажами на всех платформах в 2015-2016 гг. и оценили корреляцию.\n",
    " - выявили, что для топ платформ PS4 и XOne оценки пользователей не влияют на продажи, так как коэффициент Пирсона близок к 0. А вот оценки критиков в некоторой степени влияют на продажи. Коэффициент Пирсона больше 0.3 > 0. Это говорит о том, что чем выше оценки критиков, тем выше продаж. В то же время, на увеличение продаж влияют и другие факторы, так как коэффициент Пирсона существенно меньше 1.\n",
    " - для платформ 3DS и PC корреляция между отзывами пользователей и продажами и между отзывами критиков и продажами примерно одинаковая и составляет 0.2 -0.3. И оценки пользователей и оценки критиков в равной степени влияют на продажи. Чем выше оценки, тем выше продажи.\n",
    " - для платформ PS3 и X360 корреляция скорее обратная, коэффициенты Пирсона незначительно, но меньше 0, то есть чем выше отзывы, тем ниже продажи. Но данная зависимость слабо выражена, так как коэффициен существенно выше -1.\n",
    "8. лидером продаж является такой игровой жанр, как Shooter (\"стрелялки\"),также очень популярны жанры Sports, Role-Playing, Fighting. В гораздо меньшей степени популярны жанры Puzzle, Strategy, Adventure, Racing, Platform, Simulation, Action.\n",
    "Жанр Misc является одним из лидеров на графике, где представлены все платформы. Но совсем непопулярен на top платформах. Возможно, марктологам на top платформах стоит обратить внимание на такой жанр как Misc\n"
   ]
  },
  {
   "cell_type": "markdown",
   "metadata": {},
   "source": [
    "### Составляем портрет пользователя каждого региона"
   ]
  },
  {
   "cell_type": "code",
   "execution_count": 28,
   "metadata": {},
   "outputs": [
    {
     "data": {
      "text/html": [
       "<div>\n",
       "<style scoped>\n",
       "    .dataframe tbody tr th:only-of-type {\n",
       "        vertical-align: middle;\n",
       "    }\n",
       "\n",
       "    .dataframe tbody tr th {\n",
       "        vertical-align: top;\n",
       "    }\n",
       "\n",
       "    .dataframe thead th {\n",
       "        text-align: right;\n",
       "    }\n",
       "</style>\n",
       "<table border=\"1\" class=\"dataframe\">\n",
       "  <thead>\n",
       "    <tr style=\"text-align: right;\">\n",
       "      <th></th>\n",
       "      <th>name</th>\n",
       "      <th>platform</th>\n",
       "      <th>year_of_release</th>\n",
       "      <th>genre</th>\n",
       "      <th>na_sales</th>\n",
       "      <th>eu_sales</th>\n",
       "      <th>jp_sales</th>\n",
       "      <th>other_sales</th>\n",
       "      <th>critic_score</th>\n",
       "      <th>user_score</th>\n",
       "      <th>rating</th>\n",
       "      <th>total_sales</th>\n",
       "    </tr>\n",
       "  </thead>\n",
       "  <tbody>\n",
       "    <tr>\n",
       "      <th>31</th>\n",
       "      <td>Call of Duty: Black Ops 3</td>\n",
       "      <td>PS4</td>\n",
       "      <td>2015</td>\n",
       "      <td>Shooter</td>\n",
       "      <td>6.03</td>\n",
       "      <td>5.86</td>\n",
       "      <td>0.36</td>\n",
       "      <td>2.38</td>\n",
       "      <td>0.0</td>\n",
       "      <td>0.0</td>\n",
       "      <td>unknown</td>\n",
       "      <td>14.63</td>\n",
       "    </tr>\n",
       "    <tr>\n",
       "      <th>77</th>\n",
       "      <td>FIFA 16</td>\n",
       "      <td>PS4</td>\n",
       "      <td>2015</td>\n",
       "      <td>Sports</td>\n",
       "      <td>1.12</td>\n",
       "      <td>6.12</td>\n",
       "      <td>0.06</td>\n",
       "      <td>1.28</td>\n",
       "      <td>82.0</td>\n",
       "      <td>4.3</td>\n",
       "      <td>E</td>\n",
       "      <td>8.58</td>\n",
       "    </tr>\n",
       "    <tr>\n",
       "      <th>87</th>\n",
       "      <td>Star Wars Battlefront (2015)</td>\n",
       "      <td>PS4</td>\n",
       "      <td>2015</td>\n",
       "      <td>Shooter</td>\n",
       "      <td>2.99</td>\n",
       "      <td>3.49</td>\n",
       "      <td>0.22</td>\n",
       "      <td>1.28</td>\n",
       "      <td>0.0</td>\n",
       "      <td>0.0</td>\n",
       "      <td>unknown</td>\n",
       "      <td>7.98</td>\n",
       "    </tr>\n",
       "    <tr>\n",
       "      <th>94</th>\n",
       "      <td>FIFA 17</td>\n",
       "      <td>PS4</td>\n",
       "      <td>2016</td>\n",
       "      <td>Sports</td>\n",
       "      <td>0.66</td>\n",
       "      <td>5.75</td>\n",
       "      <td>0.08</td>\n",
       "      <td>1.11</td>\n",
       "      <td>85.0</td>\n",
       "      <td>5.0</td>\n",
       "      <td>E</td>\n",
       "      <td>7.60</td>\n",
       "    </tr>\n",
       "    <tr>\n",
       "      <th>99</th>\n",
       "      <td>Call of Duty: Black Ops 3</td>\n",
       "      <td>XOne</td>\n",
       "      <td>2015</td>\n",
       "      <td>Shooter</td>\n",
       "      <td>4.59</td>\n",
       "      <td>2.11</td>\n",
       "      <td>0.01</td>\n",
       "      <td>0.68</td>\n",
       "      <td>0.0</td>\n",
       "      <td>0.0</td>\n",
       "      <td>unknown</td>\n",
       "      <td>7.39</td>\n",
       "    </tr>\n",
       "    <tr>\n",
       "      <th>105</th>\n",
       "      <td>Fallout 4</td>\n",
       "      <td>PS4</td>\n",
       "      <td>2015</td>\n",
       "      <td>Role-Playing</td>\n",
       "      <td>2.53</td>\n",
       "      <td>3.27</td>\n",
       "      <td>0.24</td>\n",
       "      <td>1.13</td>\n",
       "      <td>87.0</td>\n",
       "      <td>6.5</td>\n",
       "      <td>M</td>\n",
       "      <td>7.17</td>\n",
       "    </tr>\n",
       "    <tr>\n",
       "      <th>108</th>\n",
       "      <td>Pokemon Sun/Moon</td>\n",
       "      <td>3DS</td>\n",
       "      <td>2016</td>\n",
       "      <td>Role-Playing</td>\n",
       "      <td>2.98</td>\n",
       "      <td>1.45</td>\n",
       "      <td>2.26</td>\n",
       "      <td>0.45</td>\n",
       "      <td>0.0</td>\n",
       "      <td>0.0</td>\n",
       "      <td>unknown</td>\n",
       "      <td>7.14</td>\n",
       "    </tr>\n",
       "    <tr>\n",
       "      <th>171</th>\n",
       "      <td>Uncharted 4: A Thief's End</td>\n",
       "      <td>PS4</td>\n",
       "      <td>2016</td>\n",
       "      <td>Shooter</td>\n",
       "      <td>1.85</td>\n",
       "      <td>2.50</td>\n",
       "      <td>0.19</td>\n",
       "      <td>0.85</td>\n",
       "      <td>93.0</td>\n",
       "      <td>7.9</td>\n",
       "      <td>T</td>\n",
       "      <td>5.39</td>\n",
       "    </tr>\n",
       "    <tr>\n",
       "      <th>231</th>\n",
       "      <td>Uncharted: The Nathan Drake Collection</td>\n",
       "      <td>PS4</td>\n",
       "      <td>2015</td>\n",
       "      <td>Action</td>\n",
       "      <td>2.07</td>\n",
       "      <td>1.71</td>\n",
       "      <td>0.08</td>\n",
       "      <td>0.76</td>\n",
       "      <td>86.0</td>\n",
       "      <td>8.1</td>\n",
       "      <td>T</td>\n",
       "      <td>4.62</td>\n",
       "    </tr>\n",
       "    <tr>\n",
       "      <th>242</th>\n",
       "      <td>Halo 5: Guardians</td>\n",
       "      <td>XOne</td>\n",
       "      <td>2015</td>\n",
       "      <td>Shooter</td>\n",
       "      <td>2.78</td>\n",
       "      <td>1.27</td>\n",
       "      <td>0.03</td>\n",
       "      <td>0.41</td>\n",
       "      <td>84.0</td>\n",
       "      <td>6.4</td>\n",
       "      <td>T</td>\n",
       "      <td>4.49</td>\n",
       "    </tr>\n",
       "  </tbody>\n",
       "</table>\n",
       "</div>"
      ],
      "text/plain": [
       "                                       name platform  year_of_release  \\\n",
       "31                Call of Duty: Black Ops 3      PS4             2015   \n",
       "77                                  FIFA 16      PS4             2015   \n",
       "87             Star Wars Battlefront (2015)      PS4             2015   \n",
       "94                                  FIFA 17      PS4             2016   \n",
       "99                Call of Duty: Black Ops 3     XOne             2015   \n",
       "105                               Fallout 4      PS4             2015   \n",
       "108                        Pokemon Sun/Moon      3DS             2016   \n",
       "171              Uncharted 4: A Thief's End      PS4             2016   \n",
       "231  Uncharted: The Nathan Drake Collection      PS4             2015   \n",
       "242                       Halo 5: Guardians     XOne             2015   \n",
       "\n",
       "            genre  na_sales  eu_sales  jp_sales  other_sales  critic_score  \\\n",
       "31        Shooter      6.03      5.86      0.36         2.38           0.0   \n",
       "77         Sports      1.12      6.12      0.06         1.28          82.0   \n",
       "87        Shooter      2.99      3.49      0.22         1.28           0.0   \n",
       "94         Sports      0.66      5.75      0.08         1.11          85.0   \n",
       "99        Shooter      4.59      2.11      0.01         0.68           0.0   \n",
       "105  Role-Playing      2.53      3.27      0.24         1.13          87.0   \n",
       "108  Role-Playing      2.98      1.45      2.26         0.45           0.0   \n",
       "171       Shooter      1.85      2.50      0.19         0.85          93.0   \n",
       "231        Action      2.07      1.71      0.08         0.76          86.0   \n",
       "242       Shooter      2.78      1.27      0.03         0.41          84.0   \n",
       "\n",
       "     user_score   rating  total_sales  \n",
       "31          0.0  unknown        14.63  \n",
       "77          4.3        E         8.58  \n",
       "87          0.0  unknown         7.98  \n",
       "94          5.0        E         7.60  \n",
       "99          0.0  unknown         7.39  \n",
       "105         6.5        M         7.17  \n",
       "108         0.0  unknown         7.14  \n",
       "171         7.9        T         5.39  \n",
       "231         8.1        T         4.62  \n",
       "242         6.4        T         4.49  "
      ]
     },
     "metadata": {},
     "output_type": "display_data"
    }
   ],
   "source": [
    "display(data_last_year.head(10))"
   ]
  },
  {
   "cell_type": "markdown",
   "metadata": {},
   "source": [
    "#### Определим для пользователя каждого региона (NA, EU, JP) Самые популярные платформы (топ-5). "
   ]
  },
  {
   "cell_type": "code",
   "execution_count": 29,
   "metadata": {},
   "outputs": [
    {
     "data": {
      "text/plain": [
       "<AxesSubplot:title={'center':'ТОП-5 самых популярных платформ в Японии'}, xlabel='platform'>"
      ]
     },
     "execution_count": 29,
     "metadata": {},
     "output_type": "execute_result"
    },
    {
     "data": {
      "image/png": "[encoded data removed]",
      "text/plain": [
       "<Figure size 432x288 with 1 Axes>"
      ]
     },
     "metadata": {
      "needs_background": "light"
     },
     "output_type": "display_data"
    },
    {
     "data": {
      "image/png": "[encoded data removed]",
      "text/plain": [
       "<Figure size 432x288 with 1 Axes>"
      ]
     },
     "metadata": {
      "needs_background": "light"
     },
     "output_type": "display_data"
    },
    {
     "data": {
      "image/png": "[encoded data removed]",
      "text/plain": [
       "<Figure size 432x288 with 1 Axes>"
      ]
     },
     "metadata": {
      "needs_background": "light"
     },
     "output_type": "display_data"
    }
   ],
   "source": [
    "data_platform_na = data_last_year.pivot_table(index='platform', values='na_sales', aggfunc='sum').sort_values(by='na_sales', ascending=False).head(5)\n",
    "data_platform_eu = data_last_year.pivot_table(index='platform', values='eu_sales', aggfunc='sum').sort_values(by='eu_sales', ascending=False).head(5)\n",
    "data_platform_jp = data_last_year.pivot_table(index='platform', values='jp_sales', aggfunc='sum').sort_values(by='jp_sales', ascending=False).head(5)\n",
    "data_platform_na.plot(kind = 'bar', figsize=(6,4), grid=True, title = 'ТОП-5 самых популярных платформ в США')\n",
    "data_platform_eu.plot(kind = 'bar', figsize=(6,4), grid=True, title = 'ТОП-5 самых популярных платформ в Европе')\n",
    "data_platform_jp.plot(kind = 'bar', figsize=(6,4), grid=True, title = 'ТОП-5 самых популярных платформ в Японии')"
   ]
  },
  {
   "cell_type": "markdown",
   "metadata": {
    "id": "5766e785"
   },
   "source": [
    "<div class=\"alert alert-block alert-danger\">\n",
    "<b>❌Комментарий ревьюера:</b> \n",
    "    \n",
    "Получили неверные результаты. Как раз таки из-за того, что были удалены строки с 0 в оценках пользователей, о чем я писал выше.\n",
    "    \n",
    "</div>"
   ]
  },
  {
   "cell_type": "markdown",
   "metadata": {},
   "source": [
    "<div class=\"alert alert-block alert-info\">\n",
    "<b>🔄Комментарий студента:</b> \n",
    "Добавила новый вывод\n",
    "  \n",
    "</div>"
   ]
  },
  {
   "cell_type": "markdown",
   "metadata": {},
   "source": [
    "<div class=\"alert alert-block alert-success\">\n",
    "<b>✅Комментарий ревьюера 2:</b> Отлично, исправлено!👍  </div>"
   ]
  },
  {
   "cell_type": "markdown",
   "metadata": {},
   "source": [
    "<div class=\"alert alert-block alert-success\">\n",
    "<b>✅Комментарий ревьюера:</b>\n",
    "    \n",
    "Здорово ,что подписываешь названия для графиков! Кстати, в будущем тебе нужно будет подписывать каждый и оси на них для удобства восприятия. Есть [хорошая статья](https://devpractice.ru/matplotlib-lesson-3-3-text-elements/), которая подскажет как это правильно сделать)</div>"
   ]
  },
  {
   "cell_type": "markdown",
   "metadata": {},
   "source": [
    "Определим доли продаж для каждого региона (NA, EU, JP)"
   ]
  },
  {
   "cell_type": "code",
   "execution_count": 30,
   "metadata": {},
   "outputs": [
    {
     "data": {
      "text/html": [
       "<div>\n",
       "<style scoped>\n",
       "    .dataframe tbody tr th:only-of-type {\n",
       "        vertical-align: middle;\n",
       "    }\n",
       "\n",
       "    .dataframe tbody tr th {\n",
       "        vertical-align: top;\n",
       "    }\n",
       "\n",
       "    .dataframe thead th {\n",
       "        text-align: right;\n",
       "    }\n",
       "</style>\n",
       "<table border=\"1\" class=\"dataframe\">\n",
       "  <thead>\n",
       "    <tr style=\"text-align: right;\">\n",
       "      <th></th>\n",
       "      <th>percent_sales_na</th>\n",
       "      <th>percent_sales_eu</th>\n",
       "      <th>percent_sales_jp</th>\n",
       "    </tr>\n",
       "    <tr>\n",
       "      <th>platform</th>\n",
       "      <th></th>\n",
       "      <th></th>\n",
       "      <th></th>\n",
       "    </tr>\n",
       "  </thead>\n",
       "  <tbody>\n",
       "    <tr>\n",
       "      <th>3DS</th>\n",
       "      <td>7</td>\n",
       "      <td>5</td>\n",
       "      <td>57</td>\n",
       "    </tr>\n",
       "    <tr>\n",
       "      <th>PC</th>\n",
       "      <td>2</td>\n",
       "      <td>6</td>\n",
       "      <td>0</td>\n",
       "    </tr>\n",
       "    <tr>\n",
       "      <th>PS3</th>\n",
       "      <td>3</td>\n",
       "      <td>5</td>\n",
       "      <td>12</td>\n",
       "    </tr>\n",
       "    <tr>\n",
       "      <th>PS4</th>\n",
       "      <td>44</td>\n",
       "      <td>59</td>\n",
       "      <td>29</td>\n",
       "    </tr>\n",
       "    <tr>\n",
       "      <th>PSP</th>\n",
       "      <td>0</td>\n",
       "      <td>0</td>\n",
       "      <td>0</td>\n",
       "    </tr>\n",
       "    <tr>\n",
       "      <th>Wii</th>\n",
       "      <td>0</td>\n",
       "      <td>0</td>\n",
       "      <td>0</td>\n",
       "    </tr>\n",
       "    <tr>\n",
       "      <th>X360</th>\n",
       "      <td>5</td>\n",
       "      <td>2</td>\n",
       "      <td>0</td>\n",
       "    </tr>\n",
       "    <tr>\n",
       "      <th>XOne</th>\n",
       "      <td>35</td>\n",
       "      <td>20</td>\n",
       "      <td>0</td>\n",
       "    </tr>\n",
       "  </tbody>\n",
       "</table>\n",
       "</div>"
      ],
      "text/plain": [
       "          percent_sales_na  percent_sales_eu  percent_sales_jp\n",
       "platform                                                      \n",
       "3DS                      7                 5                57\n",
       "PC                       2                 6                 0\n",
       "PS3                      3                 5                12\n",
       "PS4                     44                59                29\n",
       "PSP                      0                 0                 0\n",
       "Wii                      0                 0                 0\n",
       "X360                     5                 2                 0\n",
       "XOne                    35                20                 0"
      ]
     },
     "metadata": {},
     "output_type": "display_data"
    }
   ],
   "source": [
    "platform_na = data_last_year.pivot_table(index = 'platform', values = 'na_sales', aggfunc = 'sum')\n",
    "platform_na['percent_sales_na'] = (platform_na['na_sales'] / platform_na['na_sales'].sum() * 100).astype(int)\n",
    "platform_na = platform_na.drop(columns='na_sales') \n",
    "\n",
    "platform_eu = data_last_year.pivot_table(index = 'platform', values = 'eu_sales', aggfunc = 'sum')\n",
    "platform_eu['percent_sales_eu'] = (platform_eu['eu_sales'] / platform_eu['eu_sales'].sum() * 100).astype(int)\n",
    "platform_eu = platform_eu.drop(columns='eu_sales') \n",
    "\n",
    "platform_jp = data_last_year.pivot_table(index = 'platform', values = 'jp_sales', aggfunc = 'sum')\n",
    "platform_jp['percent_sales_jp'] = (platform_jp['jp_sales'] / platform_jp['jp_sales'].sum() * 100).astype(int)\n",
    "platform_jp = platform_jp.drop(columns='jp_sales') \n",
    "\n",
    "\n",
    "display(platform_na.merge(platform_eu, on='platform').merge(platform_jp, on='platform'))\n",
    "\n",
    "\n"
   ]
  },
  {
   "cell_type": "markdown",
   "metadata": {},
   "source": [
    "**Новый вывод**\n",
    "\n",
    "- Топ-5 популярных платформ в Америке: PS4 (44%), XOne(35%), 3DS(7%), X360(5%), PS3(3%)\n",
    "- Топ-5 популярных платформ в Европе: PS4(59%), XOne(20%), PC(6%), PS3(5%), 3DS(5%)\n",
    "- Топ-3 популярных платформ в Японии: 3DS(57%), PS4(29%), PS3(12%)\n",
    "Лидером продаж в Америке, Европе является игровая платформа PS4. На втором месте в Америке и Европе идёт платформа XOne.\n",
    "Лидером продаж в Японии является игровая платформа 3DS. Далее следуют платформы PS4 и PS3"
   ]
  },
  {
   "cell_type": "markdown",
   "metadata": {},
   "source": [
    "**Старый вывод**\n",
    "- Топ-5 популярных платформ в Америке: PS4 (44%), XOne(37%), X360, 3DS, PS3\n",
    "- Топ-5 популярных платформ в Европе: PS4(60%), XOne(21%), PC, PS3, 3DS\n",
    "- Топ-5 популярных платформ в Японии: PS4(50%), 3DS(35%), PS3, XOne, PC  \n",
    "\n",
    "Лидером продаж в Америке, Европе и Японии является игровая платформа PS4. \n",
    "На втором месте в Америке и Европе идёт платформа  XOne, а в Японии 3DS."
   ]
  },
  {
   "cell_type": "markdown",
   "metadata": {},
   "source": [
    "#### Определим для пользователя каждого региона (NA, EU, JP) Самые популярные жанры (топ-5). "
   ]
  },
  {
   "cell_type": "code",
   "execution_count": 31,
   "metadata": {},
   "outputs": [
    {
     "data": {
      "text/plain": [
       "<AxesSubplot:title={'center':'ТОП-5 самых популярных игровых жанров в Японии'}, xlabel='genre'>"
      ]
     },
     "execution_count": 31,
     "metadata": {},
     "output_type": "execute_result"
    },
    {
     "data": {
      "image/png": "[encoded data removed]",
      "text/plain": [
       "<Figure size 432x288 with 1 Axes>"
      ]
     },
     "metadata": {
      "needs_background": "light"
     },
     "output_type": "display_data"
    },
    {
     "data": {
      "image/png": "[encoded data removed]",
      "text/plain": [
       "<Figure size 432x288 with 1 Axes>"
      ]
     },
     "metadata": {
      "needs_background": "light"
     },
     "output_type": "display_data"
    },
    {
     "data": {
      "image/png": "[encoded data removed]",
      "text/plain": [
       "<Figure size 432x288 with 1 Axes>"
      ]
     },
     "metadata": {
      "needs_background": "light"
     },
     "output_type": "display_data"
    }
   ],
   "source": [
    "data_genre_na = data_last_year.pivot_table(index='genre', values='na_sales', aggfunc='sum').sort_values(by='na_sales', ascending=False).head(5)\n",
    "data_genre_eu = data_last_year.pivot_table(index='genre', values='eu_sales', aggfunc='sum').sort_values(by='eu_sales', ascending=False).head(5)\n",
    "data_genre_jp = data_last_year.pivot_table(index='genre', values='jp_sales', aggfunc='sum').sort_values(by='jp_sales', ascending=False).head(5)\n",
    "data_genre_na.plot(kind = 'bar', figsize=(6,4), grid=True, title = 'ТОП-5 самых популярных игровых жанров в США')\n",
    "data_genre_eu.plot(kind = 'bar', figsize=(6,4), grid=True, title = 'ТОП-5 самых популярных игровых жанров в Европе')\n",
    "data_genre_jp.plot(kind = 'bar', figsize=(6,4), grid=True, title = 'ТОП-5 самых популярных игровых жанров в Японии')"
   ]
  },
  {
   "cell_type": "markdown",
   "metadata": {
    "id": "5766e785"
   },
   "source": [
    "<div class=\"alert alert-block alert-danger\">\n",
    "<b>❌Комментарий ревьюера:</b> \n",
    "    \n",
    "По жанрам также результаты искажены.\n",
    "    \n",
    "</div>"
   ]
  },
  {
   "cell_type": "markdown",
   "metadata": {},
   "source": [
    "<div class=\"alert alert-block alert-info\">\n",
    "<b>🔄Комментарий студента:</b> \n",
    "Добавила новый вывод\n",
    "  \n",
    "</div>"
   ]
  },
  {
   "cell_type": "markdown",
   "metadata": {},
   "source": [
    "<div class=\"alert alert-block alert-success\">\n",
    "<b>✅Комментарий ревьюера 2:</b> Отлично, исправлено!👍  </div>"
   ]
  },
  {
   "cell_type": "code",
   "execution_count": 32,
   "metadata": {},
   "outputs": [
    {
     "data": {
      "text/html": [
       "<div>\n",
       "<style scoped>\n",
       "    .dataframe tbody tr th:only-of-type {\n",
       "        vertical-align: middle;\n",
       "    }\n",
       "\n",
       "    .dataframe tbody tr th {\n",
       "        vertical-align: top;\n",
       "    }\n",
       "\n",
       "    .dataframe thead th {\n",
       "        text-align: right;\n",
       "    }\n",
       "</style>\n",
       "<table border=\"1\" class=\"dataframe\">\n",
       "  <thead>\n",
       "    <tr style=\"text-align: right;\">\n",
       "      <th></th>\n",
       "      <th>percent_sales_na</th>\n",
       "      <th>percent_sales_eu</th>\n",
       "      <th>percent_sales_jp</th>\n",
       "    </tr>\n",
       "    <tr>\n",
       "      <th>genre</th>\n",
       "      <th></th>\n",
       "      <th></th>\n",
       "      <th></th>\n",
       "    </tr>\n",
       "  </thead>\n",
       "  <tbody>\n",
       "    <tr>\n",
       "      <th>Action</th>\n",
       "      <td>22</td>\n",
       "      <td>23</td>\n",
       "      <td>46</td>\n",
       "    </tr>\n",
       "    <tr>\n",
       "      <th>Adventure</th>\n",
       "      <td>2</td>\n",
       "      <td>3</td>\n",
       "      <td>2</td>\n",
       "    </tr>\n",
       "    <tr>\n",
       "      <th>Fighting</th>\n",
       "      <td>3</td>\n",
       "      <td>2</td>\n",
       "      <td>3</td>\n",
       "    </tr>\n",
       "    <tr>\n",
       "      <th>Misc</th>\n",
       "      <td>2</td>\n",
       "      <td>2</td>\n",
       "      <td>4</td>\n",
       "    </tr>\n",
       "    <tr>\n",
       "      <th>Platform</th>\n",
       "      <td>1</td>\n",
       "      <td>1</td>\n",
       "      <td>0</td>\n",
       "    </tr>\n",
       "    <tr>\n",
       "      <th>Puzzle</th>\n",
       "      <td>0</td>\n",
       "      <td>0</td>\n",
       "      <td>1</td>\n",
       "    </tr>\n",
       "    <tr>\n",
       "      <th>Racing</th>\n",
       "      <td>1</td>\n",
       "      <td>4</td>\n",
       "      <td>0</td>\n",
       "    </tr>\n",
       "    <tr>\n",
       "      <th>Role-Playing</th>\n",
       "      <td>13</td>\n",
       "      <td>11</td>\n",
       "      <td>25</td>\n",
       "    </tr>\n",
       "    <tr>\n",
       "      <th>Shooter</th>\n",
       "      <td>32</td>\n",
       "      <td>27</td>\n",
       "      <td>5</td>\n",
       "    </tr>\n",
       "    <tr>\n",
       "      <th>Simulation</th>\n",
       "      <td>0</td>\n",
       "      <td>2</td>\n",
       "      <td>4</td>\n",
       "    </tr>\n",
       "    <tr>\n",
       "      <th>Sports</th>\n",
       "      <td>18</td>\n",
       "      <td>19</td>\n",
       "      <td>3</td>\n",
       "    </tr>\n",
       "    <tr>\n",
       "      <th>Strategy</th>\n",
       "      <td>0</td>\n",
       "      <td>1</td>\n",
       "      <td>0</td>\n",
       "    </tr>\n",
       "  </tbody>\n",
       "</table>\n",
       "</div>"
      ],
      "text/plain": [
       "              percent_sales_na  percent_sales_eu  percent_sales_jp\n",
       "genre                                                             \n",
       "Action                      22                23                46\n",
       "Adventure                    2                 3                 2\n",
       "Fighting                     3                 2                 3\n",
       "Misc                         2                 2                 4\n",
       "Platform                     1                 1                 0\n",
       "Puzzle                       0                 0                 1\n",
       "Racing                       1                 4                 0\n",
       "Role-Playing                13                11                25\n",
       "Shooter                     32                27                 5\n",
       "Simulation                   0                 2                 4\n",
       "Sports                      18                19                 3\n",
       "Strategy                     0                 1                 0"
      ]
     },
     "metadata": {},
     "output_type": "display_data"
    }
   ],
   "source": [
    "genre_na = data_last_year.pivot_table(index = 'genre', values = 'na_sales', aggfunc = 'sum')\n",
    "genre_na['percent_sales_na'] = (genre_na['na_sales'] / genre_na['na_sales'].sum() * 100).astype(int)\n",
    "genre_na = genre_na.drop(columns='na_sales') \n",
    "\n",
    "genre_eu = data_last_year.pivot_table(index = 'genre', values = 'eu_sales', aggfunc = 'sum')\n",
    "genre_eu['percent_sales_eu'] = (genre_eu['eu_sales'] / genre_eu['eu_sales'].sum() * 100).astype(int)\n",
    "genre_eu = genre_eu.drop(columns='eu_sales') \n",
    "\n",
    "genre_jp = data_last_year.pivot_table(index = 'genre', values = 'jp_sales', aggfunc = 'sum')\n",
    "genre_jp['percent_sales_jp'] = (genre_jp['jp_sales'] / genre_jp['jp_sales'].sum() * 100).astype(int)\n",
    "genre_jp = genre_jp.drop(columns='jp_sales') \n",
    "\n",
    "\n",
    "display(genre_na.merge(genre_eu, on='genre').merge(genre_jp, on='genre'))"
   ]
  },
  {
   "cell_type": "markdown",
   "metadata": {},
   "source": [
    "**Новый вывод**\n",
    "\n",
    "- Топ-5 популярных игровых жанров в Америке: Shooter(32%), Action(22%), Sports(18%), Role-Playing(13%), Fighting(3%) \n",
    "- Топ-5 популярных игровых жанров в Европе: Shooter(27%), Action(23%), Sports(19%), , Role-Playing(11%), Racing(4%)\t\n",
    "- Топ-5 популярных игровых жанров в Японии: Action(46%), Role-Playing(25%), Shooter(5%), Simulation(4%) or Misk(4%).  \n",
    "\n",
    "Лидерами продаж в Америке и Европе являются такие игровые жанры, как Shooter, Action и Sports. \n",
    "А в Японии наиболее популярны жанры Action и Role-Playing. Продажи жанра Shooter составляют всего 5%. \n",
    "Видимо, это связано с разным менталитетом местных жителей. В Америке предпочитают Shooter, а в Японии почти половина покупателей предпочитает Action."
   ]
  },
  {
   "cell_type": "markdown",
   "metadata": {},
   "source": [
    "**Старый вывод**\n",
    "- Топ-5 популярных игровых жанров в Америке: Shooter(26%), Action(25%), Sports(24%), Role-Playing(10%), Fighting(4%) \n",
    "- Топ-5 популярных игровых жанров в Европе: Action(26%), Sports(25%), Shooter(21%), Role-Playing(10%), Racing(3%)\t\n",
    "- Топ-5 популярных игровых жанров в Японии: Action(33%), Role-Playing(23%), Shooter(12%), Simulation(12%), Fighting(6%) or Sports(6%). \n",
    "\n",
    "Лидерами продаж в Америке и Европе являются такие игровые жанры, как Shooter, Action и Sports. \n",
    "А в Японии наиболее популярны жанры Action и Role-Playing, в меньшей степени Shooter и Simulation. Видимо, это связано с разным менталитетом местных жителей. В Америке предпочитают Shooter, а в Японии Action."
   ]
  },
  {
   "cell_type": "markdown",
   "metadata": {},
   "source": [
    "#### Изучим, влияет ли рейтинг ESRB на продажи в отдельном регионе?"
   ]
  },
  {
   "cell_type": "code",
   "execution_count": 33,
   "metadata": {},
   "outputs": [
    {
     "data": {
      "text/plain": [
       "<AxesSubplot:title={'center':'График продаж в зависимости от рейтинга в Японии'}, xlabel='rating'>"
      ]
     },
     "execution_count": 33,
     "metadata": {},
     "output_type": "execute_result"
    },
    {
     "data": {
      "image/png": "[encoded data removed]",
      "text/plain": [
       "<Figure size 432x288 with 1 Axes>"
      ]
     },
     "metadata": {
      "needs_background": "light"
     },
     "output_type": "display_data"
    },
    {
     "data": {
      "image/png": "[encoded data removed]",
      "text/plain": [
       "<Figure size 432x288 with 1 Axes>"
      ]
     },
     "metadata": {
      "needs_background": "light"
     },
     "output_type": "display_data"
    },
    {
     "data": {
      "image/png": "[encoded data removed]",
      "text/plain": [
       "<Figure size 432x288 with 1 Axes>"
      ]
     },
     "metadata": {
      "needs_background": "light"
     },
     "output_type": "display_data"
    }
   ],
   "source": [
    "data_rating_na = data_last_year.pivot_table(index='rating', values='na_sales', aggfunc='sum').sort_values(by='na_sales', ascending=False).head(5)\n",
    "data_rating_eu = data_last_year.pivot_table(index='rating', values='eu_sales', aggfunc='sum').sort_values(by='eu_sales', ascending=False).head(5)\n",
    "data_rating_jp = data_last_year.pivot_table(index='rating', values='jp_sales', aggfunc='sum').sort_values(by='jp_sales', ascending=False).head(5)\n",
    "data_rating_na.plot(kind = 'bar', figsize=(6,4), grid=True, title = 'График продаж в зависимости от рейтинга в США')\n",
    "data_rating_eu.plot(kind = 'bar', figsize=(6,4), grid=True, title = 'График продаж в зависимости от рейтинга в Европе')\n",
    "data_rating_jp.plot(kind = 'bar', figsize=(6,4), grid=True, title = 'График продаж в зависимости от рейтинга в Японии')"
   ]
  },
  {
   "cell_type": "markdown",
   "metadata": {
    "id": "5766e785"
   },
   "source": [
    "<div class=\"alert alert-block alert-danger\">\n",
    "<b>❌Комментарий ревьюера:</b> \n",
    "    \n",
    "По рейтингам тоже недостоверная картина :(\n",
    "    \n",
    "</div>"
   ]
  },
  {
   "cell_type": "markdown",
   "metadata": {},
   "source": [
    "<div class=\"alert alert-block alert-info\">\n",
    "<b>🔄Комментарий студента:</b> \n",
    "Добавила новый вывод\n",
    "  \n",
    "</div>"
   ]
  },
  {
   "cell_type": "markdown",
   "metadata": {},
   "source": [
    "<div class=\"alert alert-block alert-success\">\n",
    "<b>✅Комментарий ревьюера 2:</b> Отлично, исправлено!👍  </div>"
   ]
  },
  {
   "cell_type": "code",
   "execution_count": 34,
   "metadata": {},
   "outputs": [
    {
     "data": {
      "text/html": [
       "<div>\n",
       "<style scoped>\n",
       "    .dataframe tbody tr th:only-of-type {\n",
       "        vertical-align: middle;\n",
       "    }\n",
       "\n",
       "    .dataframe tbody tr th {\n",
       "        vertical-align: top;\n",
       "    }\n",
       "\n",
       "    .dataframe thead th {\n",
       "        text-align: right;\n",
       "    }\n",
       "</style>\n",
       "<table border=\"1\" class=\"dataframe\">\n",
       "  <thead>\n",
       "    <tr style=\"text-align: right;\">\n",
       "      <th></th>\n",
       "      <th>percent_sales_na</th>\n",
       "      <th>percent_sales_eu</th>\n",
       "      <th>percent_sales_jp</th>\n",
       "    </tr>\n",
       "    <tr>\n",
       "      <th>rating</th>\n",
       "      <th></th>\n",
       "      <th></th>\n",
       "      <th></th>\n",
       "    </tr>\n",
       "  </thead>\n",
       "  <tbody>\n",
       "    <tr>\n",
       "      <th>E</th>\n",
       "      <td>16</td>\n",
       "      <td>23</td>\n",
       "      <td>8</td>\n",
       "    </tr>\n",
       "    <tr>\n",
       "      <th>E10+</th>\n",
       "      <td>9</td>\n",
       "      <td>6</td>\n",
       "      <td>3</td>\n",
       "    </tr>\n",
       "    <tr>\n",
       "      <th>M</th>\n",
       "      <td>32</td>\n",
       "      <td>32</td>\n",
       "      <td>9</td>\n",
       "    </tr>\n",
       "    <tr>\n",
       "      <th>T</th>\n",
       "      <td>15</td>\n",
       "      <td>13</td>\n",
       "      <td>13</td>\n",
       "    </tr>\n",
       "    <tr>\n",
       "      <th>unknown</th>\n",
       "      <td>25</td>\n",
       "      <td>24</td>\n",
       "      <td>65</td>\n",
       "    </tr>\n",
       "  </tbody>\n",
       "</table>\n",
       "</div>"
      ],
      "text/plain": [
       "         percent_sales_na  percent_sales_eu  percent_sales_jp\n",
       "rating                                                       \n",
       "E                      16                23                 8\n",
       "E10+                    9                 6                 3\n",
       "M                      32                32                 9\n",
       "T                      15                13                13\n",
       "unknown                25                24                65"
      ]
     },
     "metadata": {},
     "output_type": "display_data"
    }
   ],
   "source": [
    "rating_na = data_last_year.pivot_table(index = 'rating', values = 'na_sales', aggfunc = 'sum')\n",
    "rating_na['percent_sales_na'] = (rating_na['na_sales'] / rating_na['na_sales'].sum() * 100).astype(int)\n",
    "rating_na = rating_na.drop(columns='na_sales') \n",
    "\n",
    "rating_eu = data_last_year.pivot_table(index = 'rating', values = 'eu_sales', aggfunc = 'sum')\n",
    "rating_eu['percent_sales_eu'] = (rating_eu['eu_sales'] / rating_eu['eu_sales'].sum() * 100).astype(int)\n",
    "rating_eu = rating_eu.drop(columns='eu_sales') \n",
    "\n",
    "rating_jp = data_last_year.pivot_table(index = 'rating', values = 'jp_sales', aggfunc = 'sum')\n",
    "rating_jp['percent_sales_jp'] = (rating_jp['jp_sales'] / rating_jp['jp_sales'].sum() * 100).astype(int)\n",
    "rating_jp = rating_jp.drop(columns='jp_sales') \n",
    "\n",
    "\n",
    "display(rating_na.merge(rating_eu, on='rating').merge(rating_jp, on='rating'))"
   ]
  },
  {
   "cell_type": "markdown",
   "metadata": {},
   "source": [
    "**Новый вывод**\n",
    "\n",
    "Определяется зависимость между рейтингом ESRB и продажами игр.\n",
    "\n",
    "- Наиболее популярные игры в Америке и в Европе имеют рейтинг М, unknown или Е\n",
    "- Наиболее популярные игры в Японии имеют рейтинг unknown.\n",
    "- Игры с рейтингом E10+ наименее популярные\n"
   ]
  },
  {
   "cell_type": "markdown",
   "metadata": {},
   "source": [
    "<div class=\"alert alert-block alert-success\">\n",
    "<b>✅Комментарий ревьюера 2:</b> В Японии, кстати, есть своя рейтинговая система. Поэтому большинство игр не имеют рейтинга ESRB  </div>"
   ]
  },
  {
   "cell_type": "markdown",
   "metadata": {},
   "source": [
    "**Старый вывод**\n",
    "Определяется зависимость между рейтингом ESRB и продажами игр.\n",
    "\n",
    "- Наиболее продаваемые игры в Америке,Европе и Японии имеют рейтинг М, E или T\n",
    "- Игры с рейтингом E10+ покупают меньше всего.\n"
   ]
  },
  {
   "cell_type": "markdown",
   "metadata": {},
   "source": [
    "#### Новый Вывод\n",
    "\n",
    "На продажи игр влияют такие показатели, как игровая платформа, жанр игры и рейтинг ESRB. \n",
    "- Лидером продаж в Америке, Европе является игровая платформа PS4. На втором месте в Америке и Европе идёт платформа XOne.\n",
    "- Лидером продаж в Японии является игровая платформа 3DS. Далее следуют платформы PS4 и PS3\n",
    "- Лидерами продаж в Америке и Европе являются такие игровые жанры, как Shooter, Action и Sports. \n",
    "- Лидерами продаж в Японии являются жанры Action и Role-Playing. Продажи жанра Shooter составляют всего 5%. \n",
    "- Наиболее популярные игры в Америке и в Европе имеют рейтинг М, unknown или Е\n",
    "- Наиболее популярные игры в Японии имеют рейтинг unknown.\n",
    "- Игры с рейтингом E10+ наименее популярные в представленных регионах"
   ]
  },
  {
   "cell_type": "markdown",
   "metadata": {},
   "source": [
    "**Старый Вывод**\n",
    "\n",
    "На продажи игр влияют такие показатели, как игровая платформа, жанр игры и рейтинг ESRB. \n",
    "- Лидером продаж в Америке, Европе и Японии является игровая платформа PS4. На втором месте в Америке и Европе идёт платформа XOne, а в Японии 3DS.\n",
    "- Лидерами продаж в Америке и Европе являются такие игровые жанры, как Shooter, Action и Sports. В Японии наиболее популярны жанры Action и Role-Playing.\n",
    "- Лучше всего в Америке, Европе и Японии продаются игры с рейтингом M, далее следуют рейтинги Е и Т."
   ]
  },
  {
   "cell_type": "markdown",
   "metadata": {},
   "source": [
    "<div class=\"alert alert-block alert-success\">\n",
    "<b>✅Комментарий ревьюера:</b>\n",
    "    \n",
    "Молодец, что не забываешь о промежуточных выводах!</div>"
   ]
  },
  {
   "cell_type": "markdown",
   "metadata": {},
   "source": [
    "### Проверка гипотез"
   ]
  },
  {
   "cell_type": "markdown",
   "metadata": {},
   "source": [
    "#### Средние пользовательские рейтинги платформ Xbox One и PC одинаковые;\n",
    "\n",
    "- H_0: Средние пользовательские рейтинги XboxOne = Средние пользовательские рейтинги PC\n",
    "- H_1: Средние пользовательские рейтинги XboxOne ≠ Средние пользовательские рейтинги PC\n",
    "\n",
    "- H₀ всегда формулируется так, чтобы использовать знак равенства. Другими словами, чтобы все данные лежали в районе изначально предполагаемого значения. Соответственно, в качестве альтернативной гипотезы выдвигаем гипотезу о неравенстве средних двух генеральных независимых совокупностей.\n",
    "\n",
    "- Зададим пороговое значение alpha = 0,05 - критический уровень статистической значимости. Если p-value окажется меньше него - отвергнем гипотезу\n",
    "\n",
    "- Так как наши генеральные совокупности не очень большие, можно просто рассчитать их средние и сравнить между собой в качестве проверки статистических расчётов.\n"
   ]
  },
  {
   "cell_type": "markdown",
   "metadata": {},
   "source": [
    "<div class=\"alert alert-block alert-success\">\n",
    "<b>✅Комментарий ревьюера:</b> Здорово, что формулируешь гипотезы вначале шага </div>"
   ]
  },
  {
   "cell_type": "code",
   "execution_count": 35,
   "metadata": {},
   "outputs": [
    {
     "name": "stdout",
     "output_type": "stream",
     "text": [
      "Среднее значение пользовательского рейтинга XboxOne =  6.542148760330578\n",
      "Среднее значение пользовательского рейтинга PC =  6.29642857142857\n",
      "0.2946308864003345\n",
      "Не получилось отвергнуть нулевую гипотезу\n"
     ]
    }
   ],
   "source": [
    "data_last_year = data_last_year[data_last_year['user_score'] != 0]\n",
    "\n",
    "data_last_year_xone = data_last_year.query('platform == \"XOne\"')\n",
    "total_cost_xone = data_last_year_xone['user_score'] \n",
    "\n",
    "data_last_year_pc = data_last_year.query('platform == \"PC\"')\n",
    "total_cost_pc = data_last_year_pc['user_score']  \n",
    "\n",
    "print('Среднее значение пользовательского рейтинга XboxOne = ', data_last_year_xone['user_score'].mean())\n",
    "print('Среднее значение пользовательского рейтинга PC = ', data_last_year_pc['user_score'].mean())\n",
    "\n",
    "alpha = .05 \n",
    "\n",
    "results = st.ttest_ind(\n",
    "    total_cost_xone, \n",
    "    total_cost_pc,\n",
    "    equal_var = False\n",
    ")\n",
    "\n",
    "print(results.pvalue)\n",
    "\n",
    "if results.pvalue < alpha:\n",
    "    print(\"Отвергаем нулевую гипотезу\")\n",
    "else:\n",
    "    print(\"Не получилось отвергнуть нулевую гипотезу\") "
   ]
  },
  {
   "cell_type": "markdown",
   "metadata": {},
   "source": [
    "##### Вывод \n",
    "- Значение p-value = 29% - это вероятность получить наблюдаемый или еще более далекий от предполагаемого результат при условии, что нулевая гипотеза верна - не позволяет отвергнуть гипотезу H_0\n",
    "\n",
    "- H_0: Средние пользовательские рейтинги XboxOne = Средние пользовательские рейтинги PC\n",
    "- Данный вывод подтверждает расчёт средних значений, которые очень близки:\n",
    "   - Среднее значение пользовательского рейтинга XboxOne = 6.542148760330578\n",
    "   - Среднее значение пользовательского рейтинга PC  = 6.29642857142857"
   ]
  },
  {
   "cell_type": "markdown",
   "metadata": {},
   "source": [
    "#### Средние пользовательские рейтинги жанров Action (англ. «действие», экшен-игры) и Sports (англ. «спортивные соревнования») разные.\n",
    "- H_0: Средние пользовательские рейтинги жанра Action =  Средние пользовательские рейтинги жанра Sports.\n",
    "- H_1: Средние пользовательские рейтинги жанра Action ≠  Средние пользовательские рейтинги жанра Sports.\n",
    "\n",
    "- H₀ всегда формулируется так, чтобы использовать знак равенства. Другими словами, чтобы все данные лежали в районе изначально предполагаемого значения. Соответственно, в качестве альтернативной гипотезы выдвигаем гипотезу о неравенстве средних двух генеральных независимых совокупностей.\n",
    "\n",
    "- Зададим пороговое значение alpha = 0,05 - критический уровень статистической значимости. Если p-value окажется меньше него - отвергнем гипотезу\n",
    "\n",
    "- Так как наши генеральные совокупности не очень большие, можно просто рассчитать их средние и сравнить между собой в качестве проверки статистических расчётов.\n"
   ]
  },
  {
   "cell_type": "code",
   "execution_count": 36,
   "metadata": {},
   "outputs": [
    {
     "name": "stdout",
     "output_type": "stream",
     "text": [
      "Среднее значение пользовательского рейтинга жанра Action =  6.744311377245507\n",
      "Среднее значение пользовательского рейтинга жанра Sports =  5.1525\n",
      "1.4155387005135008e-09\n",
      "Отвергаем нулевую гипотезу\n"
     ]
    }
   ],
   "source": [
    "data_last_year_action = data_last_year.query('genre == \"Action\"')\n",
    "total_cost_action = data_last_year_action['user_score'] \n",
    "\n",
    "data_last_year_sports = data_last_year.query('genre == \"Sports\"')\n",
    "total_cost_sports = data_last_year_sports['user_score']  \n",
    "\n",
    "print('Среднее значение пользовательского рейтинга жанра Action = ', data_last_year_action['user_score'].mean())\n",
    "print('Среднее значение пользовательского рейтинга жанра Sports = ', data_last_year_sports['user_score'].mean())\n",
    "\n",
    "alpha = .05 \n",
    "\n",
    "results = st.ttest_ind(\n",
    "    total_cost_action, \n",
    "    total_cost_sports,\n",
    "    equal_var = False\n",
    ")\n",
    "\n",
    "print(results.pvalue)\n",
    "\n",
    "if results.pvalue < alpha:\n",
    "    print(\"Отвергаем нулевую гипотезу\")\n",
    "else:\n",
    "    print(\"Не получилось отвергнуть нулевую гипотезу\") "
   ]
  },
  {
   "cell_type": "markdown",
   "metadata": {},
   "source": [
    "##### Вывод \n",
    "- Значение p-value = 1.4* 10-7 % - это вероятность получить наблюдаемый или еще более далекий от предполагаемого результат при условии, что нулевая гипотеза верна < критический уровень статистической значимости = 0.05. Поэтому отвергаем нулевую гипотезу H_0. Принимаем гипотезу H_1.\n",
    "- H_1: Средние пользовательские рейтинги жанра Action ≠  Средние пользовательские рейтинги жанра Sports.\n",
    "\n",
    "- Данный вывод подтверждает расчёт средних значений:\n",
    "Среднее значение пользовательского рейтинга жанра Action =  6.744311377245507\n",
    "Среднее значение пользовательского рейтинга жанра Sports =  5.1525"
   ]
  },
  {
   "cell_type": "markdown",
   "metadata": {},
   "source": [
    "<div class=\"alert alert-block alert-success\">\n",
    "<b>✅Комментарий ревьюера:</b> Гипотезы верно проработаны! </div>"
   ]
  },
  {
   "cell_type": "markdown",
   "metadata": {},
   "source": [
    "### Вывод\n",
    "\n",
    "1. Были изучены данные о продажах игр, оценки пользователей и экспертов, жанры и платформы за период с 1980 по 2016 гг. Были выявлены определяющие успешность игры закономерности, что позволит сделать ставку на потенциально популярный продукт и спланировать рекламные кампании.\n",
    "\n",
    "2. Проведена предобработка данных. \n",
    "- приведены названия столбцов к нижнему регистру\n",
    "- данные преобразованы в нужные типы\n",
    "- пропуски обработаны\n",
    "- посчитаны суммарные продажи во всех регионах и записаны в отдельный столбец 'total_sales'. \n",
    "\n",
    "3. Проведен исследовательскоий анализа данных, который показал следующие результаты:\n",
    "- количество новых игр постепенно росло, начиная с 1980 г., но только, в 1994 - 1995 г. начинается активный рост. 2008-2009 - годы появления максимально большого количества игр. После 2010 наблюдается спад в производстве игр.\n",
    "- характерный срок появлявления новых и исчезновения старых платформ составляет примерно 10 лет\n",
    "- определен актуальный период для дальнейших исследований - 2015 - 2016 гг.Так как нам нужно спрогнозировать потенциально прибыльные платформы на 2017, будем рассматривать платформы, которые остались на 2015-2016 гг.\n",
    "- выявлено, что количество проданных экземпляров копий на всех платформах уменьшается с 2015 г по 2016 г. На большестве платформ   продажи близки к 0. \n",
    "- выявлены потенциально прибыльные игровые платформы: **Sony PS4, Microsoft XOne и Nintendo 3DS.**\n",
    "  платформа **PS4** лидирует среди остальных платформ за счёт наличия очень популярных игр спродажами от 1 млн. копий и выше.\n",
    "-  рассчитали коэффициент Пирсона и между отзывами пользователей и продажами и между отзывами критиков и продажами на всех платформах в 2015-2016 гг. и оценили корреляцию.\n",
    " - выявлено, что для топ платформ PS4 и XOne оценки пользователей не влияют на продажи, так как коэффициент Пирсона близок к 0. А вот оценки критиков влияют на продажи. Коэффициент Пирсона больше 0.3 > 0. Это говорит о том, что чем выше оценки критиков, тем выше продаж. В то же время, на увеличение продаж влияют и другие факторы, так как коэффициент Пирсона существенно меньше 1.\n",
    " - для платформ 3DS и PC корреляция между отзывами пользователей и продажами и между отзывами критиков и продажами примерно одинаковая и составляет 0.2 -0.3. И оценки пользователей и оценки критиков в равной степени влияют на продажи. Чем выше оценки, тем выше продажи.\n",
    " - для платформ PS3 и X360 корреляция скорее обратная, коэффициенты Пирсона незначительно, но меньше 0, то есть чем выше отзывы, тем ниже продажи. Но данная зависимость слабо выражена, так как коэффициен существенно выше -1. \n",
    "- выявлено, что жанр **Misc** является одним из лидеров среди всех платформ, но совсем непопулярен на top платформах. Возможно, марктологам на top платформах стоит обратить внимание на такой жанр как **Misc**.\n",
    "\n",
    "4. Составлен портрет пользователей из Америки, Европы и Японии.\n",
    "- Выявлено, что на продажи игр влияют такие показатели, как игровая платформа, жанр игры и рейтинг ESRB. \n",
    "- Лидером продаж в Америке, Европе является игровая платформа PS4. На втором месте в Америке и Европе идёт платформа XOne.\n",
    "- Лидером продаж в Японии является игровая платформа 3DS. Далее следуют платформы PS4 и PS3\n",
    "- Лидерами продаж в Америке и Европе являются такие игровые жанры, как Shooter, Action и Sports. \n",
    "- Лидерами продаж в Японии являются жанры Action и Role-Playing. Продажи жанра Shooter составляют всего 5%. \n",
    "- Наиболее популярные игры в Америке и в Европе имеют рейтинг М, unknown или Е\n",
    "- Наиболее популярные игры в Японии имеют рейтинг unknown.\n",
    "- Игры с рейтингом E10+ наименее популярные в представленных регионах\n",
    "\n",
    "5. Провели проверку гипотез\n",
    " 5.1 средние пользовательские рейтинги платформ Xbox One и PC одинаковые;\n",
    "   - H_0: Средние пользовательские рейтинги XboxOne = Средние пользовательские рейтинги PC\n",
    "   - H_1: Средние пользовательские рейтинги XboxOne ≠ Средние пользовательские рейтинги PC\n",
    "   - вывод: Не получилось отвергнуть нулевую гипотезу H_0.   \n",
    "   \n",
    " 5.2 средние пользовательские рейтинги жанров Action (англ. «действие», экшен-игры) и Sports (англ. «спортивные соревнования») разные.\n",
    "   - H_0: Средние пользовательские рейтинги жанра Action = Средние пользовательские рейтинги жанра Sports.\n",
    "   - H_1: Средние пользовательские рейтинги жанра Action ≠ Средние пользовательские рейтинги жанра Sports.   \n",
    "   - вывод: отвергаем нулевую гипотезу H_0. Принимаем гипотезу H_1.\n",
    "   \n",
    "**Успешными и потенциально прибыльными на 2017 год являются:**\n",
    "\n",
    "**- в Америке - игровые платформы Sony PS4, Microsoft XOne, игровые жанры - Shooter, Action и Sports, игры с рейтингом ESRB: М, unknown или Е**\n",
    "\n",
    "**- в Европе - игровая платформа Sony PS4, игровые жанры - Shooter, Action и Sports, игры с рейтингом ESRB: М, unknown или Е** \n",
    "\n",
    "**- в Японии несомненный лидер - платформа Nintendo 3DS, игровые жанры Action и Role-Playing, игры с рейтингом ESRB: unknown**  \n",
    "\n",
    "**- на платформах PS4, XOne, 3DS и PC высокие оценки критиков увеличивают продажи** \n",
    "\n",
    "\n"
   ]
  },
  {
   "cell_type": "markdown",
   "metadata": {},
   "source": [
    "<div class=\"alert alert-block alert-success\">\n",
    "<b>✅Комментарий ревьюера:</b> \n",
    "\n",
    "Очень хороший и содержательный вывод!\n",
    "\n",
    "Обрати внимание, что после исправления замечаний выше, результаты исследования по некоторым пунктам изменятся, соответственно нужно будет подкорректировать как промежуточные выводы, так и общий вывод.</div>"
   ]
  },
  {
   "cell_type": "markdown",
   "metadata": {},
   "source": [
    "<div class=\"alert alert-block alert-info\">\n",
    "<b>🔄Комментарий студента:</b> \n",
    "Исправила п.4 и окончательный вывод\n",
    "  \n",
    "</div>"
   ]
  },
  {
   "cell_type": "markdown",
   "metadata": {},
   "source": [
    "<div class=\"alert alert-block alert-success\">\n",
    "<b>✅Комментарий ревьюера 2:</b> Отлично!👍  </div>"
   ]
  },
  {
   "cell_type": "code",
   "execution_count": null,
   "metadata": {},
   "outputs": [],
   "source": []
  },
  {
   "cell_type": "code",
   "execution_count": null,
   "metadata": {},
   "outputs": [],
   "source": []
  }
 ],
 "metadata": {
  "ExecuteTimeLog": [
   {
    "duration": 838,
    "start_time": "2022-10-18T07:02:27.082Z"
   },
   {
    "duration": 70,
    "start_time": "2022-10-18T07:28:23.900Z"
   },
   {
    "duration": 10,
    "start_time": "2022-10-18T07:28:34.915Z"
   },
   {
    "duration": 8,
    "start_time": "2022-10-18T07:30:20.606Z"
   },
   {
    "duration": 5,
    "start_time": "2022-10-18T07:43:17.499Z"
   },
   {
    "duration": 6,
    "start_time": "2022-10-18T07:43:47.374Z"
   },
   {
    "duration": 6,
    "start_time": "2022-10-18T08:57:23.178Z"
   },
   {
    "duration": 13,
    "start_time": "2022-10-18T08:58:04.090Z"
   },
   {
    "duration": 11,
    "start_time": "2022-10-18T08:58:23.589Z"
   },
   {
    "duration": 11,
    "start_time": "2022-10-18T08:59:10.632Z"
   },
   {
    "duration": 15,
    "start_time": "2022-10-18T08:59:32.215Z"
   },
   {
    "duration": 14,
    "start_time": "2022-10-18T09:00:10.948Z"
   },
   {
    "duration": 5,
    "start_time": "2022-10-18T09:08:36.719Z"
   },
   {
    "duration": 783,
    "start_time": "2022-10-18T09:20:02.940Z"
   },
   {
    "duration": 5,
    "start_time": "2022-10-18T09:20:03.724Z"
   },
   {
    "duration": 81,
    "start_time": "2022-10-18T09:20:03.730Z"
   },
   {
    "duration": 0,
    "start_time": "2022-10-18T09:20:03.813Z"
   },
   {
    "duration": 0,
    "start_time": "2022-10-18T09:20:03.814Z"
   },
   {
    "duration": 9,
    "start_time": "2022-10-18T09:20:57.316Z"
   },
   {
    "duration": 7,
    "start_time": "2022-10-18T09:21:28.623Z"
   },
   {
    "duration": 16,
    "start_time": "2022-10-18T09:21:58.949Z"
   },
   {
    "duration": 606,
    "start_time": "2022-10-18T09:23:17.930Z"
   },
   {
    "duration": 5,
    "start_time": "2022-10-18T09:23:18.538Z"
   },
   {
    "duration": 28,
    "start_time": "2022-10-18T09:23:18.544Z"
   },
   {
    "duration": 2,
    "start_time": "2022-10-18T09:23:18.574Z"
   },
   {
    "duration": 73,
    "start_time": "2022-10-18T09:23:18.577Z"
   },
   {
    "duration": 14,
    "start_time": "2022-10-18T09:28:29.486Z"
   },
   {
    "duration": 21753,
    "start_time": "2022-10-18T09:34:04.875Z"
   },
   {
    "duration": 636,
    "start_time": "2022-10-18T09:34:40.012Z"
   },
   {
    "duration": 6,
    "start_time": "2022-10-18T09:34:40.650Z"
   },
   {
    "duration": 13943,
    "start_time": "2022-10-18T09:34:40.658Z"
   },
   {
    "duration": 664,
    "start_time": "2022-10-18T09:34:54.603Z"
   },
   {
    "duration": 0,
    "start_time": "2022-10-18T09:34:55.269Z"
   },
   {
    "duration": 11,
    "start_time": "2022-10-18T09:36:53.795Z"
   },
   {
    "duration": 405,
    "start_time": "2022-10-18T09:39:02.039Z"
   },
   {
    "duration": 64,
    "start_time": "2022-10-18T09:39:32.859Z"
   },
   {
    "duration": 1051,
    "start_time": "2022-10-18T09:40:04.153Z"
   },
   {
    "duration": 374,
    "start_time": "2022-10-18T09:40:47.240Z"
   },
   {
    "duration": 678,
    "start_time": "2022-10-18T09:47:23.468Z"
   },
   {
    "duration": 5,
    "start_time": "2022-10-18T09:47:24.148Z"
   },
   {
    "duration": 13574,
    "start_time": "2022-10-18T09:47:24.155Z"
   },
   {
    "duration": 303,
    "start_time": "2022-10-18T09:47:37.731Z"
   },
   {
    "duration": 0,
    "start_time": "2022-10-18T09:47:38.036Z"
   },
   {
    "duration": 635,
    "start_time": "2022-10-18T09:58:27.454Z"
   },
   {
    "duration": 0,
    "start_time": "2022-10-18T09:58:28.090Z"
   },
   {
    "duration": 0,
    "start_time": "2022-10-18T09:58:28.092Z"
   },
   {
    "duration": 0,
    "start_time": "2022-10-18T09:58:28.093Z"
   },
   {
    "duration": 0,
    "start_time": "2022-10-18T09:58:28.094Z"
   },
   {
    "duration": 93,
    "start_time": "2022-10-18T09:59:34.252Z"
   },
   {
    "duration": 692,
    "start_time": "2022-10-18T10:31:01.996Z"
   },
   {
    "duration": 5,
    "start_time": "2022-10-18T10:31:02.690Z"
   },
   {
    "duration": 43,
    "start_time": "2022-10-18T10:31:02.697Z"
   },
   {
    "duration": 4,
    "start_time": "2022-10-18T10:31:02.743Z"
   },
   {
    "duration": 15,
    "start_time": "2022-10-18T10:31:02.748Z"
   },
   {
    "duration": 6,
    "start_time": "2022-10-18T10:35:53.590Z"
   },
   {
    "duration": 16,
    "start_time": "2022-10-18T10:36:19.311Z"
   },
   {
    "duration": 15,
    "start_time": "2022-10-18T10:36:53.222Z"
   },
   {
    "duration": 71,
    "start_time": "2022-10-18T10:37:46.064Z"
   },
   {
    "duration": 15,
    "start_time": "2022-10-18T10:39:54.302Z"
   },
   {
    "duration": 11,
    "start_time": "2022-10-18T10:41:05.866Z"
   },
   {
    "duration": 9,
    "start_time": "2022-10-18T10:41:48.683Z"
   },
   {
    "duration": 9,
    "start_time": "2022-10-18T10:42:29.487Z"
   },
   {
    "duration": 681,
    "start_time": "2022-10-18T10:42:37.892Z"
   },
   {
    "duration": 6,
    "start_time": "2022-10-18T10:42:38.575Z"
   },
   {
    "duration": 26,
    "start_time": "2022-10-18T10:42:38.582Z"
   },
   {
    "duration": 8,
    "start_time": "2022-10-18T10:42:38.610Z"
   },
   {
    "duration": 6,
    "start_time": "2022-10-18T10:42:38.619Z"
   },
   {
    "duration": 12,
    "start_time": "2022-10-18T10:51:03.520Z"
   },
   {
    "duration": 6,
    "start_time": "2022-10-18T10:53:30.110Z"
   },
   {
    "duration": 72,
    "start_time": "2022-10-18T11:01:29.690Z"
   },
   {
    "duration": 18,
    "start_time": "2022-10-18T11:01:46.050Z"
   },
   {
    "duration": 6,
    "start_time": "2022-10-18T11:02:39.285Z"
   },
   {
    "duration": 12,
    "start_time": "2022-10-18T11:03:19.361Z"
   },
   {
    "duration": 90,
    "start_time": "2022-10-18T11:43:19.763Z"
   },
   {
    "duration": 57,
    "start_time": "2022-10-18T11:43:26.702Z"
   },
   {
    "duration": 13,
    "start_time": "2022-10-18T11:43:37.020Z"
   },
   {
    "duration": 18,
    "start_time": "2022-10-18T11:45:01.878Z"
   },
   {
    "duration": 42,
    "start_time": "2022-10-18T11:45:59.580Z"
   },
   {
    "duration": 18,
    "start_time": "2022-10-18T11:46:08.832Z"
   },
   {
    "duration": 27,
    "start_time": "2022-10-18T11:46:45.653Z"
   },
   {
    "duration": 14,
    "start_time": "2022-10-18T11:47:13.347Z"
   },
   {
    "duration": 8,
    "start_time": "2022-10-18T12:03:08.670Z"
   },
   {
    "duration": 8,
    "start_time": "2022-10-18T12:03:29.812Z"
   },
   {
    "duration": 7,
    "start_time": "2022-10-18T12:04:35.909Z"
   },
   {
    "duration": 6,
    "start_time": "2022-10-18T12:04:59.235Z"
   },
   {
    "duration": 6,
    "start_time": "2022-10-18T12:06:15.909Z"
   },
   {
    "duration": 6,
    "start_time": "2022-10-18T12:06:30.199Z"
   },
   {
    "duration": 6,
    "start_time": "2022-10-18T12:06:37.829Z"
   },
   {
    "duration": 6,
    "start_time": "2022-10-18T12:06:48.290Z"
   },
   {
    "duration": 6,
    "start_time": "2022-10-18T12:07:11.647Z"
   },
   {
    "duration": 672,
    "start_time": "2022-10-18T12:07:43.197Z"
   },
   {
    "duration": 5,
    "start_time": "2022-10-18T12:07:43.871Z"
   },
   {
    "duration": 29,
    "start_time": "2022-10-18T12:07:43.878Z"
   },
   {
    "duration": 11,
    "start_time": "2022-10-18T12:07:43.909Z"
   },
   {
    "duration": 9,
    "start_time": "2022-10-18T12:07:43.921Z"
   },
   {
    "duration": 6,
    "start_time": "2022-10-18T12:08:23.311Z"
   },
   {
    "duration": 739,
    "start_time": "2022-10-18T12:08:51.214Z"
   },
   {
    "duration": 5,
    "start_time": "2022-10-18T12:08:51.955Z"
   },
   {
    "duration": 19,
    "start_time": "2022-10-18T12:08:51.962Z"
   },
   {
    "duration": 21,
    "start_time": "2022-10-18T12:08:51.983Z"
   },
   {
    "duration": 17,
    "start_time": "2022-10-18T12:08:52.006Z"
   },
   {
    "duration": 9,
    "start_time": "2022-10-18T12:09:12.595Z"
   },
   {
    "duration": 86,
    "start_time": "2022-10-18T12:14:12.263Z"
   },
   {
    "duration": 4,
    "start_time": "2022-10-18T12:14:41.635Z"
   },
   {
    "duration": 688,
    "start_time": "2022-10-18T12:24:25.878Z"
   },
   {
    "duration": 5,
    "start_time": "2022-10-18T12:24:26.568Z"
   },
   {
    "duration": 26,
    "start_time": "2022-10-18T12:24:26.575Z"
   },
   {
    "duration": 4,
    "start_time": "2022-10-18T12:24:26.602Z"
   },
   {
    "duration": 13,
    "start_time": "2022-10-18T12:24:26.607Z"
   },
   {
    "duration": 7,
    "start_time": "2022-10-18T12:24:26.621Z"
   },
   {
    "duration": 965,
    "start_time": "2022-10-18T16:13:05.515Z"
   },
   {
    "duration": 5,
    "start_time": "2022-10-18T16:13:06.482Z"
   },
   {
    "duration": 27,
    "start_time": "2022-10-18T16:13:06.488Z"
   },
   {
    "duration": 4,
    "start_time": "2022-10-18T16:13:06.516Z"
   },
   {
    "duration": 41,
    "start_time": "2022-10-18T16:13:06.522Z"
   },
   {
    "duration": 7,
    "start_time": "2022-10-18T16:13:06.565Z"
   },
   {
    "duration": 10,
    "start_time": "2022-10-18T16:13:06.574Z"
   },
   {
    "duration": 64,
    "start_time": "2022-10-18T16:17:05.663Z"
   },
   {
    "duration": 77,
    "start_time": "2022-10-18T16:17:15.933Z"
   },
   {
    "duration": 5,
    "start_time": "2022-10-18T16:27:10.953Z"
   },
   {
    "duration": 16,
    "start_time": "2022-10-18T17:05:09.167Z"
   },
   {
    "duration": 16,
    "start_time": "2022-10-18T17:08:31.547Z"
   },
   {
    "duration": 15,
    "start_time": "2022-10-18T17:10:15.538Z"
   },
   {
    "duration": 685,
    "start_time": "2022-10-18T17:15:25.206Z"
   },
   {
    "duration": 8,
    "start_time": "2022-10-18T17:15:25.893Z"
   },
   {
    "duration": 25,
    "start_time": "2022-10-18T17:15:25.903Z"
   },
   {
    "duration": 4,
    "start_time": "2022-10-18T17:15:25.930Z"
   },
   {
    "duration": 46,
    "start_time": "2022-10-18T17:15:25.935Z"
   },
   {
    "duration": 74,
    "start_time": "2022-10-18T17:15:25.982Z"
   },
   {
    "duration": 0,
    "start_time": "2022-10-18T17:15:26.058Z"
   },
   {
    "duration": 0,
    "start_time": "2022-10-18T17:15:26.059Z"
   },
   {
    "duration": 4,
    "start_time": "2022-10-18T17:15:44.158Z"
   },
   {
    "duration": 6,
    "start_time": "2022-10-18T17:17:06.278Z"
   },
   {
    "duration": 6,
    "start_time": "2022-10-18T17:17:59.456Z"
   },
   {
    "duration": 11,
    "start_time": "2022-10-18T17:19:11.522Z"
   },
   {
    "duration": 39,
    "start_time": "2022-10-18T17:19:43.648Z"
   },
   {
    "duration": 656,
    "start_time": "2022-10-18T17:25:32.938Z"
   },
   {
    "duration": 5,
    "start_time": "2022-10-18T17:25:33.596Z"
   },
   {
    "duration": 21,
    "start_time": "2022-10-18T17:25:33.603Z"
   },
   {
    "duration": 4,
    "start_time": "2022-10-18T17:25:33.625Z"
   },
   {
    "duration": 97,
    "start_time": "2022-10-18T17:25:33.630Z"
   },
   {
    "duration": 0,
    "start_time": "2022-10-18T17:25:33.729Z"
   },
   {
    "duration": 0,
    "start_time": "2022-10-18T17:25:33.730Z"
   },
   {
    "duration": 0,
    "start_time": "2022-10-18T17:25:33.731Z"
   },
   {
    "duration": 11,
    "start_time": "2022-10-18T17:26:22.722Z"
   },
   {
    "duration": 633,
    "start_time": "2022-10-18T17:27:35.237Z"
   },
   {
    "duration": 5,
    "start_time": "2022-10-18T17:27:35.872Z"
   },
   {
    "duration": 22,
    "start_time": "2022-10-18T17:27:35.878Z"
   },
   {
    "duration": 4,
    "start_time": "2022-10-18T17:27:35.902Z"
   },
   {
    "duration": 97,
    "start_time": "2022-10-18T17:27:35.907Z"
   },
   {
    "duration": 94,
    "start_time": "2022-10-18T17:27:36.006Z"
   },
   {
    "duration": 5,
    "start_time": "2022-10-18T17:27:36.102Z"
   },
   {
    "duration": 11,
    "start_time": "2022-10-18T17:27:36.109Z"
   },
   {
    "duration": 11,
    "start_time": "2022-10-18T17:29:45.992Z"
   },
   {
    "duration": 6,
    "start_time": "2022-10-18T17:31:23.967Z"
   },
   {
    "duration": 9,
    "start_time": "2022-10-18T17:32:01.964Z"
   },
   {
    "duration": 692,
    "start_time": "2022-10-18T17:32:09.569Z"
   },
   {
    "duration": 5,
    "start_time": "2022-10-18T17:32:10.263Z"
   },
   {
    "duration": 20,
    "start_time": "2022-10-18T17:32:10.269Z"
   },
   {
    "duration": 28,
    "start_time": "2022-10-18T17:32:10.291Z"
   },
   {
    "duration": 71,
    "start_time": "2022-10-18T17:32:10.321Z"
   },
   {
    "duration": 39,
    "start_time": "2022-10-18T17:32:10.393Z"
   },
   {
    "duration": 4,
    "start_time": "2022-10-18T17:32:10.434Z"
   },
   {
    "duration": 24,
    "start_time": "2022-10-18T17:32:10.440Z"
   },
   {
    "duration": 64,
    "start_time": "2022-10-18T17:36:37.465Z"
   },
   {
    "duration": 11,
    "start_time": "2022-10-18T17:40:01.765Z"
   },
   {
    "duration": 727,
    "start_time": "2022-10-18T17:53:06.170Z"
   },
   {
    "duration": 6,
    "start_time": "2022-10-18T17:53:06.899Z"
   },
   {
    "duration": 20,
    "start_time": "2022-10-18T17:53:06.906Z"
   },
   {
    "duration": 4,
    "start_time": "2022-10-18T17:53:06.928Z"
   },
   {
    "duration": 37,
    "start_time": "2022-10-18T17:53:06.933Z"
   },
   {
    "duration": 53,
    "start_time": "2022-10-18T17:53:06.971Z"
   },
   {
    "duration": 5,
    "start_time": "2022-10-18T17:53:07.025Z"
   },
   {
    "duration": 22,
    "start_time": "2022-10-18T17:53:07.031Z"
   },
   {
    "duration": 10,
    "start_time": "2022-10-18T17:53:07.054Z"
   },
   {
    "duration": 14,
    "start_time": "2022-10-18T18:00:10.111Z"
   },
   {
    "duration": 9,
    "start_time": "2022-10-18T18:01:50.494Z"
   },
   {
    "duration": 10,
    "start_time": "2022-10-18T18:02:09.119Z"
   },
   {
    "duration": 58,
    "start_time": "2022-10-19T06:13:15.457Z"
   },
   {
    "duration": 1155,
    "start_time": "2022-10-19T06:13:39.563Z"
   },
   {
    "duration": 6,
    "start_time": "2022-10-19T06:13:40.721Z"
   },
   {
    "duration": 48,
    "start_time": "2022-10-19T06:13:40.729Z"
   },
   {
    "duration": 14,
    "start_time": "2022-10-19T06:13:40.780Z"
   },
   {
    "duration": 75,
    "start_time": "2022-10-19T06:13:40.800Z"
   },
   {
    "duration": 70,
    "start_time": "2022-10-19T06:13:40.877Z"
   },
   {
    "duration": 5,
    "start_time": "2022-10-19T06:13:40.949Z"
   },
   {
    "duration": 19,
    "start_time": "2022-10-19T06:13:40.956Z"
   },
   {
    "duration": 51,
    "start_time": "2022-10-19T06:13:40.992Z"
   },
   {
    "duration": 194,
    "start_time": "2022-10-19T06:13:41.045Z"
   },
   {
    "duration": 200,
    "start_time": "2022-10-19T06:14:08.220Z"
   },
   {
    "duration": 175,
    "start_time": "2022-10-19T06:18:08.027Z"
   },
   {
    "duration": 15,
    "start_time": "2022-10-19T06:52:09.252Z"
   },
   {
    "duration": 12,
    "start_time": "2022-10-19T06:55:01.261Z"
   },
   {
    "duration": 88,
    "start_time": "2022-10-19T07:18:35.073Z"
   },
   {
    "duration": 32,
    "start_time": "2022-10-19T07:19:21.061Z"
   },
   {
    "duration": 77,
    "start_time": "2022-10-19T07:21:18.059Z"
   },
   {
    "duration": 37,
    "start_time": "2022-10-19T07:29:51.710Z"
   },
   {
    "duration": 43,
    "start_time": "2022-10-19T07:35:43.407Z"
   },
   {
    "duration": 23,
    "start_time": "2022-10-19T07:38:50.487Z"
   },
   {
    "duration": 193,
    "start_time": "2022-10-19T07:39:20.157Z"
   },
   {
    "duration": 18,
    "start_time": "2022-10-19T07:41:17.276Z"
   },
   {
    "duration": 76,
    "start_time": "2022-10-19T07:43:51.302Z"
   },
   {
    "duration": 977,
    "start_time": "2022-10-19T07:44:09.159Z"
   },
   {
    "duration": 2191,
    "start_time": "2022-10-19T07:45:01.297Z"
   },
   {
    "duration": 694,
    "start_time": "2022-10-19T07:45:51.723Z"
   },
   {
    "duration": 370,
    "start_time": "2022-10-19T07:47:07.581Z"
   },
   {
    "duration": 23,
    "start_time": "2022-10-19T08:01:53.502Z"
   },
   {
    "duration": 298,
    "start_time": "2022-10-19T08:02:39.623Z"
   },
   {
    "duration": 306,
    "start_time": "2022-10-19T08:05:34.706Z"
   },
   {
    "duration": 405,
    "start_time": "2022-10-19T08:13:08.625Z"
   },
   {
    "duration": 1046,
    "start_time": "2022-10-19T08:13:27.890Z"
   },
   {
    "duration": 8,
    "start_time": "2022-10-19T08:13:28.939Z"
   },
   {
    "duration": 50,
    "start_time": "2022-10-19T08:13:28.950Z"
   },
   {
    "duration": 7,
    "start_time": "2022-10-19T08:13:29.009Z"
   },
   {
    "duration": 58,
    "start_time": "2022-10-19T08:13:29.019Z"
   },
   {
    "duration": 79,
    "start_time": "2022-10-19T08:13:29.080Z"
   },
   {
    "duration": 9,
    "start_time": "2022-10-19T08:13:29.162Z"
   },
   {
    "duration": 73,
    "start_time": "2022-10-19T08:13:29.175Z"
   },
   {
    "duration": 33,
    "start_time": "2022-10-19T08:13:29.250Z"
   },
   {
    "duration": 283,
    "start_time": "2022-10-19T08:13:29.285Z"
   },
   {
    "duration": 551,
    "start_time": "2022-10-19T08:13:29.570Z"
   },
   {
    "duration": 542,
    "start_time": "2022-10-19T08:13:30.123Z"
   },
   {
    "duration": 437,
    "start_time": "2022-10-19T08:13:30.668Z"
   },
   {
    "duration": 993,
    "start_time": "2022-10-19T08:14:12.319Z"
   },
   {
    "duration": 10,
    "start_time": "2022-10-19T08:14:13.315Z"
   },
   {
    "duration": 44,
    "start_time": "2022-10-19T08:14:13.327Z"
   },
   {
    "duration": 10,
    "start_time": "2022-10-19T08:14:13.374Z"
   },
   {
    "duration": 98,
    "start_time": "2022-10-19T08:14:13.386Z"
   },
   {
    "duration": 85,
    "start_time": "2022-10-19T08:14:13.486Z"
   },
   {
    "duration": 7,
    "start_time": "2022-10-19T08:14:13.574Z"
   },
   {
    "duration": 56,
    "start_time": "2022-10-19T08:14:13.591Z"
   },
   {
    "duration": 53,
    "start_time": "2022-10-19T08:14:13.650Z"
   },
   {
    "duration": 335,
    "start_time": "2022-10-19T08:14:13.714Z"
   },
   {
    "duration": 18,
    "start_time": "2022-10-19T08:14:14.050Z"
   },
   {
    "duration": 587,
    "start_time": "2022-10-19T08:14:14.070Z"
   },
   {
    "duration": 450,
    "start_time": "2022-10-19T08:14:14.659Z"
   },
   {
    "duration": 831,
    "start_time": "2022-10-19T08:22:32.666Z"
   },
   {
    "duration": 7,
    "start_time": "2022-10-19T08:22:33.499Z"
   },
   {
    "duration": 31,
    "start_time": "2022-10-19T08:22:33.508Z"
   },
   {
    "duration": 5,
    "start_time": "2022-10-19T08:22:33.541Z"
   },
   {
    "duration": 55,
    "start_time": "2022-10-19T08:22:33.548Z"
   },
   {
    "duration": 66,
    "start_time": "2022-10-19T08:22:33.605Z"
   },
   {
    "duration": 20,
    "start_time": "2022-10-19T08:22:33.674Z"
   },
   {
    "duration": 23,
    "start_time": "2022-10-19T08:22:33.696Z"
   },
   {
    "duration": 25,
    "start_time": "2022-10-19T08:22:33.722Z"
   },
   {
    "duration": 228,
    "start_time": "2022-10-19T08:22:33.749Z"
   },
   {
    "duration": 26,
    "start_time": "2022-10-19T08:22:33.979Z"
   },
   {
    "duration": 465,
    "start_time": "2022-10-19T08:22:34.008Z"
   },
   {
    "duration": 309,
    "start_time": "2022-10-19T08:22:34.475Z"
   },
   {
    "duration": 272,
    "start_time": "2022-10-19T08:22:55.357Z"
   },
   {
    "duration": 811,
    "start_time": "2022-10-19T08:23:04.295Z"
   },
   {
    "duration": 8,
    "start_time": "2022-10-19T08:23:05.111Z"
   },
   {
    "duration": 30,
    "start_time": "2022-10-19T08:23:05.121Z"
   },
   {
    "duration": 5,
    "start_time": "2022-10-19T08:23:05.153Z"
   },
   {
    "duration": 54,
    "start_time": "2022-10-19T08:23:05.160Z"
   },
   {
    "duration": 47,
    "start_time": "2022-10-19T08:23:05.216Z"
   },
   {
    "duration": 6,
    "start_time": "2022-10-19T08:23:05.265Z"
   },
   {
    "duration": 16,
    "start_time": "2022-10-19T08:23:05.289Z"
   },
   {
    "duration": 19,
    "start_time": "2022-10-19T08:23:05.306Z"
   },
   {
    "duration": 216,
    "start_time": "2022-10-19T08:23:05.328Z"
   },
   {
    "duration": 18,
    "start_time": "2022-10-19T08:23:05.546Z"
   },
   {
    "duration": 428,
    "start_time": "2022-10-19T08:23:05.566Z"
   },
   {
    "duration": 304,
    "start_time": "2022-10-19T08:23:05.996Z"
   },
   {
    "duration": 830,
    "start_time": "2022-10-19T13:17:18.081Z"
   },
   {
    "duration": 7,
    "start_time": "2022-10-19T13:17:18.913Z"
   },
   {
    "duration": 28,
    "start_time": "2022-10-19T13:17:18.922Z"
   },
   {
    "duration": 4,
    "start_time": "2022-10-19T13:17:18.952Z"
   },
   {
    "duration": 56,
    "start_time": "2022-10-19T13:17:18.958Z"
   },
   {
    "duration": 51,
    "start_time": "2022-10-19T13:17:19.016Z"
   },
   {
    "duration": 5,
    "start_time": "2022-10-19T13:17:19.068Z"
   },
   {
    "duration": 31,
    "start_time": "2022-10-19T13:17:19.075Z"
   },
   {
    "duration": 17,
    "start_time": "2022-10-19T13:17:19.108Z"
   },
   {
    "duration": 204,
    "start_time": "2022-10-19T13:17:19.127Z"
   },
   {
    "duration": 101,
    "start_time": "2022-10-19T13:17:19.333Z"
   },
   {
    "duration": 0,
    "start_time": "2022-10-19T13:17:19.436Z"
   },
   {
    "duration": 0,
    "start_time": "2022-10-19T13:17:19.437Z"
   },
   {
    "duration": 0,
    "start_time": "2022-10-19T13:17:19.439Z"
   },
   {
    "duration": 18,
    "start_time": "2022-10-19T13:17:45.600Z"
   },
   {
    "duration": 439,
    "start_time": "2022-10-19T13:18:00.142Z"
   },
   {
    "duration": 15,
    "start_time": "2022-10-19T13:20:42.999Z"
   },
   {
    "duration": 478,
    "start_time": "2022-10-19T13:20:49.088Z"
   },
   {
    "duration": 19,
    "start_time": "2022-10-19T13:21:14.957Z"
   },
   {
    "duration": 23,
    "start_time": "2022-10-19T13:53:43.867Z"
   },
   {
    "duration": 775,
    "start_time": "2022-10-19T14:00:18.714Z"
   },
   {
    "duration": 6,
    "start_time": "2022-10-19T14:00:19.491Z"
   },
   {
    "duration": 28,
    "start_time": "2022-10-19T14:00:19.499Z"
   },
   {
    "duration": 5,
    "start_time": "2022-10-19T14:00:19.529Z"
   },
   {
    "duration": 65,
    "start_time": "2022-10-19T14:00:19.536Z"
   },
   {
    "duration": 48,
    "start_time": "2022-10-19T14:00:19.603Z"
   },
   {
    "duration": 5,
    "start_time": "2022-10-19T14:00:19.653Z"
   },
   {
    "duration": 37,
    "start_time": "2022-10-19T14:00:19.660Z"
   },
   {
    "duration": 17,
    "start_time": "2022-10-19T14:00:19.698Z"
   },
   {
    "duration": 207,
    "start_time": "2022-10-19T14:00:19.718Z"
   },
   {
    "duration": 18,
    "start_time": "2022-10-19T14:00:19.926Z"
   },
   {
    "duration": 443,
    "start_time": "2022-10-19T14:00:19.946Z"
   },
   {
    "duration": 78,
    "start_time": "2022-10-19T14:00:20.391Z"
   },
   {
    "duration": 0,
    "start_time": "2022-10-19T14:00:20.471Z"
   },
   {
    "duration": 288,
    "start_time": "2022-10-19T14:00:36.864Z"
   },
   {
    "duration": 806,
    "start_time": "2022-10-19T14:28:32.993Z"
   },
   {
    "duration": 7,
    "start_time": "2022-10-19T14:28:33.801Z"
   },
   {
    "duration": 30,
    "start_time": "2022-10-19T14:28:33.810Z"
   },
   {
    "duration": 6,
    "start_time": "2022-10-19T14:28:33.843Z"
   },
   {
    "duration": 65,
    "start_time": "2022-10-19T14:28:33.851Z"
   },
   {
    "duration": 47,
    "start_time": "2022-10-19T14:28:33.918Z"
   },
   {
    "duration": 6,
    "start_time": "2022-10-19T14:28:33.966Z"
   },
   {
    "duration": 27,
    "start_time": "2022-10-19T14:28:33.973Z"
   },
   {
    "duration": 17,
    "start_time": "2022-10-19T14:28:34.002Z"
   },
   {
    "duration": 219,
    "start_time": "2022-10-19T14:28:34.022Z"
   },
   {
    "duration": 17,
    "start_time": "2022-10-19T14:28:34.242Z"
   },
   {
    "duration": 428,
    "start_time": "2022-10-19T14:28:34.261Z"
   },
   {
    "duration": 323,
    "start_time": "2022-10-19T14:28:34.691Z"
   },
   {
    "duration": 78,
    "start_time": "2022-10-19T14:28:35.015Z"
   },
   {
    "duration": 0,
    "start_time": "2022-10-19T14:28:35.094Z"
   },
   {
    "duration": 889,
    "start_time": "2022-10-19T14:33:17.912Z"
   },
   {
    "duration": 6,
    "start_time": "2022-10-19T14:33:18.803Z"
   },
   {
    "duration": 28,
    "start_time": "2022-10-19T14:33:18.811Z"
   },
   {
    "duration": 5,
    "start_time": "2022-10-19T14:33:18.841Z"
   },
   {
    "duration": 27,
    "start_time": "2022-10-19T14:33:18.847Z"
   },
   {
    "duration": 40,
    "start_time": "2022-10-19T14:33:18.875Z"
   },
   {
    "duration": 20,
    "start_time": "2022-10-19T14:33:18.917Z"
   },
   {
    "duration": 60,
    "start_time": "2022-10-19T14:33:18.939Z"
   },
   {
    "duration": 26,
    "start_time": "2022-10-19T14:33:19.000Z"
   },
   {
    "duration": 216,
    "start_time": "2022-10-19T14:33:19.028Z"
   },
   {
    "duration": 19,
    "start_time": "2022-10-19T14:33:19.246Z"
   },
   {
    "duration": 458,
    "start_time": "2022-10-19T14:33:19.267Z"
   },
   {
    "duration": 326,
    "start_time": "2022-10-19T14:33:19.727Z"
   },
   {
    "duration": 79,
    "start_time": "2022-10-19T14:33:20.055Z"
   },
   {
    "duration": 0,
    "start_time": "2022-10-19T14:33:20.136Z"
   },
   {
    "duration": 87,
    "start_time": "2022-10-19T14:42:58.446Z"
   },
   {
    "duration": 22,
    "start_time": "2022-10-19T14:43:48.908Z"
   },
   {
    "duration": 16,
    "start_time": "2022-10-19T14:47:13.120Z"
   },
   {
    "duration": 17,
    "start_time": "2022-10-19T14:48:47.227Z"
   },
   {
    "duration": 15,
    "start_time": "2022-10-19T14:50:04.672Z"
   },
   {
    "duration": 19,
    "start_time": "2022-10-19T14:59:59.578Z"
   },
   {
    "duration": 24,
    "start_time": "2022-10-19T15:13:47.198Z"
   },
   {
    "duration": 149,
    "start_time": "2022-10-19T15:17:05.436Z"
   },
   {
    "duration": 179,
    "start_time": "2022-10-19T15:18:45.063Z"
   },
   {
    "duration": 207,
    "start_time": "2022-10-19T15:19:22.012Z"
   },
   {
    "duration": 802,
    "start_time": "2022-10-19T15:29:47.193Z"
   },
   {
    "duration": 6,
    "start_time": "2022-10-19T15:29:47.996Z"
   },
   {
    "duration": 38,
    "start_time": "2022-10-19T15:29:48.003Z"
   },
   {
    "duration": 4,
    "start_time": "2022-10-19T15:29:48.043Z"
   },
   {
    "duration": 9,
    "start_time": "2022-10-19T15:29:48.049Z"
   },
   {
    "duration": 13,
    "start_time": "2022-10-19T15:29:48.060Z"
   },
   {
    "duration": 10,
    "start_time": "2022-10-19T15:29:48.075Z"
   },
   {
    "duration": 13,
    "start_time": "2022-10-19T15:29:48.086Z"
   },
   {
    "duration": 19,
    "start_time": "2022-10-19T15:29:48.100Z"
   },
   {
    "duration": 217,
    "start_time": "2022-10-19T15:29:48.121Z"
   },
   {
    "duration": 17,
    "start_time": "2022-10-19T15:29:48.339Z"
   },
   {
    "duration": 395,
    "start_time": "2022-10-19T15:29:48.358Z"
   },
   {
    "duration": 279,
    "start_time": "2022-10-19T15:29:48.754Z"
   },
   {
    "duration": 15,
    "start_time": "2022-10-19T15:29:49.035Z"
   },
   {
    "duration": 24,
    "start_time": "2022-10-19T15:29:49.052Z"
   },
   {
    "duration": 23,
    "start_time": "2022-10-19T15:29:49.088Z"
   },
   {
    "duration": 164,
    "start_time": "2022-10-19T15:29:49.113Z"
   },
   {
    "duration": 169,
    "start_time": "2022-10-19T15:31:50.934Z"
   },
   {
    "duration": 165,
    "start_time": "2022-10-19T16:19:30.318Z"
   },
   {
    "duration": 163,
    "start_time": "2022-10-19T16:19:50.061Z"
   },
   {
    "duration": 150,
    "start_time": "2022-10-19T16:23:25.775Z"
   },
   {
    "duration": 177,
    "start_time": "2022-10-19T16:23:45.336Z"
   },
   {
    "duration": 179,
    "start_time": "2022-10-19T16:25:54.779Z"
   },
   {
    "duration": 185,
    "start_time": "2022-10-19T16:26:06.413Z"
   },
   {
    "duration": 763,
    "start_time": "2022-10-19T16:42:30.129Z"
   },
   {
    "duration": 7,
    "start_time": "2022-10-19T16:42:30.893Z"
   },
   {
    "duration": 35,
    "start_time": "2022-10-19T16:42:30.901Z"
   },
   {
    "duration": 6,
    "start_time": "2022-10-19T16:42:30.938Z"
   },
   {
    "duration": 11,
    "start_time": "2022-10-19T16:42:30.946Z"
   },
   {
    "duration": 12,
    "start_time": "2022-10-19T16:42:30.960Z"
   },
   {
    "duration": 16,
    "start_time": "2022-10-19T16:42:30.974Z"
   },
   {
    "duration": 20,
    "start_time": "2022-10-19T16:42:30.991Z"
   },
   {
    "duration": 41,
    "start_time": "2022-10-19T16:42:31.013Z"
   },
   {
    "duration": 208,
    "start_time": "2022-10-19T16:42:31.057Z"
   },
   {
    "duration": 23,
    "start_time": "2022-10-19T16:42:31.266Z"
   },
   {
    "duration": 403,
    "start_time": "2022-10-19T16:42:31.290Z"
   },
   {
    "duration": 375,
    "start_time": "2022-10-19T16:42:31.695Z"
   },
   {
    "duration": 22,
    "start_time": "2022-10-19T16:42:32.072Z"
   },
   {
    "duration": 21,
    "start_time": "2022-10-19T16:42:32.096Z"
   },
   {
    "duration": 25,
    "start_time": "2022-10-19T16:42:32.119Z"
   },
   {
    "duration": 183,
    "start_time": "2022-10-19T16:42:32.146Z"
   },
   {
    "duration": 148,
    "start_time": "2022-10-19T16:45:55.398Z"
   },
   {
    "duration": 144,
    "start_time": "2022-10-19T16:46:12.077Z"
   },
   {
    "duration": 147,
    "start_time": "2022-10-19T16:46:51.664Z"
   },
   {
    "duration": 256,
    "start_time": "2022-10-19T16:47:01.223Z"
   },
   {
    "duration": 153,
    "start_time": "2022-10-19T16:47:25.511Z"
   },
   {
    "duration": 156,
    "start_time": "2022-10-19T16:47:40.188Z"
   },
   {
    "duration": 159,
    "start_time": "2022-10-19T16:50:18.734Z"
   },
   {
    "duration": 148,
    "start_time": "2022-10-19T16:50:42.100Z"
   },
   {
    "duration": 152,
    "start_time": "2022-10-19T16:52:13.231Z"
   },
   {
    "duration": 241,
    "start_time": "2022-10-19T17:00:37.248Z"
   },
   {
    "duration": 205,
    "start_time": "2022-10-19T17:03:01.221Z"
   },
   {
    "duration": 77,
    "start_time": "2022-10-19T17:36:20.478Z"
   },
   {
    "duration": 521,
    "start_time": "2022-10-19T17:37:18.141Z"
   },
   {
    "duration": 494,
    "start_time": "2022-10-19T17:37:50.118Z"
   },
   {
    "duration": 173,
    "start_time": "2022-10-19T17:44:55.208Z"
   },
   {
    "duration": 693,
    "start_time": "2022-10-19T17:45:51.365Z"
   },
   {
    "duration": 516,
    "start_time": "2022-10-19T18:14:09.590Z"
   },
   {
    "duration": 721,
    "start_time": "2022-10-19T18:14:31.540Z"
   },
   {
    "duration": 15,
    "start_time": "2022-10-19T18:31:21.807Z"
   },
   {
    "duration": 174,
    "start_time": "2022-10-19T18:31:55.234Z"
   },
   {
    "duration": 176,
    "start_time": "2022-10-19T18:32:27.368Z"
   },
   {
    "duration": 22,
    "start_time": "2022-10-19T18:39:00.766Z"
   },
   {
    "duration": 298,
    "start_time": "2022-10-19T18:39:24.354Z"
   },
   {
    "duration": 46,
    "start_time": "2022-10-20T14:41:40.574Z"
   },
   {
    "duration": 1059,
    "start_time": "2022-10-20T14:41:54.298Z"
   },
   {
    "duration": 7,
    "start_time": "2022-10-20T14:41:55.359Z"
   },
   {
    "duration": 33,
    "start_time": "2022-10-20T14:41:55.367Z"
   },
   {
    "duration": 5,
    "start_time": "2022-10-20T14:41:55.402Z"
   },
   {
    "duration": 10,
    "start_time": "2022-10-20T14:41:55.408Z"
   },
   {
    "duration": 13,
    "start_time": "2022-10-20T14:41:55.420Z"
   },
   {
    "duration": 9,
    "start_time": "2022-10-20T14:41:55.434Z"
   },
   {
    "duration": 14,
    "start_time": "2022-10-20T14:41:55.445Z"
   },
   {
    "duration": 44,
    "start_time": "2022-10-20T14:41:55.461Z"
   },
   {
    "duration": 208,
    "start_time": "2022-10-20T14:41:55.508Z"
   },
   {
    "duration": 18,
    "start_time": "2022-10-20T14:41:55.718Z"
   },
   {
    "duration": 432,
    "start_time": "2022-10-20T14:41:55.738Z"
   },
   {
    "duration": 317,
    "start_time": "2022-10-20T14:41:56.172Z"
   },
   {
    "duration": 16,
    "start_time": "2022-10-20T14:41:56.490Z"
   },
   {
    "duration": 29,
    "start_time": "2022-10-20T14:41:56.509Z"
   },
   {
    "duration": 57,
    "start_time": "2022-10-20T14:41:56.541Z"
   },
   {
    "duration": 187,
    "start_time": "2022-10-20T14:41:56.599Z"
   },
   {
    "duration": 203,
    "start_time": "2022-10-20T14:41:56.794Z"
   },
   {
    "duration": 201,
    "start_time": "2022-10-20T14:41:57.000Z"
   },
   {
    "duration": 79,
    "start_time": "2022-10-20T14:41:57.202Z"
   },
   {
    "duration": 590,
    "start_time": "2022-10-20T14:41:57.283Z"
   },
   {
    "duration": 273,
    "start_time": "2022-10-20T14:41:57.875Z"
   },
   {
    "duration": 267,
    "start_time": "2022-10-20T14:43:46.424Z"
   },
   {
    "duration": 235,
    "start_time": "2022-10-20T14:45:44.627Z"
   },
   {
    "duration": 592,
    "start_time": "2022-10-20T14:46:13.431Z"
   },
   {
    "duration": 222,
    "start_time": "2022-10-20T14:46:39.756Z"
   },
   {
    "duration": 12,
    "start_time": "2022-10-20T15:48:52.905Z"
   },
   {
    "duration": 14,
    "start_time": "2022-10-20T15:50:14.139Z"
   },
   {
    "duration": 25,
    "start_time": "2022-10-20T15:53:32.086Z"
   },
   {
    "duration": 28,
    "start_time": "2022-10-20T15:54:05.411Z"
   },
   {
    "duration": 71,
    "start_time": "2022-10-20T16:16:52.944Z"
   },
   {
    "duration": 4,
    "start_time": "2022-10-20T16:17:11.919Z"
   },
   {
    "duration": 4,
    "start_time": "2022-10-20T16:17:29.977Z"
   },
   {
    "duration": 73,
    "start_time": "2022-10-20T16:17:55.685Z"
   },
   {
    "duration": 9,
    "start_time": "2022-10-20T16:19:30.719Z"
   },
   {
    "duration": 5,
    "start_time": "2022-10-20T16:20:17.010Z"
   },
   {
    "duration": 70,
    "start_time": "2022-10-20T16:20:40.896Z"
   },
   {
    "duration": 4,
    "start_time": "2022-10-20T16:20:48.080Z"
   },
   {
    "duration": 11,
    "start_time": "2022-10-20T16:22:29.423Z"
   },
   {
    "duration": 8,
    "start_time": "2022-10-20T16:22:53.852Z"
   },
   {
    "duration": 139,
    "start_time": "2022-10-20T16:25:32.751Z"
   },
   {
    "duration": 137,
    "start_time": "2022-10-20T16:26:04.644Z"
   },
   {
    "duration": 1219,
    "start_time": "2022-10-20T16:29:05.014Z"
   },
   {
    "duration": 714,
    "start_time": "2022-10-20T16:29:42.234Z"
   },
   {
    "duration": 6,
    "start_time": "2022-10-20T16:29:42.950Z"
   },
   {
    "duration": 22,
    "start_time": "2022-10-20T16:29:42.958Z"
   },
   {
    "duration": 4,
    "start_time": "2022-10-20T16:29:42.994Z"
   },
   {
    "duration": 8,
    "start_time": "2022-10-20T16:29:43.000Z"
   },
   {
    "duration": 13,
    "start_time": "2022-10-20T16:29:43.009Z"
   },
   {
    "duration": 7,
    "start_time": "2022-10-20T16:29:43.023Z"
   },
   {
    "duration": 15,
    "start_time": "2022-10-20T16:29:43.031Z"
   },
   {
    "duration": 19,
    "start_time": "2022-10-20T16:29:43.048Z"
   },
   {
    "duration": 202,
    "start_time": "2022-10-20T16:29:43.094Z"
   },
   {
    "duration": 16,
    "start_time": "2022-10-20T16:29:43.298Z"
   },
   {
    "duration": 395,
    "start_time": "2022-10-20T16:29:43.316Z"
   },
   {
    "duration": 293,
    "start_time": "2022-10-20T16:29:43.712Z"
   },
   {
    "duration": 15,
    "start_time": "2022-10-20T16:29:44.007Z"
   },
   {
    "duration": 21,
    "start_time": "2022-10-20T16:29:44.023Z"
   },
   {
    "duration": 21,
    "start_time": "2022-10-20T16:29:44.045Z"
   },
   {
    "duration": 200,
    "start_time": "2022-10-20T16:29:44.068Z"
   },
   {
    "duration": 160,
    "start_time": "2022-10-20T16:29:44.271Z"
   },
   {
    "duration": 168,
    "start_time": "2022-10-20T16:29:44.433Z"
   },
   {
    "duration": 74,
    "start_time": "2022-10-20T16:29:44.602Z"
   },
   {
    "duration": 567,
    "start_time": "2022-10-20T16:29:44.677Z"
   },
   {
    "duration": 240,
    "start_time": "2022-10-20T16:29:45.246Z"
   },
   {
    "duration": 242,
    "start_time": "2022-10-20T16:29:45.488Z"
   },
   {
    "duration": 1219,
    "start_time": "2022-10-20T16:29:45.732Z"
   },
   {
    "duration": 0,
    "start_time": "2022-10-20T16:29:46.954Z"
   },
   {
    "duration": 178,
    "start_time": "2022-10-20T16:30:01.982Z"
   },
   {
    "duration": 516,
    "start_time": "2022-10-20T16:31:15.727Z"
   },
   {
    "duration": 439,
    "start_time": "2022-10-20T16:31:43.781Z"
   },
   {
    "duration": 6,
    "start_time": "2022-10-20T16:32:09.403Z"
   },
   {
    "duration": 431,
    "start_time": "2022-10-20T16:33:54.961Z"
   },
   {
    "duration": 10,
    "start_time": "2022-10-20T16:45:48.378Z"
   },
   {
    "duration": 747,
    "start_time": "2022-10-20T16:48:44.341Z"
   },
   {
    "duration": 7,
    "start_time": "2022-10-20T16:48:45.090Z"
   },
   {
    "duration": 20,
    "start_time": "2022-10-20T16:48:45.099Z"
   },
   {
    "duration": 4,
    "start_time": "2022-10-20T16:48:45.121Z"
   },
   {
    "duration": 8,
    "start_time": "2022-10-20T16:48:45.127Z"
   },
   {
    "duration": 15,
    "start_time": "2022-10-20T16:48:45.137Z"
   },
   {
    "duration": 5,
    "start_time": "2022-10-20T16:48:45.154Z"
   },
   {
    "duration": 43,
    "start_time": "2022-10-20T16:48:45.160Z"
   },
   {
    "duration": 20,
    "start_time": "2022-10-20T16:48:45.205Z"
   },
   {
    "duration": 213,
    "start_time": "2022-10-20T16:48:45.228Z"
   },
   {
    "duration": 20,
    "start_time": "2022-10-20T16:48:45.443Z"
   },
   {
    "duration": 398,
    "start_time": "2022-10-20T16:48:45.465Z"
   },
   {
    "duration": 302,
    "start_time": "2022-10-20T16:48:45.865Z"
   },
   {
    "duration": 16,
    "start_time": "2022-10-20T16:48:46.168Z"
   },
   {
    "duration": 25,
    "start_time": "2022-10-20T16:48:46.185Z"
   },
   {
    "duration": 26,
    "start_time": "2022-10-20T16:48:46.212Z"
   },
   {
    "duration": 194,
    "start_time": "2022-10-20T16:48:46.239Z"
   },
   {
    "duration": 173,
    "start_time": "2022-10-20T16:48:46.434Z"
   },
   {
    "duration": 208,
    "start_time": "2022-10-20T16:48:46.609Z"
   },
   {
    "duration": 111,
    "start_time": "2022-10-20T16:48:46.821Z"
   },
   {
    "duration": 561,
    "start_time": "2022-10-20T16:48:46.934Z"
   },
   {
    "duration": 240,
    "start_time": "2022-10-20T16:48:47.496Z"
   },
   {
    "duration": 258,
    "start_time": "2022-10-20T16:48:47.738Z"
   },
   {
    "duration": 521,
    "start_time": "2022-10-20T16:48:47.998Z"
   },
   {
    "duration": 9,
    "start_time": "2022-10-20T16:48:48.521Z"
   },
   {
    "duration": 70,
    "start_time": "2022-10-20T16:48:48.532Z"
   },
   {
    "duration": 0,
    "start_time": "2022-10-20T16:48:48.603Z"
   },
   {
    "duration": 174,
    "start_time": "2022-10-20T17:05:51.646Z"
   },
   {
    "duration": 169,
    "start_time": "2022-10-20T17:06:56.335Z"
   },
   {
    "duration": 32,
    "start_time": "2022-10-20T17:07:27.247Z"
   },
   {
    "duration": 295,
    "start_time": "2022-10-20T17:07:40.075Z"
   },
   {
    "duration": 435,
    "start_time": "2022-10-20T17:08:53.207Z"
   },
   {
    "duration": 10,
    "start_time": "2022-10-20T17:10:40.669Z"
   },
   {
    "duration": 799,
    "start_time": "2022-10-20T17:17:17.476Z"
   },
   {
    "duration": 6,
    "start_time": "2022-10-20T17:17:18.277Z"
   },
   {
    "duration": 26,
    "start_time": "2022-10-20T17:17:18.284Z"
   },
   {
    "duration": 4,
    "start_time": "2022-10-20T17:17:18.312Z"
   },
   {
    "duration": 6,
    "start_time": "2022-10-20T17:17:18.318Z"
   },
   {
    "duration": 17,
    "start_time": "2022-10-20T17:17:18.325Z"
   },
   {
    "duration": 9,
    "start_time": "2022-10-20T17:17:18.344Z"
   },
   {
    "duration": 14,
    "start_time": "2022-10-20T17:17:18.354Z"
   },
   {
    "duration": 40,
    "start_time": "2022-10-20T17:17:18.370Z"
   },
   {
    "duration": 209,
    "start_time": "2022-10-20T17:17:18.413Z"
   },
   {
    "duration": 17,
    "start_time": "2022-10-20T17:17:18.623Z"
   },
   {
    "duration": 401,
    "start_time": "2022-10-20T17:17:18.642Z"
   },
   {
    "duration": 300,
    "start_time": "2022-10-20T17:17:19.044Z"
   },
   {
    "duration": 15,
    "start_time": "2022-10-20T17:17:19.346Z"
   },
   {
    "duration": 85,
    "start_time": "2022-10-20T17:17:19.363Z"
   },
   {
    "duration": 0,
    "start_time": "2022-10-20T17:17:19.450Z"
   },
   {
    "duration": 0,
    "start_time": "2022-10-20T17:17:19.452Z"
   },
   {
    "duration": 0,
    "start_time": "2022-10-20T17:17:19.453Z"
   },
   {
    "duration": 0,
    "start_time": "2022-10-20T17:17:19.454Z"
   },
   {
    "duration": 0,
    "start_time": "2022-10-20T17:17:19.456Z"
   },
   {
    "duration": 0,
    "start_time": "2022-10-20T17:17:19.458Z"
   },
   {
    "duration": 0,
    "start_time": "2022-10-20T17:17:19.459Z"
   },
   {
    "duration": 0,
    "start_time": "2022-10-20T17:17:19.461Z"
   },
   {
    "duration": 0,
    "start_time": "2022-10-20T17:17:19.462Z"
   },
   {
    "duration": 0,
    "start_time": "2022-10-20T17:17:19.464Z"
   },
   {
    "duration": 0,
    "start_time": "2022-10-20T17:17:19.465Z"
   },
   {
    "duration": 0,
    "start_time": "2022-10-20T17:17:19.466Z"
   },
   {
    "duration": 9,
    "start_time": "2022-10-20T17:17:56.065Z"
   },
   {
    "duration": 11,
    "start_time": "2022-10-20T17:18:03.968Z"
   },
   {
    "duration": 20,
    "start_time": "2022-10-20T17:18:15.695Z"
   },
   {
    "duration": 24,
    "start_time": "2022-10-20T17:19:39.396Z"
   },
   {
    "duration": 166,
    "start_time": "2022-10-20T17:19:50.951Z"
   },
   {
    "duration": 151,
    "start_time": "2022-10-20T17:21:42.655Z"
   },
   {
    "duration": 154,
    "start_time": "2022-10-20T17:21:50.612Z"
   },
   {
    "duration": 259,
    "start_time": "2022-10-20T17:22:38.881Z"
   },
   {
    "duration": 9,
    "start_time": "2022-10-20T17:23:20.110Z"
   },
   {
    "duration": 241,
    "start_time": "2022-10-20T17:23:34.019Z"
   },
   {
    "duration": 480,
    "start_time": "2022-10-20T17:25:25.681Z"
   },
   {
    "duration": 11,
    "start_time": "2022-10-20T17:31:01.309Z"
   },
   {
    "duration": 17,
    "start_time": "2022-10-20T17:42:35.305Z"
   },
   {
    "duration": 24,
    "start_time": "2022-10-20T17:42:45.779Z"
   },
   {
    "duration": 17,
    "start_time": "2022-10-20T17:43:10.062Z"
   },
   {
    "duration": 9,
    "start_time": "2022-10-20T17:57:25.620Z"
   },
   {
    "duration": 9,
    "start_time": "2022-10-20T18:01:34.774Z"
   },
   {
    "duration": 9,
    "start_time": "2022-10-20T18:02:09.428Z"
   },
   {
    "duration": 9,
    "start_time": "2022-10-20T18:02:41.632Z"
   },
   {
    "duration": 10,
    "start_time": "2022-10-20T18:07:29.910Z"
   },
   {
    "duration": 10,
    "start_time": "2022-10-20T18:11:58.759Z"
   },
   {
    "duration": 13,
    "start_time": "2022-10-20T18:21:28.550Z"
   },
   {
    "duration": 14,
    "start_time": "2022-10-20T18:23:00.526Z"
   },
   {
    "duration": 15,
    "start_time": "2022-10-20T18:23:43.170Z"
   },
   {
    "duration": 14,
    "start_time": "2022-10-20T18:24:05.105Z"
   },
   {
    "duration": 13,
    "start_time": "2022-10-20T18:24:32.853Z"
   },
   {
    "duration": 441,
    "start_time": "2022-10-20T18:28:50.896Z"
   },
   {
    "duration": 710,
    "start_time": "2022-10-20T18:43:15.632Z"
   },
   {
    "duration": 6,
    "start_time": "2022-10-20T18:43:16.344Z"
   },
   {
    "duration": 20,
    "start_time": "2022-10-20T18:43:16.351Z"
   },
   {
    "duration": 21,
    "start_time": "2022-10-20T18:43:16.373Z"
   },
   {
    "duration": 4,
    "start_time": "2022-10-20T18:43:16.395Z"
   },
   {
    "duration": 12,
    "start_time": "2022-10-20T18:43:16.401Z"
   },
   {
    "duration": 11,
    "start_time": "2022-10-20T18:43:16.415Z"
   },
   {
    "duration": 16,
    "start_time": "2022-10-20T18:43:16.428Z"
   },
   {
    "duration": 20,
    "start_time": "2022-10-20T18:43:16.445Z"
   },
   {
    "duration": 245,
    "start_time": "2022-10-20T18:43:16.494Z"
   },
   {
    "duration": 22,
    "start_time": "2022-10-20T18:43:16.740Z"
   },
   {
    "duration": 418,
    "start_time": "2022-10-20T18:43:16.765Z"
   },
   {
    "duration": 304,
    "start_time": "2022-10-20T18:43:17.184Z"
   },
   {
    "duration": 15,
    "start_time": "2022-10-20T18:43:17.494Z"
   },
   {
    "duration": 19,
    "start_time": "2022-10-20T18:43:17.511Z"
   },
   {
    "duration": 18,
    "start_time": "2022-10-20T18:43:17.531Z"
   },
   {
    "duration": 195,
    "start_time": "2022-10-20T18:43:17.551Z"
   },
   {
    "duration": 156,
    "start_time": "2022-10-20T18:43:17.748Z"
   },
   {
    "duration": 151,
    "start_time": "2022-10-20T18:43:17.906Z"
   },
   {
    "duration": 49,
    "start_time": "2022-10-20T18:43:18.059Z"
   },
   {
    "duration": 272,
    "start_time": "2022-10-20T18:43:18.109Z"
   },
   {
    "duration": 266,
    "start_time": "2022-10-20T18:43:18.383Z"
   },
   {
    "duration": 17,
    "start_time": "2022-10-20T18:43:18.651Z"
   },
   {
    "duration": 430,
    "start_time": "2022-10-20T18:43:18.669Z"
   },
   {
    "duration": 12,
    "start_time": "2022-10-20T18:43:19.100Z"
   },
   {
    "duration": 124,
    "start_time": "2022-10-20T18:43:19.114Z"
   },
   {
    "duration": 0,
    "start_time": "2022-10-20T18:43:19.239Z"
   },
   {
    "duration": 0,
    "start_time": "2022-10-20T18:43:19.241Z"
   },
   {
    "duration": 395,
    "start_time": "2022-10-20T18:44:52.801Z"
   },
   {
    "duration": 50,
    "start_time": "2022-10-21T11:08:13.409Z"
   },
   {
    "duration": 958,
    "start_time": "2022-10-21T11:08:23.623Z"
   },
   {
    "duration": 6,
    "start_time": "2022-10-21T11:08:24.584Z"
   },
   {
    "duration": 33,
    "start_time": "2022-10-21T11:08:24.593Z"
   },
   {
    "duration": 5,
    "start_time": "2022-10-21T11:08:24.628Z"
   },
   {
    "duration": 8,
    "start_time": "2022-10-21T11:08:24.634Z"
   },
   {
    "duration": 14,
    "start_time": "2022-10-21T11:08:24.643Z"
   },
   {
    "duration": 12,
    "start_time": "2022-10-21T11:08:24.659Z"
   },
   {
    "duration": 17,
    "start_time": "2022-10-21T11:08:24.673Z"
   },
   {
    "duration": 32,
    "start_time": "2022-10-21T11:08:24.692Z"
   },
   {
    "duration": 188,
    "start_time": "2022-10-21T11:08:24.727Z"
   },
   {
    "duration": 16,
    "start_time": "2022-10-21T11:08:24.916Z"
   },
   {
    "duration": 378,
    "start_time": "2022-10-21T11:08:24.934Z"
   },
   {
    "duration": 272,
    "start_time": "2022-10-21T11:08:25.314Z"
   },
   {
    "duration": 23,
    "start_time": "2022-10-21T11:08:25.587Z"
   },
   {
    "duration": 36,
    "start_time": "2022-10-21T11:08:25.611Z"
   },
   {
    "duration": 43,
    "start_time": "2022-10-21T11:08:25.648Z"
   },
   {
    "duration": 157,
    "start_time": "2022-10-21T11:08:25.692Z"
   },
   {
    "duration": 139,
    "start_time": "2022-10-21T11:08:25.851Z"
   },
   {
    "duration": 145,
    "start_time": "2022-10-21T11:08:25.992Z"
   },
   {
    "duration": 28,
    "start_time": "2022-10-21T11:08:26.139Z"
   },
   {
    "duration": 277,
    "start_time": "2022-10-21T11:08:26.169Z"
   },
   {
    "duration": 219,
    "start_time": "2022-10-21T11:08:26.447Z"
   },
   {
    "duration": 15,
    "start_time": "2022-10-21T11:08:26.668Z"
   },
   {
    "duration": 393,
    "start_time": "2022-10-21T11:08:26.684Z"
   },
   {
    "duration": 9,
    "start_time": "2022-10-21T11:08:27.078Z"
   },
   {
    "duration": 434,
    "start_time": "2022-10-21T11:08:27.088Z"
   },
   {
    "duration": 420,
    "start_time": "2022-10-21T11:08:27.523Z"
   },
   {
    "duration": 102,
    "start_time": "2022-10-21T11:08:27.946Z"
   },
   {
    "duration": 0,
    "start_time": "2022-10-21T11:08:28.050Z"
   },
   {
    "duration": 11,
    "start_time": "2022-10-21T11:10:43.848Z"
   },
   {
    "duration": 11,
    "start_time": "2022-10-21T11:11:16.044Z"
   },
   {
    "duration": 149,
    "start_time": "2022-10-21T11:15:07.857Z"
   },
   {
    "duration": 66,
    "start_time": "2022-10-21T11:16:08.411Z"
   },
   {
    "duration": 12,
    "start_time": "2022-10-21T11:16:49.806Z"
   },
   {
    "duration": 10,
    "start_time": "2022-10-21T11:19:20.491Z"
   },
   {
    "duration": 10,
    "start_time": "2022-10-21T11:21:06.146Z"
   },
   {
    "duration": 12,
    "start_time": "2022-10-21T11:23:48.076Z"
   },
   {
    "duration": 19,
    "start_time": "2022-10-21T11:26:41.640Z"
   },
   {
    "duration": 57,
    "start_time": "2022-10-21T11:32:34.043Z"
   },
   {
    "duration": 44,
    "start_time": "2022-10-21T11:32:47.296Z"
   },
   {
    "duration": 21,
    "start_time": "2022-10-21T11:32:57.655Z"
   },
   {
    "duration": 16,
    "start_time": "2022-10-21T11:33:12.574Z"
   },
   {
    "duration": 23,
    "start_time": "2022-10-21T11:33:41.771Z"
   },
   {
    "duration": 16,
    "start_time": "2022-10-21T11:37:03.035Z"
   },
   {
    "duration": 19,
    "start_time": "2022-10-21T11:37:16.121Z"
   },
   {
    "duration": 22,
    "start_time": "2022-10-21T11:38:24.315Z"
   },
   {
    "duration": 34,
    "start_time": "2022-10-21T11:41:18.533Z"
   },
   {
    "duration": 40,
    "start_time": "2022-10-21T11:55:07.462Z"
   },
   {
    "duration": 45,
    "start_time": "2022-10-21T11:56:16.960Z"
   },
   {
    "duration": 41,
    "start_time": "2022-10-21T11:58:20.197Z"
   },
   {
    "duration": 47,
    "start_time": "2022-10-21T11:59:10.497Z"
   },
   {
    "duration": 32,
    "start_time": "2022-10-21T12:01:37.116Z"
   },
   {
    "duration": 40,
    "start_time": "2022-10-21T12:03:32.330Z"
   },
   {
    "duration": 41,
    "start_time": "2022-10-21T12:04:35.452Z"
   },
   {
    "duration": 38,
    "start_time": "2022-10-21T12:09:45.697Z"
   },
   {
    "duration": 43,
    "start_time": "2022-10-21T12:10:01.217Z"
   },
   {
    "duration": 27,
    "start_time": "2022-10-21T12:11:01.508Z"
   },
   {
    "duration": 26,
    "start_time": "2022-10-21T12:11:32.553Z"
   },
   {
    "duration": 28,
    "start_time": "2022-10-21T12:15:41.865Z"
   },
   {
    "duration": 31,
    "start_time": "2022-10-21T12:16:38.063Z"
   },
   {
    "duration": 36,
    "start_time": "2022-10-21T12:17:13.304Z"
   },
   {
    "duration": 723,
    "start_time": "2022-10-21T12:18:30.270Z"
   },
   {
    "duration": 5,
    "start_time": "2022-10-21T12:18:30.995Z"
   },
   {
    "duration": 49,
    "start_time": "2022-10-21T12:18:31.002Z"
   },
   {
    "duration": 5,
    "start_time": "2022-10-21T12:18:31.053Z"
   },
   {
    "duration": 14,
    "start_time": "2022-10-21T12:18:31.059Z"
   },
   {
    "duration": 23,
    "start_time": "2022-10-21T12:18:31.075Z"
   },
   {
    "duration": 16,
    "start_time": "2022-10-21T12:18:31.100Z"
   },
   {
    "duration": 27,
    "start_time": "2022-10-21T12:18:31.118Z"
   },
   {
    "duration": 18,
    "start_time": "2022-10-21T12:18:31.146Z"
   },
   {
    "duration": 192,
    "start_time": "2022-10-21T12:18:31.167Z"
   },
   {
    "duration": 16,
    "start_time": "2022-10-21T12:18:31.360Z"
   },
   {
    "duration": 375,
    "start_time": "2022-10-21T12:18:31.377Z"
   },
   {
    "duration": 256,
    "start_time": "2022-10-21T12:18:31.754Z"
   },
   {
    "duration": 13,
    "start_time": "2022-10-21T12:18:32.012Z"
   },
   {
    "duration": 19,
    "start_time": "2022-10-21T12:18:32.026Z"
   },
   {
    "duration": 19,
    "start_time": "2022-10-21T12:18:32.047Z"
   },
   {
    "duration": 173,
    "start_time": "2022-10-21T12:18:32.068Z"
   },
   {
    "duration": 137,
    "start_time": "2022-10-21T12:18:32.242Z"
   },
   {
    "duration": 142,
    "start_time": "2022-10-21T12:18:32.381Z"
   },
   {
    "duration": 27,
    "start_time": "2022-10-21T12:18:32.524Z"
   },
   {
    "duration": 275,
    "start_time": "2022-10-21T12:18:32.553Z"
   },
   {
    "duration": 222,
    "start_time": "2022-10-21T12:18:32.830Z"
   },
   {
    "duration": 16,
    "start_time": "2022-10-21T12:18:33.054Z"
   },
   {
    "duration": 395,
    "start_time": "2022-10-21T12:18:33.071Z"
   },
   {
    "duration": 31,
    "start_time": "2022-10-21T12:18:33.467Z"
   },
   {
    "duration": 407,
    "start_time": "2022-10-21T12:18:33.509Z"
   },
   {
    "duration": 425,
    "start_time": "2022-10-21T12:18:33.918Z"
   },
   {
    "duration": 120,
    "start_time": "2022-10-21T12:18:34.346Z"
   },
   {
    "duration": 0,
    "start_time": "2022-10-21T12:18:34.468Z"
   },
   {
    "duration": 22,
    "start_time": "2022-10-21T12:38:23.490Z"
   },
   {
    "duration": 39,
    "start_time": "2022-10-21T12:38:51.239Z"
   },
   {
    "duration": 31,
    "start_time": "2022-10-21T12:41:36.024Z"
   },
   {
    "duration": 715,
    "start_time": "2022-10-21T12:42:18.183Z"
   },
   {
    "duration": 6,
    "start_time": "2022-10-21T12:42:18.899Z"
   },
   {
    "duration": 18,
    "start_time": "2022-10-21T12:42:18.906Z"
   },
   {
    "duration": 4,
    "start_time": "2022-10-21T12:42:18.926Z"
   },
   {
    "duration": 7,
    "start_time": "2022-10-21T12:42:18.931Z"
   },
   {
    "duration": 8,
    "start_time": "2022-10-21T12:42:18.940Z"
   },
   {
    "duration": 7,
    "start_time": "2022-10-21T12:42:18.950Z"
   },
   {
    "duration": 13,
    "start_time": "2022-10-21T12:42:18.958Z"
   },
   {
    "duration": 46,
    "start_time": "2022-10-21T12:42:18.973Z"
   },
   {
    "duration": 194,
    "start_time": "2022-10-21T12:42:19.022Z"
   },
   {
    "duration": 17,
    "start_time": "2022-10-21T12:42:19.218Z"
   },
   {
    "duration": 387,
    "start_time": "2022-10-21T12:42:19.237Z"
   },
   {
    "duration": 251,
    "start_time": "2022-10-21T12:42:19.626Z"
   },
   {
    "duration": 13,
    "start_time": "2022-10-21T12:42:19.879Z"
   },
   {
    "duration": 28,
    "start_time": "2022-10-21T12:42:19.894Z"
   },
   {
    "duration": 28,
    "start_time": "2022-10-21T12:42:19.924Z"
   },
   {
    "duration": 160,
    "start_time": "2022-10-21T12:42:19.953Z"
   },
   {
    "duration": 142,
    "start_time": "2022-10-21T12:42:20.114Z"
   },
   {
    "duration": 151,
    "start_time": "2022-10-21T12:42:20.258Z"
   },
   {
    "duration": 26,
    "start_time": "2022-10-21T12:42:20.410Z"
   },
   {
    "duration": 260,
    "start_time": "2022-10-21T12:42:20.438Z"
   },
   {
    "duration": 218,
    "start_time": "2022-10-21T12:42:20.699Z"
   },
   {
    "duration": 15,
    "start_time": "2022-10-21T12:42:20.918Z"
   },
   {
    "duration": 413,
    "start_time": "2022-10-21T12:42:20.934Z"
   },
   {
    "duration": 32,
    "start_time": "2022-10-21T12:42:21.349Z"
   },
   {
    "duration": 435,
    "start_time": "2022-10-21T12:42:21.383Z"
   },
   {
    "duration": 100,
    "start_time": "2022-10-21T12:42:21.820Z"
   },
   {
    "duration": 365,
    "start_time": "2022-10-21T12:42:21.923Z"
   },
   {
    "duration": 44,
    "start_time": "2022-10-21T12:42:22.290Z"
   },
   {
    "duration": 103,
    "start_time": "2022-10-21T12:42:22.335Z"
   },
   {
    "duration": 0,
    "start_time": "2022-10-21T12:42:22.441Z"
   },
   {
    "duration": 28,
    "start_time": "2022-10-21T12:50:26.493Z"
   },
   {
    "duration": 12,
    "start_time": "2022-10-21T12:51:00.263Z"
   },
   {
    "duration": 495,
    "start_time": "2022-10-21T12:53:00.253Z"
   },
   {
    "duration": 10,
    "start_time": "2022-10-21T12:55:27.041Z"
   },
   {
    "duration": 9,
    "start_time": "2022-10-21T13:22:36.938Z"
   },
   {
    "duration": 10,
    "start_time": "2022-10-21T13:23:04.647Z"
   },
   {
    "duration": 12,
    "start_time": "2022-10-21T13:27:27.354Z"
   },
   {
    "duration": 10,
    "start_time": "2022-10-21T13:30:47.793Z"
   },
   {
    "duration": 10,
    "start_time": "2022-10-21T13:32:03.833Z"
   },
   {
    "duration": 718,
    "start_time": "2022-10-21T13:36:38.611Z"
   },
   {
    "duration": 6,
    "start_time": "2022-10-21T13:36:39.331Z"
   },
   {
    "duration": 19,
    "start_time": "2022-10-21T13:36:39.338Z"
   },
   {
    "duration": 4,
    "start_time": "2022-10-21T13:36:39.359Z"
   },
   {
    "duration": 5,
    "start_time": "2022-10-21T13:36:39.365Z"
   },
   {
    "duration": 12,
    "start_time": "2022-10-21T13:36:39.371Z"
   },
   {
    "duration": 28,
    "start_time": "2022-10-21T13:36:39.384Z"
   },
   {
    "duration": 13,
    "start_time": "2022-10-21T13:36:39.413Z"
   },
   {
    "duration": 16,
    "start_time": "2022-10-21T13:36:39.428Z"
   },
   {
    "duration": 202,
    "start_time": "2022-10-21T13:36:39.446Z"
   },
   {
    "duration": 15,
    "start_time": "2022-10-21T13:36:39.650Z"
   },
   {
    "duration": 385,
    "start_time": "2022-10-21T13:36:39.667Z"
   },
   {
    "duration": 263,
    "start_time": "2022-10-21T13:36:40.054Z"
   },
   {
    "duration": 15,
    "start_time": "2022-10-21T13:36:40.319Z"
   },
   {
    "duration": 21,
    "start_time": "2022-10-21T13:36:40.336Z"
   },
   {
    "duration": 19,
    "start_time": "2022-10-21T13:36:40.358Z"
   },
   {
    "duration": 180,
    "start_time": "2022-10-21T13:36:40.378Z"
   },
   {
    "duration": 142,
    "start_time": "2022-10-21T13:36:40.559Z"
   },
   {
    "duration": 146,
    "start_time": "2022-10-21T13:36:40.709Z"
   },
   {
    "duration": 25,
    "start_time": "2022-10-21T13:36:40.856Z"
   },
   {
    "duration": 274,
    "start_time": "2022-10-21T13:36:40.882Z"
   },
   {
    "duration": 228,
    "start_time": "2022-10-21T13:36:41.158Z"
   },
   {
    "duration": 22,
    "start_time": "2022-10-21T13:36:41.388Z"
   },
   {
    "duration": 440,
    "start_time": "2022-10-21T13:36:41.411Z"
   },
   {
    "duration": 32,
    "start_time": "2022-10-21T13:36:41.852Z"
   },
   {
    "duration": 415,
    "start_time": "2022-10-21T13:36:41.885Z"
   },
   {
    "duration": 96,
    "start_time": "2022-10-21T13:36:42.301Z"
   },
   {
    "duration": 390,
    "start_time": "2022-10-21T13:36:42.401Z"
   },
   {
    "duration": 38,
    "start_time": "2022-10-21T13:36:42.792Z"
   },
   {
    "duration": 439,
    "start_time": "2022-10-21T13:36:42.832Z"
   },
   {
    "duration": 10,
    "start_time": "2022-10-21T13:36:43.272Z"
   },
   {
    "duration": 9,
    "start_time": "2022-10-21T13:38:54.869Z"
   },
   {
    "duration": 11,
    "start_time": "2022-10-21T13:39:05.373Z"
   },
   {
    "duration": 11,
    "start_time": "2022-10-21T13:57:12.681Z"
   },
   {
    "duration": 17,
    "start_time": "2022-10-21T13:58:14.437Z"
   },
   {
    "duration": 3,
    "start_time": "2022-10-21T14:30:22.527Z"
   },
   {
    "duration": 4,
    "start_time": "2022-10-21T14:42:42.899Z"
   },
   {
    "duration": 50,
    "start_time": "2022-10-21T14:55:29.011Z"
   },
   {
    "duration": 801,
    "start_time": "2022-10-21T14:56:04.391Z"
   },
   {
    "duration": 7,
    "start_time": "2022-10-21T14:56:05.194Z"
   },
   {
    "duration": 19,
    "start_time": "2022-10-21T14:56:05.208Z"
   },
   {
    "duration": 5,
    "start_time": "2022-10-21T14:56:05.229Z"
   },
   {
    "duration": 16,
    "start_time": "2022-10-21T14:56:05.236Z"
   },
   {
    "duration": 17,
    "start_time": "2022-10-21T14:56:05.254Z"
   },
   {
    "duration": 13,
    "start_time": "2022-10-21T14:56:05.273Z"
   },
   {
    "duration": 14,
    "start_time": "2022-10-21T14:56:05.287Z"
   },
   {
    "duration": 20,
    "start_time": "2022-10-21T14:56:05.308Z"
   },
   {
    "duration": 40,
    "start_time": "2022-10-21T14:56:05.329Z"
   },
   {
    "duration": 185,
    "start_time": "2022-10-21T14:56:05.371Z"
   },
   {
    "duration": 16,
    "start_time": "2022-10-21T14:56:05.557Z"
   },
   {
    "duration": 417,
    "start_time": "2022-10-21T14:56:05.575Z"
   },
   {
    "duration": 290,
    "start_time": "2022-10-21T14:56:05.995Z"
   },
   {
    "duration": 22,
    "start_time": "2022-10-21T14:56:06.287Z"
   },
   {
    "duration": 22,
    "start_time": "2022-10-21T14:56:06.311Z"
   },
   {
    "duration": 20,
    "start_time": "2022-10-21T14:56:06.335Z"
   },
   {
    "duration": 209,
    "start_time": "2022-10-21T14:56:06.356Z"
   },
   {
    "duration": 153,
    "start_time": "2022-10-21T14:56:06.567Z"
   },
   {
    "duration": 167,
    "start_time": "2022-10-21T14:56:06.723Z"
   },
   {
    "duration": 39,
    "start_time": "2022-10-21T14:56:06.892Z"
   },
   {
    "duration": 286,
    "start_time": "2022-10-21T14:56:06.933Z"
   },
   {
    "duration": 230,
    "start_time": "2022-10-21T14:56:07.221Z"
   },
   {
    "duration": 16,
    "start_time": "2022-10-21T14:56:07.453Z"
   },
   {
    "duration": 415,
    "start_time": "2022-10-21T14:56:07.471Z"
   },
   {
    "duration": 44,
    "start_time": "2022-10-21T14:56:07.888Z"
   },
   {
    "duration": 439,
    "start_time": "2022-10-21T14:56:07.934Z"
   },
   {
    "duration": 108,
    "start_time": "2022-10-21T14:56:08.375Z"
   },
   {
    "duration": 414,
    "start_time": "2022-10-21T14:56:08.484Z"
   },
   {
    "duration": 44,
    "start_time": "2022-10-21T14:56:08.900Z"
   },
   {
    "duration": 371,
    "start_time": "2022-10-21T14:56:08.946Z"
   },
   {
    "duration": 9,
    "start_time": "2022-10-21T14:56:09.319Z"
   },
   {
    "duration": 138,
    "start_time": "2022-10-21T16:54:52.152Z"
   },
   {
    "duration": 136,
    "start_time": "2022-10-21T16:55:30.464Z"
   },
   {
    "duration": 126,
    "start_time": "2022-10-21T16:55:42.046Z"
   },
   {
    "duration": 225,
    "start_time": "2022-10-21T16:56:24.738Z"
   },
   {
    "duration": 725,
    "start_time": "2022-10-21T16:56:34.461Z"
   },
   {
    "duration": 6,
    "start_time": "2022-10-21T16:56:35.188Z"
   },
   {
    "duration": 41,
    "start_time": "2022-10-21T16:56:35.196Z"
   },
   {
    "duration": 5,
    "start_time": "2022-10-21T16:56:35.240Z"
   },
   {
    "duration": 30,
    "start_time": "2022-10-21T16:56:35.247Z"
   },
   {
    "duration": 10,
    "start_time": "2022-10-21T16:56:35.279Z"
   },
   {
    "duration": 11,
    "start_time": "2022-10-21T16:56:35.291Z"
   },
   {
    "duration": 31,
    "start_time": "2022-10-21T16:56:35.304Z"
   },
   {
    "duration": 40,
    "start_time": "2022-10-21T16:56:35.337Z"
   },
   {
    "duration": 17,
    "start_time": "2022-10-21T16:56:35.381Z"
   },
   {
    "duration": 185,
    "start_time": "2022-10-21T16:56:35.400Z"
   },
   {
    "duration": 27,
    "start_time": "2022-10-21T16:56:35.587Z"
   },
   {
    "duration": 384,
    "start_time": "2022-10-21T16:56:35.616Z"
   },
   {
    "duration": 298,
    "start_time": "2022-10-21T16:56:36.002Z"
   },
   {
    "duration": 22,
    "start_time": "2022-10-21T16:56:36.302Z"
   },
   {
    "duration": 27,
    "start_time": "2022-10-21T16:56:36.326Z"
   },
   {
    "duration": 18,
    "start_time": "2022-10-21T16:56:36.355Z"
   },
   {
    "duration": 195,
    "start_time": "2022-10-21T16:56:36.374Z"
   },
   {
    "duration": 154,
    "start_time": "2022-10-21T16:56:36.571Z"
   },
   {
    "duration": 146,
    "start_time": "2022-10-21T16:56:36.727Z"
   },
   {
    "duration": 36,
    "start_time": "2022-10-21T16:56:36.875Z"
   },
   {
    "duration": 276,
    "start_time": "2022-10-21T16:56:36.913Z"
   },
   {
    "duration": 234,
    "start_time": "2022-10-21T16:56:37.191Z"
   },
   {
    "duration": 18,
    "start_time": "2022-10-21T16:56:37.427Z"
   },
   {
    "duration": 435,
    "start_time": "2022-10-21T16:56:37.446Z"
   },
   {
    "duration": 40,
    "start_time": "2022-10-21T16:56:37.882Z"
   },
   {
    "duration": 463,
    "start_time": "2022-10-21T16:56:37.924Z"
   },
   {
    "duration": 102,
    "start_time": "2022-10-21T16:56:38.390Z"
   },
   {
    "duration": 405,
    "start_time": "2022-10-21T16:56:38.494Z"
   },
   {
    "duration": 42,
    "start_time": "2022-10-21T16:56:38.900Z"
   },
   {
    "duration": 433,
    "start_time": "2022-10-21T16:56:38.943Z"
   },
   {
    "duration": 10,
    "start_time": "2022-10-21T16:56:39.378Z"
   },
   {
    "duration": 96,
    "start_time": "2022-10-21T17:00:53.404Z"
   },
   {
    "duration": 151,
    "start_time": "2022-10-21T17:01:16.984Z"
   },
   {
    "duration": 141,
    "start_time": "2022-10-21T17:03:55.148Z"
   },
   {
    "duration": 268,
    "start_time": "2022-10-21T17:11:24.723Z"
   },
   {
    "duration": 264,
    "start_time": "2022-10-21T17:27:17.331Z"
   },
   {
    "duration": 458,
    "start_time": "2022-10-21T17:30:49.697Z"
   },
   {
    "duration": 402,
    "start_time": "2022-10-21T17:31:04.879Z"
   },
   {
    "duration": 2,
    "start_time": "2022-10-21T17:50:30.619Z"
   },
   {
    "duration": 3,
    "start_time": "2022-10-21T17:50:32.382Z"
   },
   {
    "duration": 746,
    "start_time": "2022-10-21T18:14:46.510Z"
   },
   {
    "duration": 6,
    "start_time": "2022-10-21T18:14:47.257Z"
   },
   {
    "duration": 26,
    "start_time": "2022-10-21T18:14:47.265Z"
   },
   {
    "duration": 5,
    "start_time": "2022-10-21T18:14:47.293Z"
   },
   {
    "duration": 10,
    "start_time": "2022-10-21T18:14:47.309Z"
   },
   {
    "duration": 10,
    "start_time": "2022-10-21T18:14:47.321Z"
   },
   {
    "duration": 4,
    "start_time": "2022-10-21T18:14:47.333Z"
   },
   {
    "duration": 5,
    "start_time": "2022-10-21T18:14:47.339Z"
   },
   {
    "duration": 14,
    "start_time": "2022-10-21T18:14:47.345Z"
   },
   {
    "duration": 17,
    "start_time": "2022-10-21T18:14:47.361Z"
   },
   {
    "duration": 220,
    "start_time": "2022-10-21T18:14:47.380Z"
   },
   {
    "duration": 19,
    "start_time": "2022-10-21T18:14:47.601Z"
   },
   {
    "duration": 386,
    "start_time": "2022-10-21T18:14:47.622Z"
   },
   {
    "duration": 275,
    "start_time": "2022-10-21T18:14:48.010Z"
   },
   {
    "duration": 22,
    "start_time": "2022-10-21T18:14:48.287Z"
   },
   {
    "duration": 17,
    "start_time": "2022-10-21T18:14:48.310Z"
   },
   {
    "duration": 21,
    "start_time": "2022-10-21T18:14:48.329Z"
   },
   {
    "duration": 191,
    "start_time": "2022-10-21T18:14:48.351Z"
   },
   {
    "duration": 140,
    "start_time": "2022-10-21T18:14:48.543Z"
   },
   {
    "duration": 129,
    "start_time": "2022-10-21T18:14:48.685Z"
   },
   {
    "duration": 23,
    "start_time": "2022-10-21T18:14:48.816Z"
   },
   {
    "duration": 224,
    "start_time": "2022-10-21T18:14:48.841Z"
   },
   {
    "duration": 422,
    "start_time": "2022-10-21T18:14:49.066Z"
   },
   {
    "duration": 21,
    "start_time": "2022-10-21T18:14:49.489Z"
   },
   {
    "duration": 384,
    "start_time": "2022-10-21T18:14:49.512Z"
   },
   {
    "duration": 42,
    "start_time": "2022-10-21T18:14:49.898Z"
   },
   {
    "duration": 416,
    "start_time": "2022-10-21T18:14:49.941Z"
   },
   {
    "duration": 119,
    "start_time": "2022-10-21T18:14:50.360Z"
   },
   {
    "duration": 394,
    "start_time": "2022-10-21T18:14:50.481Z"
   },
   {
    "duration": 38,
    "start_time": "2022-10-21T18:14:50.876Z"
   },
   {
    "duration": 429,
    "start_time": "2022-10-21T18:14:50.915Z"
   },
   {
    "duration": 9,
    "start_time": "2022-10-21T18:14:51.346Z"
   },
   {
    "duration": 3,
    "start_time": "2022-10-21T18:21:26.202Z"
   },
   {
    "duration": 52,
    "start_time": "2022-10-22T10:00:10.034Z"
   },
   {
    "duration": 1042,
    "start_time": "2022-10-22T10:00:27.228Z"
   },
   {
    "duration": 6,
    "start_time": "2022-10-22T10:00:28.273Z"
   },
   {
    "duration": 28,
    "start_time": "2022-10-22T10:00:28.280Z"
   },
   {
    "duration": 6,
    "start_time": "2022-10-22T10:00:28.311Z"
   },
   {
    "duration": 9,
    "start_time": "2022-10-22T10:00:28.319Z"
   },
   {
    "duration": 4,
    "start_time": "2022-10-22T10:00:28.331Z"
   },
   {
    "duration": 5,
    "start_time": "2022-10-22T10:00:28.337Z"
   },
   {
    "duration": 8,
    "start_time": "2022-10-22T10:00:28.343Z"
   },
   {
    "duration": 45,
    "start_time": "2022-10-22T10:00:28.353Z"
   },
   {
    "duration": 20,
    "start_time": "2022-10-22T10:00:28.402Z"
   },
   {
    "duration": 224,
    "start_time": "2022-10-22T10:00:28.424Z"
   },
   {
    "duration": 19,
    "start_time": "2022-10-22T10:00:28.650Z"
   },
   {
    "duration": 420,
    "start_time": "2022-10-22T10:00:28.671Z"
   },
   {
    "duration": 317,
    "start_time": "2022-10-22T10:00:29.092Z"
   },
   {
    "duration": 15,
    "start_time": "2022-10-22T10:00:29.411Z"
   },
   {
    "duration": 28,
    "start_time": "2022-10-22T10:00:29.428Z"
   },
   {
    "duration": 38,
    "start_time": "2022-10-22T10:00:29.458Z"
   },
   {
    "duration": 183,
    "start_time": "2022-10-22T10:00:29.497Z"
   },
   {
    "duration": 159,
    "start_time": "2022-10-22T10:00:29.681Z"
   },
   {
    "duration": 156,
    "start_time": "2022-10-22T10:00:29.841Z"
   },
   {
    "duration": 31,
    "start_time": "2022-10-22T10:00:29.998Z"
   },
   {
    "duration": 259,
    "start_time": "2022-10-22T10:00:30.031Z"
   },
   {
    "duration": 477,
    "start_time": "2022-10-22T10:00:30.295Z"
   },
   {
    "duration": 28,
    "start_time": "2022-10-22T10:00:30.774Z"
   },
   {
    "duration": 460,
    "start_time": "2022-10-22T10:00:30.804Z"
   },
   {
    "duration": 45,
    "start_time": "2022-10-22T10:00:31.266Z"
   },
   {
    "duration": 508,
    "start_time": "2022-10-22T10:00:31.312Z"
   },
   {
    "duration": 145,
    "start_time": "2022-10-22T10:00:31.824Z"
   },
   {
    "duration": 497,
    "start_time": "2022-10-22T10:00:31.970Z"
   },
   {
    "duration": 44,
    "start_time": "2022-10-22T10:00:32.468Z"
   },
   {
    "duration": 419,
    "start_time": "2022-10-22T10:00:32.514Z"
   },
   {
    "duration": 12,
    "start_time": "2022-10-22T10:00:32.935Z"
   },
   {
    "duration": 440,
    "start_time": "2022-10-22T10:04:38.936Z"
   },
   {
    "duration": 18,
    "start_time": "2022-10-22T10:57:43.758Z"
   },
   {
    "duration": 17,
    "start_time": "2022-10-22T11:19:07.406Z"
   },
   {
    "duration": 12,
    "start_time": "2022-10-22T11:22:03.558Z"
   },
   {
    "duration": 822,
    "start_time": "2022-10-22T11:37:14.386Z"
   },
   {
    "duration": 7,
    "start_time": "2022-10-22T11:37:15.210Z"
   },
   {
    "duration": 23,
    "start_time": "2022-10-22T11:37:15.219Z"
   },
   {
    "duration": 6,
    "start_time": "2022-10-22T11:37:15.245Z"
   },
   {
    "duration": 18,
    "start_time": "2022-10-22T11:37:15.252Z"
   },
   {
    "duration": 24,
    "start_time": "2022-10-22T11:37:15.273Z"
   },
   {
    "duration": 7,
    "start_time": "2022-10-22T11:37:15.300Z"
   },
   {
    "duration": 5,
    "start_time": "2022-10-22T11:37:15.309Z"
   },
   {
    "duration": 18,
    "start_time": "2022-10-22T11:37:15.316Z"
   },
   {
    "duration": 60,
    "start_time": "2022-10-22T11:37:15.336Z"
   },
   {
    "duration": 257,
    "start_time": "2022-10-22T11:37:15.398Z"
   },
   {
    "duration": 20,
    "start_time": "2022-10-22T11:37:15.657Z"
   },
   {
    "duration": 504,
    "start_time": "2022-10-22T11:37:15.679Z"
   },
   {
    "duration": 353,
    "start_time": "2022-10-22T11:37:16.184Z"
   },
   {
    "duration": 17,
    "start_time": "2022-10-22T11:37:16.539Z"
   },
   {
    "duration": 57,
    "start_time": "2022-10-22T11:37:16.559Z"
   },
   {
    "duration": 74,
    "start_time": "2022-10-22T11:37:16.619Z"
   },
   {
    "duration": 285,
    "start_time": "2022-10-22T11:37:16.696Z"
   },
   {
    "duration": 175,
    "start_time": "2022-10-22T11:37:16.983Z"
   },
   {
    "duration": 154,
    "start_time": "2022-10-22T11:37:17.160Z"
   },
   {
    "duration": 30,
    "start_time": "2022-10-22T11:37:17.316Z"
   },
   {
    "duration": 280,
    "start_time": "2022-10-22T11:37:17.347Z"
   },
   {
    "duration": 518,
    "start_time": "2022-10-22T11:37:17.629Z"
   },
   {
    "duration": 19,
    "start_time": "2022-10-22T11:37:18.150Z"
   },
   {
    "duration": 489,
    "start_time": "2022-10-22T11:37:18.170Z"
   },
   {
    "duration": 49,
    "start_time": "2022-10-22T11:37:18.660Z"
   },
   {
    "duration": 501,
    "start_time": "2022-10-22T11:37:18.710Z"
   },
   {
    "duration": 125,
    "start_time": "2022-10-22T11:37:19.216Z"
   },
   {
    "duration": 472,
    "start_time": "2022-10-22T11:37:19.342Z"
   },
   {
    "duration": 38,
    "start_time": "2022-10-22T11:37:19.816Z"
   },
   {
    "duration": 463,
    "start_time": "2022-10-22T11:37:19.856Z"
   },
   {
    "duration": 12,
    "start_time": "2022-10-22T11:37:20.322Z"
   },
   {
    "duration": 832,
    "start_time": "2022-10-22T12:39:39.448Z"
   },
   {
    "duration": 14,
    "start_time": "2022-10-22T12:39:40.282Z"
   },
   {
    "duration": 22,
    "start_time": "2022-10-22T12:39:40.298Z"
   },
   {
    "duration": 5,
    "start_time": "2022-10-22T12:39:40.322Z"
   },
   {
    "duration": 13,
    "start_time": "2022-10-22T12:39:40.329Z"
   },
   {
    "duration": 22,
    "start_time": "2022-10-22T12:39:40.344Z"
   },
   {
    "duration": 15,
    "start_time": "2022-10-22T12:39:40.368Z"
   },
   {
    "duration": 24,
    "start_time": "2022-10-22T12:39:40.385Z"
   },
   {
    "duration": 19,
    "start_time": "2022-10-22T12:39:40.411Z"
   },
   {
    "duration": 21,
    "start_time": "2022-10-22T12:39:40.433Z"
   },
   {
    "duration": 229,
    "start_time": "2022-10-22T12:39:40.456Z"
   },
   {
    "duration": 31,
    "start_time": "2022-10-22T12:39:40.687Z"
   },
   {
    "duration": 443,
    "start_time": "2022-10-22T12:39:40.720Z"
   },
   {
    "duration": 368,
    "start_time": "2022-10-22T12:39:41.166Z"
   },
   {
    "duration": 20,
    "start_time": "2022-10-22T12:39:41.535Z"
   },
   {
    "duration": 40,
    "start_time": "2022-10-22T12:39:41.557Z"
   },
   {
    "duration": 39,
    "start_time": "2022-10-22T12:39:41.599Z"
   },
   {
    "duration": 194,
    "start_time": "2022-10-22T12:39:41.640Z"
   },
   {
    "duration": 172,
    "start_time": "2022-10-22T12:39:41.836Z"
   },
   {
    "duration": 181,
    "start_time": "2022-10-22T12:39:42.010Z"
   },
   {
    "duration": 36,
    "start_time": "2022-10-22T12:39:42.195Z"
   },
   {
    "duration": 324,
    "start_time": "2022-10-22T12:39:42.234Z"
   },
   {
    "duration": 546,
    "start_time": "2022-10-22T12:39:42.561Z"
   },
   {
    "duration": 20,
    "start_time": "2022-10-22T12:39:43.117Z"
   },
   {
    "duration": 492,
    "start_time": "2022-10-22T12:39:43.139Z"
   },
   {
    "duration": 63,
    "start_time": "2022-10-22T12:39:43.633Z"
   },
   {
    "duration": 541,
    "start_time": "2022-10-22T12:39:43.698Z"
   },
   {
    "duration": 140,
    "start_time": "2022-10-22T12:39:44.244Z"
   },
   {
    "duration": 515,
    "start_time": "2022-10-22T12:39:44.394Z"
   },
   {
    "duration": 52,
    "start_time": "2022-10-22T12:39:44.911Z"
   },
   {
    "duration": 465,
    "start_time": "2022-10-22T12:39:44.965Z"
   },
   {
    "duration": 14,
    "start_time": "2022-10-22T12:39:45.433Z"
   },
   {
    "duration": 921,
    "start_time": "2022-10-22T14:11:37.647Z"
   },
   {
    "duration": 5,
    "start_time": "2022-10-22T14:11:38.570Z"
   },
   {
    "duration": 21,
    "start_time": "2022-10-22T14:11:38.577Z"
   },
   {
    "duration": 11,
    "start_time": "2022-10-22T14:11:38.600Z"
   },
   {
    "duration": 39,
    "start_time": "2022-10-22T14:11:38.612Z"
   },
   {
    "duration": 6,
    "start_time": "2022-10-22T14:11:38.653Z"
   },
   {
    "duration": 9,
    "start_time": "2022-10-22T14:11:38.661Z"
   },
   {
    "duration": 5,
    "start_time": "2022-10-22T14:11:38.672Z"
   },
   {
    "duration": 13,
    "start_time": "2022-10-22T14:11:38.679Z"
   },
   {
    "duration": 19,
    "start_time": "2022-10-22T14:11:38.694Z"
   },
   {
    "duration": 207,
    "start_time": "2022-10-22T14:11:38.714Z"
   },
   {
    "duration": 18,
    "start_time": "2022-10-22T14:11:38.922Z"
   },
   {
    "duration": 408,
    "start_time": "2022-10-22T14:11:38.941Z"
   },
   {
    "duration": 281,
    "start_time": "2022-10-22T14:11:39.350Z"
   },
   {
    "duration": 14,
    "start_time": "2022-10-22T14:11:39.633Z"
   },
   {
    "duration": 46,
    "start_time": "2022-10-22T14:11:39.649Z"
   },
   {
    "duration": 33,
    "start_time": "2022-10-22T14:11:39.697Z"
   },
   {
    "duration": 170,
    "start_time": "2022-10-22T14:11:39.731Z"
   },
   {
    "duration": 140,
    "start_time": "2022-10-22T14:11:39.902Z"
   },
   {
    "duration": 135,
    "start_time": "2022-10-22T14:11:40.044Z"
   },
   {
    "duration": 33,
    "start_time": "2022-10-22T14:11:40.181Z"
   },
   {
    "duration": 228,
    "start_time": "2022-10-22T14:11:40.215Z"
   },
   {
    "duration": 457,
    "start_time": "2022-10-22T14:11:40.444Z"
   },
   {
    "duration": 15,
    "start_time": "2022-10-22T14:11:40.903Z"
   },
   {
    "duration": 424,
    "start_time": "2022-10-22T14:11:40.920Z"
   },
   {
    "duration": 31,
    "start_time": "2022-10-22T14:11:41.345Z"
   },
   {
    "duration": 470,
    "start_time": "2022-10-22T14:11:41.377Z"
   },
   {
    "duration": 99,
    "start_time": "2022-10-22T14:11:41.850Z"
   },
   {
    "duration": 415,
    "start_time": "2022-10-22T14:11:41.951Z"
   },
   {
    "duration": 46,
    "start_time": "2022-10-22T14:11:42.367Z"
   },
   {
    "duration": 446,
    "start_time": "2022-10-22T14:11:42.414Z"
   },
   {
    "duration": 14,
    "start_time": "2022-10-22T14:11:42.862Z"
   },
   {
    "duration": 15,
    "start_time": "2022-10-22T14:24:15.940Z"
   },
   {
    "duration": 120,
    "start_time": "2022-10-22T14:27:06.549Z"
   },
   {
    "duration": 250,
    "start_time": "2022-10-22T14:27:19.377Z"
   },
   {
    "duration": 463,
    "start_time": "2022-10-22T14:42:29.681Z"
   },
   {
    "duration": 389,
    "start_time": "2022-10-22T14:42:40.009Z"
   },
   {
    "duration": 423,
    "start_time": "2022-10-22T14:44:32.615Z"
   },
   {
    "duration": 409,
    "start_time": "2022-10-22T14:44:41.500Z"
   },
   {
    "duration": 731,
    "start_time": "2022-10-22T14:49:51.212Z"
   },
   {
    "duration": 5,
    "start_time": "2022-10-22T14:49:51.945Z"
   },
   {
    "duration": 36,
    "start_time": "2022-10-22T14:49:51.952Z"
   },
   {
    "duration": 19,
    "start_time": "2022-10-22T14:49:51.990Z"
   },
   {
    "duration": 10,
    "start_time": "2022-10-22T14:49:52.010Z"
   },
   {
    "duration": 4,
    "start_time": "2022-10-22T14:49:52.022Z"
   },
   {
    "duration": 17,
    "start_time": "2022-10-22T14:49:52.028Z"
   },
   {
    "duration": 9,
    "start_time": "2022-10-22T14:49:52.046Z"
   },
   {
    "duration": 15,
    "start_time": "2022-10-22T14:49:52.056Z"
   },
   {
    "duration": 19,
    "start_time": "2022-10-22T14:49:52.073Z"
   },
   {
    "duration": 200,
    "start_time": "2022-10-22T14:49:52.094Z"
   },
   {
    "duration": 23,
    "start_time": "2022-10-22T14:49:52.296Z"
   },
   {
    "duration": 413,
    "start_time": "2022-10-22T14:49:52.320Z"
   },
   {
    "duration": 289,
    "start_time": "2022-10-22T14:49:52.735Z"
   },
   {
    "duration": 14,
    "start_time": "2022-10-22T14:49:53.026Z"
   },
   {
    "duration": 20,
    "start_time": "2022-10-22T14:49:53.042Z"
   },
   {
    "duration": 19,
    "start_time": "2022-10-22T14:49:53.064Z"
   },
   {
    "duration": 190,
    "start_time": "2022-10-22T14:49:53.085Z"
   },
   {
    "duration": 694,
    "start_time": "2022-10-22T14:49:53.277Z"
   },
   {
    "duration": 144,
    "start_time": "2022-10-22T14:49:53.972Z"
   },
   {
    "duration": 192,
    "start_time": "2022-10-22T14:49:54.117Z"
   },
   {
    "duration": 24,
    "start_time": "2022-10-22T14:49:54.310Z"
   },
   {
    "duration": 224,
    "start_time": "2022-10-22T14:49:54.335Z"
   },
   {
    "duration": 450,
    "start_time": "2022-10-22T14:49:54.560Z"
   },
   {
    "duration": 15,
    "start_time": "2022-10-22T14:49:55.012Z"
   },
   {
    "duration": 407,
    "start_time": "2022-10-22T14:49:55.028Z"
   },
   {
    "duration": 32,
    "start_time": "2022-10-22T14:49:55.437Z"
   },
   {
    "duration": 442,
    "start_time": "2022-10-22T14:49:55.473Z"
   },
   {
    "duration": 30,
    "start_time": "2022-10-22T14:49:55.917Z"
   },
   {
    "duration": 408,
    "start_time": "2022-10-22T14:49:55.949Z"
   },
   {
    "duration": 31,
    "start_time": "2022-10-22T14:49:56.358Z"
   },
   {
    "duration": 24,
    "start_time": "2022-10-22T14:49:56.391Z"
   },
   {
    "duration": 14,
    "start_time": "2022-10-22T14:49:56.416Z"
   },
   {
    "duration": 44,
    "start_time": "2022-10-22T16:06:31.729Z"
   },
   {
    "duration": 38,
    "start_time": "2022-10-22T16:06:42.949Z"
   },
   {
    "duration": 39,
    "start_time": "2022-10-22T16:07:16.752Z"
   },
   {
    "duration": 41,
    "start_time": "2022-10-22T16:07:18.446Z"
   },
   {
    "duration": 40,
    "start_time": "2022-10-22T16:16:00.588Z"
   },
   {
    "duration": 34,
    "start_time": "2022-10-22T16:18:32.605Z"
   },
   {
    "duration": 164,
    "start_time": "2022-10-22T16:50:03.349Z"
   },
   {
    "duration": 973,
    "start_time": "2022-10-22T16:55:29.779Z"
   },
   {
    "duration": 7,
    "start_time": "2022-10-22T16:55:30.754Z"
   },
   {
    "duration": 25,
    "start_time": "2022-10-22T16:55:30.763Z"
   },
   {
    "duration": 4,
    "start_time": "2022-10-22T16:55:30.790Z"
   },
   {
    "duration": 9,
    "start_time": "2022-10-22T16:55:30.808Z"
   },
   {
    "duration": 14,
    "start_time": "2022-10-22T16:55:30.818Z"
   },
   {
    "duration": 9,
    "start_time": "2022-10-22T16:55:30.834Z"
   },
   {
    "duration": 8,
    "start_time": "2022-10-22T16:55:30.844Z"
   },
   {
    "duration": 22,
    "start_time": "2022-10-22T16:55:30.853Z"
   },
   {
    "duration": 37,
    "start_time": "2022-10-22T16:55:30.877Z"
   },
   {
    "duration": 208,
    "start_time": "2022-10-22T16:55:30.915Z"
   },
   {
    "duration": 16,
    "start_time": "2022-10-22T16:55:31.125Z"
   },
   {
    "duration": 387,
    "start_time": "2022-10-22T16:55:31.143Z"
   },
   {
    "duration": 298,
    "start_time": "2022-10-22T16:55:31.534Z"
   },
   {
    "duration": 15,
    "start_time": "2022-10-22T16:55:31.833Z"
   },
   {
    "duration": 26,
    "start_time": "2022-10-22T16:55:31.849Z"
   },
   {
    "duration": 43,
    "start_time": "2022-10-22T16:55:31.877Z"
   },
   {
    "duration": 176,
    "start_time": "2022-10-22T16:55:31.921Z"
   },
   {
    "duration": 715,
    "start_time": "2022-10-22T16:55:32.099Z"
   },
   {
    "duration": 148,
    "start_time": "2022-10-22T16:55:32.816Z"
   },
   {
    "duration": 191,
    "start_time": "2022-10-22T16:55:32.965Z"
   },
   {
    "duration": 26,
    "start_time": "2022-10-22T16:55:33.157Z"
   },
   {
    "duration": 243,
    "start_time": "2022-10-22T16:55:33.185Z"
   },
   {
    "duration": 442,
    "start_time": "2022-10-22T16:55:33.429Z"
   },
   {
    "duration": 17,
    "start_time": "2022-10-22T16:55:33.873Z"
   },
   {
    "duration": 429,
    "start_time": "2022-10-22T16:55:33.891Z"
   },
   {
    "duration": 32,
    "start_time": "2022-10-22T16:55:34.321Z"
   },
   {
    "duration": 476,
    "start_time": "2022-10-22T16:55:34.355Z"
   },
   {
    "duration": 39,
    "start_time": "2022-10-22T16:55:34.832Z"
   },
   {
    "duration": 468,
    "start_time": "2022-10-22T16:55:34.873Z"
   },
   {
    "duration": 35,
    "start_time": "2022-10-22T16:55:35.342Z"
   },
   {
    "duration": 33,
    "start_time": "2022-10-22T16:55:35.378Z"
   },
   {
    "duration": 17,
    "start_time": "2022-10-22T16:55:35.412Z"
   },
   {
    "duration": 41,
    "start_time": "2022-10-22T17:01:24.638Z"
   },
   {
    "duration": 1079,
    "start_time": "2022-10-22T17:05:59.169Z"
   },
   {
    "duration": 111,
    "start_time": "2022-10-22T17:06:00.250Z"
   },
   {
    "duration": 5,
    "start_time": "2022-10-22T17:06:00.362Z"
   },
   {
    "duration": 48,
    "start_time": "2022-10-22T17:06:00.369Z"
   },
   {
    "duration": 34,
    "start_time": "2022-10-22T17:06:00.420Z"
   },
   {
    "duration": 31,
    "start_time": "2022-10-22T17:06:00.455Z"
   },
   {
    "duration": 45,
    "start_time": "2022-10-22T17:06:00.488Z"
   },
   {
    "duration": 46,
    "start_time": "2022-10-22T17:06:00.535Z"
   },
   {
    "duration": 50,
    "start_time": "2022-10-22T17:06:00.583Z"
   },
   {
    "duration": 31,
    "start_time": "2022-10-22T17:06:00.635Z"
   },
   {
    "duration": 56,
    "start_time": "2022-10-22T17:06:00.668Z"
   },
   {
    "duration": 214,
    "start_time": "2022-10-22T17:06:00.726Z"
   },
   {
    "duration": 17,
    "start_time": "2022-10-22T17:06:00.942Z"
   },
   {
    "duration": 406,
    "start_time": "2022-10-22T17:06:00.960Z"
   },
   {
    "duration": 263,
    "start_time": "2022-10-22T17:06:01.368Z"
   },
   {
    "duration": 16,
    "start_time": "2022-10-22T17:06:01.633Z"
   },
   {
    "duration": 40,
    "start_time": "2022-10-22T17:06:01.650Z"
   },
   {
    "duration": 46,
    "start_time": "2022-10-22T17:06:01.691Z"
   },
   {
    "duration": 186,
    "start_time": "2022-10-22T17:06:01.739Z"
   },
   {
    "duration": 262,
    "start_time": "2022-10-22T17:06:01.927Z"
   },
   {
    "duration": 141,
    "start_time": "2022-10-22T17:06:02.191Z"
   },
   {
    "duration": 203,
    "start_time": "2022-10-22T17:06:02.334Z"
   },
   {
    "duration": 37,
    "start_time": "2022-10-22T17:06:02.539Z"
   },
   {
    "duration": 298,
    "start_time": "2022-10-22T17:06:02.578Z"
   },
   {
    "duration": 439,
    "start_time": "2022-10-22T17:06:02.878Z"
   },
   {
    "duration": 16,
    "start_time": "2022-10-22T17:06:03.319Z"
   },
   {
    "duration": 424,
    "start_time": "2022-10-22T17:06:03.337Z"
   },
   {
    "duration": 46,
    "start_time": "2022-10-22T17:06:03.764Z"
   },
   {
    "duration": 475,
    "start_time": "2022-10-22T17:06:03.811Z"
   },
   {
    "duration": 42,
    "start_time": "2022-10-22T17:06:04.287Z"
   },
   {
    "duration": 423,
    "start_time": "2022-10-22T17:06:04.331Z"
   },
   {
    "duration": 32,
    "start_time": "2022-10-22T17:06:04.755Z"
   },
   {
    "duration": 28,
    "start_time": "2022-10-22T17:06:04.788Z"
   },
   {
    "duration": 62,
    "start_time": "2022-10-22T17:06:04.818Z"
   },
   {
    "duration": 2,
    "start_time": "2022-10-22T17:10:24.683Z"
   },
   {
    "duration": 193,
    "start_time": "2022-10-22T17:15:40.507Z"
   },
   {
    "duration": 1066,
    "start_time": "2022-10-22T17:15:46.166Z"
   },
   {
    "duration": 110,
    "start_time": "2022-10-22T17:15:47.234Z"
   },
   {
    "duration": 5,
    "start_time": "2022-10-22T17:15:47.345Z"
   },
   {
    "duration": 22,
    "start_time": "2022-10-22T17:15:47.352Z"
   },
   {
    "duration": 34,
    "start_time": "2022-10-22T17:15:47.376Z"
   },
   {
    "duration": 10,
    "start_time": "2022-10-22T17:15:47.412Z"
   },
   {
    "duration": 4,
    "start_time": "2022-10-22T17:15:47.423Z"
   },
   {
    "duration": 4,
    "start_time": "2022-10-22T17:15:47.429Z"
   },
   {
    "duration": 5,
    "start_time": "2022-10-22T17:15:47.435Z"
   },
   {
    "duration": 13,
    "start_time": "2022-10-22T17:15:47.442Z"
   },
   {
    "duration": 19,
    "start_time": "2022-10-22T17:15:47.509Z"
   },
   {
    "duration": 212,
    "start_time": "2022-10-22T17:15:47.530Z"
   },
   {
    "duration": 17,
    "start_time": "2022-10-22T17:15:47.744Z"
   },
   {
    "duration": 398,
    "start_time": "2022-10-22T17:15:47.763Z"
   },
   {
    "duration": 250,
    "start_time": "2022-10-22T17:15:48.163Z"
   },
   {
    "duration": 14,
    "start_time": "2022-10-22T17:15:48.414Z"
   },
   {
    "duration": 18,
    "start_time": "2022-10-22T17:15:48.429Z"
   },
   {
    "duration": 22,
    "start_time": "2022-10-22T17:15:48.448Z"
   },
   {
    "duration": 199,
    "start_time": "2022-10-22T17:15:48.472Z"
   },
   {
    "duration": 255,
    "start_time": "2022-10-22T17:15:48.673Z"
   },
   {
    "duration": 161,
    "start_time": "2022-10-22T17:15:48.930Z"
   },
   {
    "duration": 201,
    "start_time": "2022-10-22T17:15:49.093Z"
   },
   {
    "duration": 30,
    "start_time": "2022-10-22T17:15:49.295Z"
   },
   {
    "duration": 229,
    "start_time": "2022-10-22T17:15:49.327Z"
   },
   {
    "duration": 455,
    "start_time": "2022-10-22T17:15:49.558Z"
   },
   {
    "duration": 16,
    "start_time": "2022-10-22T17:15:50.015Z"
   },
   {
    "duration": 434,
    "start_time": "2022-10-22T17:15:50.033Z"
   },
   {
    "duration": 41,
    "start_time": "2022-10-22T17:15:50.470Z"
   },
   {
    "duration": 429,
    "start_time": "2022-10-22T17:15:50.513Z"
   },
   {
    "duration": 33,
    "start_time": "2022-10-22T17:15:50.944Z"
   },
   {
    "duration": 432,
    "start_time": "2022-10-22T17:15:50.979Z"
   },
   {
    "duration": 42,
    "start_time": "2022-10-22T17:15:51.413Z"
   },
   {
    "duration": 11,
    "start_time": "2022-10-22T17:15:51.457Z"
   },
   {
    "duration": 43,
    "start_time": "2022-10-22T17:15:51.469Z"
   },
   {
    "duration": 137,
    "start_time": "2022-10-22T17:18:25.472Z"
   },
   {
    "duration": 273,
    "start_time": "2022-10-22T17:18:42.485Z"
   },
   {
    "duration": 427,
    "start_time": "2022-10-22T17:23:17.825Z"
   },
   {
    "duration": 17,
    "start_time": "2022-10-22T17:24:51.473Z"
   },
   {
    "duration": 397,
    "start_time": "2022-10-22T17:25:02.038Z"
   },
   {
    "duration": 34,
    "start_time": "2022-10-22T17:26:50.460Z"
   },
   {
    "duration": 420,
    "start_time": "2022-10-22T17:28:45.045Z"
   },
   {
    "duration": 33,
    "start_time": "2022-10-22T17:29:08.352Z"
   },
   {
    "duration": 398,
    "start_time": "2022-10-22T17:30:40.175Z"
   },
   {
    "duration": 33,
    "start_time": "2022-10-22T17:31:07.037Z"
   },
   {
    "duration": 1050,
    "start_time": "2022-10-22T17:31:15.313Z"
   },
   {
    "duration": 109,
    "start_time": "2022-10-22T17:31:16.365Z"
   },
   {
    "duration": 5,
    "start_time": "2022-10-22T17:31:16.475Z"
   },
   {
    "duration": 30,
    "start_time": "2022-10-22T17:31:16.482Z"
   },
   {
    "duration": 4,
    "start_time": "2022-10-22T17:31:16.514Z"
   },
   {
    "duration": 9,
    "start_time": "2022-10-22T17:31:16.519Z"
   },
   {
    "duration": 3,
    "start_time": "2022-10-22T17:31:16.529Z"
   },
   {
    "duration": 4,
    "start_time": "2022-10-22T17:31:16.534Z"
   },
   {
    "duration": 5,
    "start_time": "2022-10-22T17:31:16.539Z"
   },
   {
    "duration": 19,
    "start_time": "2022-10-22T17:31:16.547Z"
   },
   {
    "duration": 55,
    "start_time": "2022-10-22T17:31:16.568Z"
   },
   {
    "duration": 194,
    "start_time": "2022-10-22T17:31:16.625Z"
   },
   {
    "duration": 31,
    "start_time": "2022-10-22T17:31:16.820Z"
   },
   {
    "duration": 394,
    "start_time": "2022-10-22T17:31:16.853Z"
   },
   {
    "duration": 252,
    "start_time": "2022-10-22T17:31:17.249Z"
   },
   {
    "duration": 20,
    "start_time": "2022-10-22T17:31:17.502Z"
   },
   {
    "duration": 20,
    "start_time": "2022-10-22T17:31:17.523Z"
   },
   {
    "duration": 19,
    "start_time": "2022-10-22T17:31:17.545Z"
   },
   {
    "duration": 202,
    "start_time": "2022-10-22T17:31:17.565Z"
   },
   {
    "duration": 254,
    "start_time": "2022-10-22T17:31:17.768Z"
   },
   {
    "duration": 149,
    "start_time": "2022-10-22T17:31:18.023Z"
   },
   {
    "duration": 196,
    "start_time": "2022-10-22T17:31:18.173Z"
   },
   {
    "duration": 40,
    "start_time": "2022-10-22T17:31:18.370Z"
   },
   {
    "duration": 248,
    "start_time": "2022-10-22T17:31:18.412Z"
   },
   {
    "duration": 449,
    "start_time": "2022-10-22T17:31:18.662Z"
   },
   {
    "duration": 16,
    "start_time": "2022-10-22T17:31:19.113Z"
   },
   {
    "duration": 425,
    "start_time": "2022-10-22T17:31:19.130Z"
   },
   {
    "duration": 34,
    "start_time": "2022-10-22T17:31:19.558Z"
   },
   {
    "duration": 436,
    "start_time": "2022-10-22T17:31:19.609Z"
   },
   {
    "duration": 36,
    "start_time": "2022-10-22T17:31:20.047Z"
   },
   {
    "duration": 408,
    "start_time": "2022-10-22T17:31:20.084Z"
   },
   {
    "duration": 118,
    "start_time": "2022-10-22T17:31:20.494Z"
   },
   {
    "duration": 12,
    "start_time": "2022-10-22T17:31:20.613Z"
   },
   {
    "duration": 11,
    "start_time": "2022-10-22T17:31:20.627Z"
   },
   {
    "duration": 35,
    "start_time": "2022-10-22T18:52:36.404Z"
   },
   {
    "duration": 1107,
    "start_time": "2022-10-22T18:54:41.237Z"
   },
   {
    "duration": 110,
    "start_time": "2022-10-22T18:54:42.345Z"
   },
   {
    "duration": 7,
    "start_time": "2022-10-22T18:54:42.457Z"
   },
   {
    "duration": 32,
    "start_time": "2022-10-22T18:54:42.466Z"
   },
   {
    "duration": 5,
    "start_time": "2022-10-22T18:54:42.508Z"
   },
   {
    "duration": 27,
    "start_time": "2022-10-22T18:54:42.515Z"
   },
   {
    "duration": 6,
    "start_time": "2022-10-22T18:54:42.545Z"
   },
   {
    "duration": 10,
    "start_time": "2022-10-22T18:54:42.553Z"
   },
   {
    "duration": 10,
    "start_time": "2022-10-22T18:54:42.565Z"
   },
   {
    "duration": 42,
    "start_time": "2022-10-22T18:54:42.578Z"
   },
   {
    "duration": 22,
    "start_time": "2022-10-22T18:54:42.622Z"
   },
   {
    "duration": 235,
    "start_time": "2022-10-22T18:54:42.645Z"
   },
   {
    "duration": 27,
    "start_time": "2022-10-22T18:54:42.882Z"
   },
   {
    "duration": 398,
    "start_time": "2022-10-22T18:54:42.911Z"
   },
   {
    "duration": 273,
    "start_time": "2022-10-22T18:54:43.311Z"
   },
   {
    "duration": 14,
    "start_time": "2022-10-22T18:54:43.586Z"
   },
   {
    "duration": 27,
    "start_time": "2022-10-22T18:54:43.608Z"
   },
   {
    "duration": 20,
    "start_time": "2022-10-22T18:54:43.637Z"
   },
   {
    "duration": 215,
    "start_time": "2022-10-22T18:54:43.658Z"
   },
   {
    "duration": 311,
    "start_time": "2022-10-22T18:54:43.875Z"
   },
   {
    "duration": 153,
    "start_time": "2022-10-22T18:54:44.188Z"
   },
   {
    "duration": 201,
    "start_time": "2022-10-22T18:54:44.342Z"
   },
   {
    "duration": 27,
    "start_time": "2022-10-22T18:54:44.544Z"
   },
   {
    "duration": 266,
    "start_time": "2022-10-22T18:54:44.573Z"
   },
   {
    "duration": 479,
    "start_time": "2022-10-22T18:54:44.842Z"
   },
   {
    "duration": 16,
    "start_time": "2022-10-22T18:54:45.323Z"
   },
   {
    "duration": 439,
    "start_time": "2022-10-22T18:54:45.341Z"
   },
   {
    "duration": 51,
    "start_time": "2022-10-22T18:54:45.783Z"
   },
   {
    "duration": 451,
    "start_time": "2022-10-22T18:54:45.835Z"
   },
   {
    "duration": 39,
    "start_time": "2022-10-22T18:54:46.288Z"
   },
   {
    "duration": 410,
    "start_time": "2022-10-22T18:54:46.328Z"
   },
   {
    "duration": 118,
    "start_time": "2022-10-22T18:54:46.739Z"
   },
   {
    "duration": 14,
    "start_time": "2022-10-22T18:54:46.859Z"
   },
   {
    "duration": 11,
    "start_time": "2022-10-22T18:54:46.875Z"
   },
   {
    "duration": 3,
    "start_time": "2022-10-22T19:06:40.827Z"
   },
   {
    "duration": 134,
    "start_time": "2022-10-22T19:09:03.202Z"
   },
   {
    "duration": 854,
    "start_time": "2022-10-22T19:12:08.745Z"
   },
   {
    "duration": 42,
    "start_time": "2022-10-22T19:13:31.606Z"
   },
   {
    "duration": 905,
    "start_time": "2022-10-22T19:13:43.849Z"
   },
   {
    "duration": 1018,
    "start_time": "2022-10-22T19:15:18.455Z"
   },
   {
    "duration": 113,
    "start_time": "2022-10-22T19:15:19.475Z"
   },
   {
    "duration": 5,
    "start_time": "2022-10-22T19:15:19.590Z"
   },
   {
    "duration": 28,
    "start_time": "2022-10-22T19:15:19.610Z"
   },
   {
    "duration": 4,
    "start_time": "2022-10-22T19:15:19.640Z"
   },
   {
    "duration": 10,
    "start_time": "2022-10-22T19:15:19.645Z"
   },
   {
    "duration": 15,
    "start_time": "2022-10-22T19:15:19.657Z"
   },
   {
    "duration": 5,
    "start_time": "2022-10-22T19:15:19.674Z"
   },
   {
    "duration": 5,
    "start_time": "2022-10-22T19:15:19.681Z"
   },
   {
    "duration": 16,
    "start_time": "2022-10-22T19:15:19.709Z"
   },
   {
    "duration": 20,
    "start_time": "2022-10-22T19:15:19.727Z"
   },
   {
    "duration": 222,
    "start_time": "2022-10-22T19:15:19.749Z"
   },
   {
    "duration": 18,
    "start_time": "2022-10-22T19:15:19.973Z"
   },
   {
    "duration": 398,
    "start_time": "2022-10-22T19:15:19.992Z"
   },
   {
    "duration": 266,
    "start_time": "2022-10-22T19:15:20.392Z"
   },
   {
    "duration": 14,
    "start_time": "2022-10-22T19:15:20.660Z"
   },
   {
    "duration": 37,
    "start_time": "2022-10-22T19:15:20.676Z"
   },
   {
    "duration": 29,
    "start_time": "2022-10-22T19:15:20.715Z"
   },
   {
    "duration": 192,
    "start_time": "2022-10-22T19:15:20.745Z"
   },
   {
    "duration": 264,
    "start_time": "2022-10-22T19:15:20.938Z"
   },
   {
    "duration": 156,
    "start_time": "2022-10-22T19:15:21.204Z"
   },
   {
    "duration": 202,
    "start_time": "2022-10-22T19:15:21.362Z"
   },
   {
    "duration": 2,
    "start_time": "2022-10-22T19:15:21.565Z"
   },
   {
    "duration": 875,
    "start_time": "2022-10-22T19:15:21.569Z"
   },
   {
    "duration": 144,
    "start_time": "2022-10-22T19:15:22.446Z"
   },
   {
    "duration": 301,
    "start_time": "2022-10-22T19:15:22.592Z"
   },
   {
    "duration": 506,
    "start_time": "2022-10-22T19:15:22.896Z"
   },
   {
    "duration": 21,
    "start_time": "2022-10-22T19:15:23.408Z"
   },
   {
    "duration": 458,
    "start_time": "2022-10-22T19:15:23.431Z"
   },
   {
    "duration": 119,
    "start_time": "2022-10-22T19:15:23.891Z"
   },
   {
    "duration": 480,
    "start_time": "2022-10-22T19:15:24.011Z"
   },
   {
    "duration": 42,
    "start_time": "2022-10-22T19:15:24.493Z"
   },
   {
    "duration": 436,
    "start_time": "2022-10-22T19:15:24.537Z"
   },
   {
    "duration": 47,
    "start_time": "2022-10-22T19:15:24.974Z"
   },
   {
    "duration": 13,
    "start_time": "2022-10-22T19:15:25.023Z"
   },
   {
    "duration": 20,
    "start_time": "2022-10-22T19:15:25.038Z"
   },
   {
    "duration": 133,
    "start_time": "2022-10-22T19:21:33.250Z"
   },
   {
    "duration": 51,
    "start_time": "2022-10-22T19:25:34.013Z"
   },
   {
    "duration": 138,
    "start_time": "2022-10-22T19:25:53.330Z"
   },
   {
    "duration": 141,
    "start_time": "2022-10-22T19:27:49.959Z"
   },
   {
    "duration": 140,
    "start_time": "2022-10-22T19:35:36.574Z"
   },
   {
    "duration": 849,
    "start_time": "2022-10-22T19:44:15.324Z"
   },
   {
    "duration": 966,
    "start_time": "2022-10-22T19:45:10.749Z"
   },
   {
    "duration": 22,
    "start_time": "2022-10-22T19:46:05.656Z"
   },
   {
    "duration": 2,
    "start_time": "2022-10-22T19:47:05.523Z"
   },
   {
    "duration": 22,
    "start_time": "2022-10-22T19:48:55.257Z"
   },
   {
    "duration": 1094,
    "start_time": "2022-10-22T19:53:47.141Z"
   },
   {
    "duration": 125,
    "start_time": "2022-10-22T19:53:48.237Z"
   },
   {
    "duration": 6,
    "start_time": "2022-10-22T19:53:48.364Z"
   },
   {
    "duration": 46,
    "start_time": "2022-10-22T19:53:48.373Z"
   },
   {
    "duration": 6,
    "start_time": "2022-10-22T19:53:48.421Z"
   },
   {
    "duration": 9,
    "start_time": "2022-10-22T19:53:48.429Z"
   },
   {
    "duration": 4,
    "start_time": "2022-10-22T19:53:48.440Z"
   },
   {
    "duration": 5,
    "start_time": "2022-10-22T19:53:48.446Z"
   },
   {
    "duration": 5,
    "start_time": "2022-10-22T19:53:48.452Z"
   },
   {
    "duration": 51,
    "start_time": "2022-10-22T19:53:48.460Z"
   },
   {
    "duration": 22,
    "start_time": "2022-10-22T19:53:48.516Z"
   },
   {
    "duration": 199,
    "start_time": "2022-10-22T19:53:48.540Z"
   },
   {
    "duration": 17,
    "start_time": "2022-10-22T19:53:48.740Z"
   },
   {
    "duration": 390,
    "start_time": "2022-10-22T19:53:48.759Z"
   },
   {
    "duration": 265,
    "start_time": "2022-10-22T19:53:49.150Z"
   },
   {
    "duration": 14,
    "start_time": "2022-10-22T19:53:49.421Z"
   },
   {
    "duration": 22,
    "start_time": "2022-10-22T19:53:49.436Z"
   },
   {
    "duration": 19,
    "start_time": "2022-10-22T19:53:49.460Z"
   },
   {
    "duration": 191,
    "start_time": "2022-10-22T19:53:49.481Z"
   },
   {
    "duration": 264,
    "start_time": "2022-10-22T19:53:49.673Z"
   },
   {
    "duration": 156,
    "start_time": "2022-10-22T19:53:49.938Z"
   },
   {
    "duration": 198,
    "start_time": "2022-10-22T19:53:50.096Z"
   },
   {
    "duration": 2,
    "start_time": "2022-10-22T19:53:50.296Z"
   },
   {
    "duration": 34,
    "start_time": "2022-10-22T19:53:50.308Z"
   },
   {
    "duration": 839,
    "start_time": "2022-10-22T19:53:50.343Z"
   },
   {
    "duration": 2,
    "start_time": "2022-10-22T19:53:51.184Z"
   },
   {
    "duration": 456,
    "start_time": "2022-10-22T19:53:51.187Z"
   },
   {
    "duration": 16,
    "start_time": "2022-10-22T19:53:51.646Z"
   },
   {
    "duration": 434,
    "start_time": "2022-10-22T19:53:51.663Z"
   },
   {
    "duration": 47,
    "start_time": "2022-10-22T19:53:52.099Z"
   },
   {
    "duration": 482,
    "start_time": "2022-10-22T19:53:52.147Z"
   },
   {
    "duration": 37,
    "start_time": "2022-10-22T19:53:52.631Z"
   },
   {
    "duration": 553,
    "start_time": "2022-10-22T19:53:52.670Z"
   },
   {
    "duration": 33,
    "start_time": "2022-10-22T19:53:53.225Z"
   },
   {
    "duration": 11,
    "start_time": "2022-10-22T19:53:53.260Z"
   },
   {
    "duration": 10,
    "start_time": "2022-10-22T19:53:53.272Z"
   },
   {
    "duration": 855,
    "start_time": "2022-10-22T19:54:58.069Z"
   },
   {
    "duration": 841,
    "start_time": "2022-10-22T19:56:53.889Z"
   },
   {
    "duration": 1014,
    "start_time": "2022-10-22T19:57:42.760Z"
   },
   {
    "duration": 123,
    "start_time": "2022-10-22T19:57:43.776Z"
   },
   {
    "duration": 23,
    "start_time": "2022-10-22T19:57:43.901Z"
   },
   {
    "duration": 34,
    "start_time": "2022-10-22T19:57:43.927Z"
   },
   {
    "duration": 6,
    "start_time": "2022-10-22T19:57:43.963Z"
   },
   {
    "duration": 14,
    "start_time": "2022-10-22T19:57:43.971Z"
   },
   {
    "duration": 4,
    "start_time": "2022-10-22T19:57:43.988Z"
   },
   {
    "duration": 10,
    "start_time": "2022-10-22T19:57:44.012Z"
   },
   {
    "duration": 8,
    "start_time": "2022-10-22T19:57:44.024Z"
   },
   {
    "duration": 19,
    "start_time": "2022-10-22T19:57:44.034Z"
   },
   {
    "duration": 19,
    "start_time": "2022-10-22T19:57:44.054Z"
   },
   {
    "duration": 246,
    "start_time": "2022-10-22T19:57:44.075Z"
   },
   {
    "duration": 17,
    "start_time": "2022-10-22T19:57:44.324Z"
   },
   {
    "duration": 400,
    "start_time": "2022-10-22T19:57:44.342Z"
   },
   {
    "duration": 257,
    "start_time": "2022-10-22T19:57:44.744Z"
   },
   {
    "duration": 19,
    "start_time": "2022-10-22T19:57:45.003Z"
   },
   {
    "duration": 43,
    "start_time": "2022-10-22T19:57:45.024Z"
   },
   {
    "duration": 20,
    "start_time": "2022-10-22T19:57:45.069Z"
   },
   {
    "duration": 183,
    "start_time": "2022-10-22T19:57:45.091Z"
   },
   {
    "duration": 276,
    "start_time": "2022-10-22T19:57:45.276Z"
   },
   {
    "duration": 142,
    "start_time": "2022-10-22T19:57:45.553Z"
   },
   {
    "duration": 198,
    "start_time": "2022-10-22T19:57:45.697Z"
   },
   {
    "duration": 3,
    "start_time": "2022-10-22T19:57:45.896Z"
   },
   {
    "duration": 835,
    "start_time": "2022-10-22T19:57:45.912Z"
   },
   {
    "duration": 818,
    "start_time": "2022-10-22T19:57:46.749Z"
   },
   {
    "duration": 2,
    "start_time": "2022-10-22T19:57:47.568Z"
   },
   {
    "duration": 457,
    "start_time": "2022-10-22T19:57:47.572Z"
   },
   {
    "duration": 15,
    "start_time": "2022-10-22T19:57:48.033Z"
   },
   {
    "duration": 461,
    "start_time": "2022-10-22T19:57:48.050Z"
   },
   {
    "duration": 131,
    "start_time": "2022-10-22T19:57:48.513Z"
   },
   {
    "duration": 437,
    "start_time": "2022-10-22T19:57:48.645Z"
   },
   {
    "duration": 46,
    "start_time": "2022-10-22T19:57:49.083Z"
   },
   {
    "duration": 406,
    "start_time": "2022-10-22T19:57:49.130Z"
   },
   {
    "duration": 32,
    "start_time": "2022-10-22T19:57:49.538Z"
   },
   {
    "duration": 11,
    "start_time": "2022-10-22T19:57:49.572Z"
   },
   {
    "duration": 17,
    "start_time": "2022-10-22T19:57:49.609Z"
   },
   {
    "duration": 29,
    "start_time": "2022-10-22T19:58:37.400Z"
   },
   {
    "duration": 22,
    "start_time": "2022-10-22T19:58:45.951Z"
   },
   {
    "duration": 36,
    "start_time": "2022-10-22T19:59:42.354Z"
   },
   {
    "duration": 9,
    "start_time": "2022-10-22T20:00:27.534Z"
   },
   {
    "duration": 1552,
    "start_time": "2022-10-22T20:00:44.347Z"
   },
   {
    "duration": 19,
    "start_time": "2022-10-22T20:01:35.655Z"
   },
   {
    "duration": 32,
    "start_time": "2022-10-22T20:02:08.758Z"
   },
   {
    "duration": 1100,
    "start_time": "2022-10-22T20:02:36.300Z"
   },
   {
    "duration": 146,
    "start_time": "2022-10-22T20:02:37.402Z"
   },
   {
    "duration": 6,
    "start_time": "2022-10-22T20:02:37.550Z"
   },
   {
    "duration": 40,
    "start_time": "2022-10-22T20:02:37.558Z"
   },
   {
    "duration": 11,
    "start_time": "2022-10-22T20:02:37.608Z"
   },
   {
    "duration": 39,
    "start_time": "2022-10-22T20:02:37.620Z"
   },
   {
    "duration": 21,
    "start_time": "2022-10-22T20:02:37.661Z"
   },
   {
    "duration": 12,
    "start_time": "2022-10-22T20:02:37.684Z"
   },
   {
    "duration": 40,
    "start_time": "2022-10-22T20:02:37.698Z"
   },
   {
    "duration": 32,
    "start_time": "2022-10-22T20:02:37.741Z"
   },
   {
    "duration": 21,
    "start_time": "2022-10-22T20:02:37.775Z"
   },
   {
    "duration": 246,
    "start_time": "2022-10-22T20:02:37.798Z"
   },
   {
    "duration": 19,
    "start_time": "2022-10-22T20:02:38.046Z"
   },
   {
    "duration": 427,
    "start_time": "2022-10-22T20:02:38.067Z"
   },
   {
    "duration": 276,
    "start_time": "2022-10-22T20:02:38.496Z"
   },
   {
    "duration": 17,
    "start_time": "2022-10-22T20:02:38.774Z"
   },
   {
    "duration": 48,
    "start_time": "2022-10-22T20:02:38.793Z"
   },
   {
    "duration": 48,
    "start_time": "2022-10-22T20:02:38.843Z"
   },
   {
    "duration": 225,
    "start_time": "2022-10-22T20:02:38.893Z"
   },
   {
    "duration": 258,
    "start_time": "2022-10-22T20:02:39.129Z"
   },
   {
    "duration": 166,
    "start_time": "2022-10-22T20:02:39.389Z"
   },
   {
    "duration": 204,
    "start_time": "2022-10-22T20:02:39.557Z"
   },
   {
    "duration": 3,
    "start_time": "2022-10-22T20:02:39.763Z"
   },
   {
    "duration": 59,
    "start_time": "2022-10-22T20:02:39.768Z"
   },
   {
    "duration": 25,
    "start_time": "2022-10-22T20:02:39.830Z"
   },
   {
    "duration": 6,
    "start_time": "2022-10-22T20:02:39.857Z"
   },
   {
    "duration": 466,
    "start_time": "2022-10-22T20:02:39.865Z"
   },
   {
    "duration": 16,
    "start_time": "2022-10-22T20:02:40.335Z"
   },
   {
    "duration": 450,
    "start_time": "2022-10-22T20:02:40.353Z"
   },
   {
    "duration": 50,
    "start_time": "2022-10-22T20:02:40.816Z"
   },
   {
    "duration": 526,
    "start_time": "2022-10-22T20:02:40.868Z"
   },
   {
    "duration": 44,
    "start_time": "2022-10-22T20:02:41.395Z"
   },
   {
    "duration": 520,
    "start_time": "2022-10-22T20:02:41.442Z"
   },
   {
    "duration": 66,
    "start_time": "2022-10-22T20:02:41.964Z"
   },
   {
    "duration": 17,
    "start_time": "2022-10-22T20:02:42.032Z"
   },
   {
    "duration": 18,
    "start_time": "2022-10-22T20:02:42.051Z"
   },
   {
    "duration": 1109,
    "start_time": "2022-10-22T20:04:44.240Z"
   },
   {
    "duration": 135,
    "start_time": "2022-10-22T20:04:45.351Z"
   },
   {
    "duration": 7,
    "start_time": "2022-10-22T20:04:45.488Z"
   },
   {
    "duration": 37,
    "start_time": "2022-10-22T20:04:45.509Z"
   },
   {
    "duration": 5,
    "start_time": "2022-10-22T20:04:45.549Z"
   },
   {
    "duration": 10,
    "start_time": "2022-10-22T20:04:45.556Z"
   },
   {
    "duration": 6,
    "start_time": "2022-10-22T20:04:45.568Z"
   },
   {
    "duration": 45,
    "start_time": "2022-10-22T20:04:45.576Z"
   },
   {
    "duration": 13,
    "start_time": "2022-10-22T20:04:45.623Z"
   },
   {
    "duration": 18,
    "start_time": "2022-10-22T20:04:45.640Z"
   },
   {
    "duration": 26,
    "start_time": "2022-10-22T20:04:45.659Z"
   },
   {
    "duration": 211,
    "start_time": "2022-10-22T20:04:45.687Z"
   },
   {
    "duration": 32,
    "start_time": "2022-10-22T20:04:45.900Z"
   },
   {
    "duration": 420,
    "start_time": "2022-10-22T20:04:45.934Z"
   },
   {
    "duration": 275,
    "start_time": "2022-10-22T20:04:46.355Z"
   },
   {
    "duration": 21,
    "start_time": "2022-10-22T20:04:46.633Z"
   },
   {
    "duration": 22,
    "start_time": "2022-10-22T20:04:46.656Z"
   },
   {
    "duration": 52,
    "start_time": "2022-10-22T20:04:46.680Z"
   },
   {
    "duration": 220,
    "start_time": "2022-10-22T20:04:46.735Z"
   },
   {
    "duration": 273,
    "start_time": "2022-10-22T20:04:46.957Z"
   },
   {
    "duration": 162,
    "start_time": "2022-10-22T20:04:47.232Z"
   },
   {
    "duration": 194,
    "start_time": "2022-10-22T20:04:47.395Z"
   },
   {
    "duration": 25,
    "start_time": "2022-10-22T20:04:47.591Z"
   },
   {
    "duration": 29,
    "start_time": "2022-10-22T20:04:47.618Z"
   },
   {
    "duration": 23,
    "start_time": "2022-10-22T20:04:47.649Z"
   },
   {
    "duration": 2,
    "start_time": "2022-10-22T20:04:47.673Z"
   },
   {
    "duration": 486,
    "start_time": "2022-10-22T20:04:47.677Z"
   },
   {
    "duration": 16,
    "start_time": "2022-10-22T20:04:48.167Z"
   },
   {
    "duration": 439,
    "start_time": "2022-10-22T20:04:48.185Z"
   },
   {
    "duration": 35,
    "start_time": "2022-10-22T20:04:48.626Z"
   },
   {
    "duration": 508,
    "start_time": "2022-10-22T20:04:48.663Z"
   },
   {
    "duration": 58,
    "start_time": "2022-10-22T20:04:49.172Z"
   },
   {
    "duration": 499,
    "start_time": "2022-10-22T20:04:49.231Z"
   },
   {
    "duration": 46,
    "start_time": "2022-10-22T20:04:49.732Z"
   },
   {
    "duration": 38,
    "start_time": "2022-10-22T20:04:49.781Z"
   },
   {
    "duration": 16,
    "start_time": "2022-10-22T20:04:49.828Z"
   },
   {
    "duration": 1126,
    "start_time": "2022-10-22T20:05:27.497Z"
   },
   {
    "duration": 123,
    "start_time": "2022-10-22T20:05:28.629Z"
   },
   {
    "duration": 6,
    "start_time": "2022-10-22T20:05:28.753Z"
   },
   {
    "duration": 20,
    "start_time": "2022-10-22T20:05:28.762Z"
   },
   {
    "duration": 32,
    "start_time": "2022-10-22T20:05:28.784Z"
   },
   {
    "duration": 19,
    "start_time": "2022-10-22T20:05:28.817Z"
   },
   {
    "duration": 7,
    "start_time": "2022-10-22T20:05:28.838Z"
   },
   {
    "duration": 9,
    "start_time": "2022-10-22T20:05:28.847Z"
   },
   {
    "duration": 11,
    "start_time": "2022-10-22T20:05:28.858Z"
   },
   {
    "duration": 45,
    "start_time": "2022-10-22T20:05:28.873Z"
   },
   {
    "duration": 30,
    "start_time": "2022-10-22T20:05:28.923Z"
   },
   {
    "duration": 217,
    "start_time": "2022-10-22T20:05:28.955Z"
   },
   {
    "duration": 17,
    "start_time": "2022-10-22T20:05:29.174Z"
   },
   {
    "duration": 408,
    "start_time": "2022-10-22T20:05:29.193Z"
   },
   {
    "duration": 275,
    "start_time": "2022-10-22T20:05:29.603Z"
   },
   {
    "duration": 16,
    "start_time": "2022-10-22T20:05:29.879Z"
   },
   {
    "duration": 53,
    "start_time": "2022-10-22T20:05:29.896Z"
   },
   {
    "duration": 26,
    "start_time": "2022-10-22T20:05:29.952Z"
   },
   {
    "duration": 220,
    "start_time": "2022-10-22T20:05:29.980Z"
   },
   {
    "duration": 272,
    "start_time": "2022-10-22T20:05:30.202Z"
   },
   {
    "duration": 158,
    "start_time": "2022-10-22T20:05:30.475Z"
   },
   {
    "duration": 296,
    "start_time": "2022-10-22T20:05:30.635Z"
   },
   {
    "duration": 5,
    "start_time": "2022-10-22T20:05:30.932Z"
   },
   {
    "duration": 69,
    "start_time": "2022-10-22T20:05:30.938Z"
   },
   {
    "duration": 35,
    "start_time": "2022-10-22T20:05:31.008Z"
   },
   {
    "duration": 11,
    "start_time": "2022-10-22T20:05:31.045Z"
   },
   {
    "duration": 468,
    "start_time": "2022-10-22T20:05:31.059Z"
   },
   {
    "duration": 17,
    "start_time": "2022-10-22T20:05:31.532Z"
   },
   {
    "duration": 468,
    "start_time": "2022-10-22T20:05:31.551Z"
   },
   {
    "duration": 36,
    "start_time": "2022-10-22T20:05:32.021Z"
   },
   {
    "duration": 494,
    "start_time": "2022-10-22T20:05:32.059Z"
   },
   {
    "duration": 55,
    "start_time": "2022-10-22T20:05:32.555Z"
   },
   {
    "duration": 539,
    "start_time": "2022-10-22T20:05:32.612Z"
   },
   {
    "duration": 36,
    "start_time": "2022-10-22T20:05:33.153Z"
   },
   {
    "duration": 42,
    "start_time": "2022-10-22T20:05:33.191Z"
   },
   {
    "duration": 24,
    "start_time": "2022-10-22T20:05:33.235Z"
   },
   {
    "duration": 71,
    "start_time": "2022-10-23T09:30:41.651Z"
   },
   {
    "duration": 1308,
    "start_time": "2022-10-23T09:30:56.826Z"
   },
   {
    "duration": 154,
    "start_time": "2022-10-23T09:30:58.136Z"
   },
   {
    "duration": 6,
    "start_time": "2022-10-23T09:30:58.291Z"
   },
   {
    "duration": 24,
    "start_time": "2022-10-23T09:30:58.299Z"
   },
   {
    "duration": 5,
    "start_time": "2022-10-23T09:30:58.325Z"
   },
   {
    "duration": 8,
    "start_time": "2022-10-23T09:30:58.331Z"
   },
   {
    "duration": 4,
    "start_time": "2022-10-23T09:30:58.340Z"
   },
   {
    "duration": 5,
    "start_time": "2022-10-23T09:30:58.345Z"
   },
   {
    "duration": 4,
    "start_time": "2022-10-23T09:30:58.351Z"
   },
   {
    "duration": 11,
    "start_time": "2022-10-23T09:30:58.358Z"
   },
   {
    "duration": 50,
    "start_time": "2022-10-23T09:30:58.371Z"
   },
   {
    "duration": 199,
    "start_time": "2022-10-23T09:30:58.423Z"
   },
   {
    "duration": 18,
    "start_time": "2022-10-23T09:30:58.624Z"
   },
   {
    "duration": 421,
    "start_time": "2022-10-23T09:30:58.644Z"
   },
   {
    "duration": 256,
    "start_time": "2022-10-23T09:30:59.067Z"
   },
   {
    "duration": 14,
    "start_time": "2022-10-23T09:30:59.325Z"
   },
   {
    "duration": 18,
    "start_time": "2022-10-23T09:30:59.340Z"
   },
   {
    "duration": 19,
    "start_time": "2022-10-23T09:30:59.359Z"
   },
   {
    "duration": 190,
    "start_time": "2022-10-23T09:30:59.379Z"
   },
   {
    "duration": 210,
    "start_time": "2022-10-23T09:30:59.571Z"
   },
   {
    "duration": 149,
    "start_time": "2022-10-23T09:30:59.783Z"
   },
   {
    "duration": 204,
    "start_time": "2022-10-23T09:30:59.933Z"
   },
   {
    "duration": 2,
    "start_time": "2022-10-23T09:31:00.139Z"
   },
   {
    "duration": 15,
    "start_time": "2022-10-23T09:31:00.143Z"
   },
   {
    "duration": 29,
    "start_time": "2022-10-23T09:31:00.160Z"
   },
   {
    "duration": 28,
    "start_time": "2022-10-23T09:31:00.191Z"
   },
   {
    "duration": 467,
    "start_time": "2022-10-23T09:31:00.222Z"
   },
   {
    "duration": 24,
    "start_time": "2022-10-23T09:31:00.694Z"
   },
   {
    "duration": 439,
    "start_time": "2022-10-23T09:31:00.720Z"
   },
   {
    "duration": 37,
    "start_time": "2022-10-23T09:31:01.160Z"
   },
   {
    "duration": 445,
    "start_time": "2022-10-23T09:31:01.216Z"
   },
   {
    "duration": 35,
    "start_time": "2022-10-23T09:31:01.662Z"
   },
   {
    "duration": 426,
    "start_time": "2022-10-23T09:31:01.698Z"
   },
   {
    "duration": 33,
    "start_time": "2022-10-23T09:31:02.126Z"
   },
   {
    "duration": 13,
    "start_time": "2022-10-23T09:31:02.161Z"
   },
   {
    "duration": 26,
    "start_time": "2022-10-23T09:31:02.175Z"
   },
   {
    "duration": 57,
    "start_time": "2022-10-23T09:32:36.141Z"
   },
   {
    "duration": 41,
    "start_time": "2022-10-23T09:33:50.846Z"
   },
   {
    "duration": 52,
    "start_time": "2022-10-23T09:33:58.685Z"
   },
   {
    "duration": 139,
    "start_time": "2022-10-23T09:34:11.691Z"
   },
   {
    "duration": 481,
    "start_time": "2022-10-23T09:38:11.264Z"
   },
   {
    "duration": 364,
    "start_time": "2022-10-23T09:38:18.470Z"
   },
   {
    "duration": 469,
    "start_time": "2022-10-23T10:10:41.327Z"
   },
   {
    "duration": 76,
    "start_time": "2022-10-23T10:10:52.231Z"
   },
   {
    "duration": 517,
    "start_time": "2022-10-23T10:42:03.739Z"
   },
   {
    "duration": 485,
    "start_time": "2022-10-23T10:45:43.434Z"
   },
   {
    "duration": 464,
    "start_time": "2022-10-23T10:52:19.700Z"
   },
   {
    "duration": 482,
    "start_time": "2022-10-23T10:53:28.007Z"
   },
   {
    "duration": 534,
    "start_time": "2022-10-23T10:54:49.704Z"
   },
   {
    "duration": 1152,
    "start_time": "2022-10-23T10:57:50.906Z"
   },
   {
    "duration": 122,
    "start_time": "2022-10-23T10:57:52.060Z"
   },
   {
    "duration": 7,
    "start_time": "2022-10-23T10:57:52.184Z"
   },
   {
    "duration": 31,
    "start_time": "2022-10-23T10:57:52.193Z"
   },
   {
    "duration": 6,
    "start_time": "2022-10-23T10:57:52.225Z"
   },
   {
    "duration": 14,
    "start_time": "2022-10-23T10:57:52.232Z"
   },
   {
    "duration": 4,
    "start_time": "2022-10-23T10:57:52.248Z"
   },
   {
    "duration": 6,
    "start_time": "2022-10-23T10:57:52.254Z"
   },
   {
    "duration": 7,
    "start_time": "2022-10-23T10:57:52.262Z"
   },
   {
    "duration": 14,
    "start_time": "2022-10-23T10:57:52.271Z"
   },
   {
    "duration": 26,
    "start_time": "2022-10-23T10:57:52.310Z"
   },
   {
    "duration": 229,
    "start_time": "2022-10-23T10:57:52.338Z"
   },
   {
    "duration": 23,
    "start_time": "2022-10-23T10:57:52.568Z"
   },
   {
    "duration": 541,
    "start_time": "2022-10-23T10:57:52.593Z"
   },
   {
    "duration": 255,
    "start_time": "2022-10-23T10:57:53.139Z"
   },
   {
    "duration": 34,
    "start_time": "2022-10-23T10:57:53.395Z"
   },
   {
    "duration": 27,
    "start_time": "2022-10-23T10:57:53.431Z"
   },
   {
    "duration": 24,
    "start_time": "2022-10-23T10:57:53.460Z"
   },
   {
    "duration": 193,
    "start_time": "2022-10-23T10:57:53.486Z"
   },
   {
    "duration": 302,
    "start_time": "2022-10-23T10:57:53.681Z"
   },
   {
    "duration": 194,
    "start_time": "2022-10-23T10:57:53.985Z"
   },
   {
    "duration": 210,
    "start_time": "2022-10-23T10:57:54.183Z"
   },
   {
    "duration": 3,
    "start_time": "2022-10-23T10:57:54.395Z"
   },
   {
    "duration": 5,
    "start_time": "2022-10-23T10:57:54.400Z"
   },
   {
    "duration": 32,
    "start_time": "2022-10-23T10:57:54.416Z"
   },
   {
    "duration": 26,
    "start_time": "2022-10-23T10:57:54.450Z"
   },
   {
    "duration": 486,
    "start_time": "2022-10-23T10:57:54.478Z"
   },
   {
    "duration": 16,
    "start_time": "2022-10-23T10:57:54.967Z"
   },
   {
    "duration": 441,
    "start_time": "2022-10-23T10:57:54.985Z"
   },
   {
    "duration": 34,
    "start_time": "2022-10-23T10:57:55.429Z"
   },
   {
    "duration": 519,
    "start_time": "2022-10-23T10:57:55.464Z"
   },
   {
    "duration": 42,
    "start_time": "2022-10-23T10:57:55.985Z"
   },
   {
    "duration": 427,
    "start_time": "2022-10-23T10:57:56.029Z"
   },
   {
    "duration": 33,
    "start_time": "2022-10-23T10:57:56.458Z"
   },
   {
    "duration": 45,
    "start_time": "2022-10-23T10:57:56.492Z"
   },
   {
    "duration": 12,
    "start_time": "2022-10-23T10:57:56.539Z"
   },
   {
    "duration": 1072,
    "start_time": "2022-10-23T11:11:40.033Z"
   },
   {
    "duration": 115,
    "start_time": "2022-10-23T11:11:41.107Z"
   },
   {
    "duration": 5,
    "start_time": "2022-10-23T11:11:41.224Z"
   },
   {
    "duration": 43,
    "start_time": "2022-10-23T11:11:41.231Z"
   },
   {
    "duration": 27,
    "start_time": "2022-10-23T11:11:41.276Z"
   },
   {
    "duration": 29,
    "start_time": "2022-10-23T11:11:41.305Z"
   },
   {
    "duration": 26,
    "start_time": "2022-10-23T11:11:41.336Z"
   },
   {
    "duration": 39,
    "start_time": "2022-10-23T11:11:41.364Z"
   },
   {
    "duration": 42,
    "start_time": "2022-10-23T11:11:41.404Z"
   },
   {
    "duration": 40,
    "start_time": "2022-10-23T11:11:41.448Z"
   },
   {
    "duration": 54,
    "start_time": "2022-10-23T11:11:41.490Z"
   },
   {
    "duration": 218,
    "start_time": "2022-10-23T11:11:41.545Z"
   },
   {
    "duration": 17,
    "start_time": "2022-10-23T11:11:41.765Z"
   },
   {
    "duration": 398,
    "start_time": "2022-10-23T11:11:41.783Z"
   },
   {
    "duration": 250,
    "start_time": "2022-10-23T11:11:42.182Z"
   },
   {
    "duration": 14,
    "start_time": "2022-10-23T11:11:42.433Z"
   },
   {
    "duration": 39,
    "start_time": "2022-10-23T11:11:42.449Z"
   },
   {
    "duration": 65,
    "start_time": "2022-10-23T11:11:42.489Z"
   },
   {
    "duration": 212,
    "start_time": "2022-10-23T11:11:42.556Z"
   },
   {
    "duration": 230,
    "start_time": "2022-10-23T11:11:42.769Z"
   },
   {
    "duration": 152,
    "start_time": "2022-10-23T11:11:43.000Z"
   },
   {
    "duration": 190,
    "start_time": "2022-10-23T11:11:43.154Z"
   },
   {
    "duration": 2,
    "start_time": "2022-10-23T11:11:43.345Z"
   },
   {
    "duration": 19,
    "start_time": "2022-10-23T11:11:43.348Z"
   },
   {
    "duration": 22,
    "start_time": "2022-10-23T11:11:43.369Z"
   },
   {
    "duration": 26,
    "start_time": "2022-10-23T11:11:43.392Z"
   },
   {
    "duration": 446,
    "start_time": "2022-10-23T11:11:43.432Z"
   },
   {
    "duration": 21,
    "start_time": "2022-10-23T11:11:43.881Z"
   },
   {
    "duration": 428,
    "start_time": "2022-10-23T11:11:43.910Z"
   },
   {
    "duration": 33,
    "start_time": "2022-10-23T11:11:44.339Z"
   },
   {
    "duration": 464,
    "start_time": "2022-10-23T11:11:44.373Z"
   },
   {
    "duration": 37,
    "start_time": "2022-10-23T11:11:44.838Z"
   },
   {
    "duration": 429,
    "start_time": "2022-10-23T11:11:44.877Z"
   },
   {
    "duration": 35,
    "start_time": "2022-10-23T11:11:45.309Z"
   },
   {
    "duration": 11,
    "start_time": "2022-10-23T11:11:45.346Z"
   },
   {
    "duration": 13,
    "start_time": "2022-10-23T11:11:45.359Z"
   },
   {
    "duration": 1108,
    "start_time": "2022-10-23T15:36:25.976Z"
   },
   {
    "duration": 111,
    "start_time": "2022-10-23T15:36:27.086Z"
   },
   {
    "duration": 5,
    "start_time": "2022-10-23T15:36:27.199Z"
   },
   {
    "duration": 25,
    "start_time": "2022-10-23T15:36:27.210Z"
   },
   {
    "duration": 5,
    "start_time": "2022-10-23T15:36:27.236Z"
   },
   {
    "duration": 10,
    "start_time": "2022-10-23T15:36:27.243Z"
   },
   {
    "duration": 8,
    "start_time": "2022-10-23T15:36:27.255Z"
   },
   {
    "duration": 5,
    "start_time": "2022-10-23T15:36:27.264Z"
   },
   {
    "duration": 8,
    "start_time": "2022-10-23T15:36:27.271Z"
   },
   {
    "duration": 29,
    "start_time": "2022-10-23T15:36:27.281Z"
   },
   {
    "duration": 22,
    "start_time": "2022-10-23T15:36:27.312Z"
   },
   {
    "duration": 218,
    "start_time": "2022-10-23T15:36:27.335Z"
   },
   {
    "duration": 16,
    "start_time": "2022-10-23T15:36:27.554Z"
   },
   {
    "duration": 397,
    "start_time": "2022-10-23T15:36:27.572Z"
   },
   {
    "duration": 247,
    "start_time": "2022-10-23T15:36:27.970Z"
   },
   {
    "duration": 19,
    "start_time": "2022-10-23T15:36:28.219Z"
   },
   {
    "duration": 19,
    "start_time": "2022-10-23T15:36:28.240Z"
   },
   {
    "duration": 22,
    "start_time": "2022-10-23T15:36:28.261Z"
   },
   {
    "duration": 180,
    "start_time": "2022-10-23T15:36:28.309Z"
   },
   {
    "duration": 213,
    "start_time": "2022-10-23T15:36:28.490Z"
   },
   {
    "duration": 153,
    "start_time": "2022-10-23T15:36:28.709Z"
   },
   {
    "duration": 210,
    "start_time": "2022-10-23T15:36:28.864Z"
   },
   {
    "duration": 2,
    "start_time": "2022-10-23T15:36:29.076Z"
   },
   {
    "duration": 26,
    "start_time": "2022-10-23T15:36:29.080Z"
   },
   {
    "duration": 46,
    "start_time": "2022-10-23T15:36:29.108Z"
   },
   {
    "duration": 23,
    "start_time": "2022-10-23T15:36:29.156Z"
   },
   {
    "duration": 442,
    "start_time": "2022-10-23T15:36:29.181Z"
   },
   {
    "duration": 17,
    "start_time": "2022-10-23T15:36:29.627Z"
   },
   {
    "duration": 441,
    "start_time": "2022-10-23T15:36:29.646Z"
   },
   {
    "duration": 44,
    "start_time": "2022-10-23T15:36:30.089Z"
   },
   {
    "duration": 467,
    "start_time": "2022-10-23T15:36:30.135Z"
   },
   {
    "duration": 41,
    "start_time": "2022-10-23T15:36:30.603Z"
   },
   {
    "duration": 435,
    "start_time": "2022-10-23T15:36:30.647Z"
   },
   {
    "duration": 43,
    "start_time": "2022-10-23T15:36:31.085Z"
   },
   {
    "duration": 12,
    "start_time": "2022-10-23T15:36:31.130Z"
   },
   {
    "duration": 30,
    "start_time": "2022-10-23T15:36:31.143Z"
   },
   {
    "duration": 1290,
    "start_time": "2022-10-27T08:53:47.813Z"
   },
   {
    "duration": 238,
    "start_time": "2022-10-27T08:53:49.105Z"
   },
   {
    "duration": 5,
    "start_time": "2022-10-27T08:53:49.345Z"
   },
   {
    "duration": 28,
    "start_time": "2022-10-27T08:53:49.352Z"
   },
   {
    "duration": 23,
    "start_time": "2022-10-27T08:53:49.382Z"
   },
   {
    "duration": 11,
    "start_time": "2022-10-27T08:53:49.407Z"
   },
   {
    "duration": 7,
    "start_time": "2022-10-27T08:53:49.420Z"
   },
   {
    "duration": 4,
    "start_time": "2022-10-27T08:53:49.429Z"
   },
   {
    "duration": 8,
    "start_time": "2022-10-27T08:53:49.435Z"
   },
   {
    "duration": 21,
    "start_time": "2022-10-27T08:53:49.446Z"
   },
   {
    "duration": 55,
    "start_time": "2022-10-27T08:53:49.468Z"
   },
   {
    "duration": 188,
    "start_time": "2022-10-27T08:53:49.525Z"
   },
   {
    "duration": 16,
    "start_time": "2022-10-27T08:53:49.715Z"
   },
   {
    "duration": 399,
    "start_time": "2022-10-27T08:53:49.733Z"
   },
   {
    "duration": 242,
    "start_time": "2022-10-27T08:53:50.134Z"
   },
   {
    "duration": 17,
    "start_time": "2022-10-27T08:53:50.378Z"
   },
   {
    "duration": 27,
    "start_time": "2022-10-27T08:53:50.406Z"
   },
   {
    "duration": 26,
    "start_time": "2022-10-27T08:53:50.435Z"
   },
   {
    "duration": 195,
    "start_time": "2022-10-27T08:53:50.463Z"
   },
   {
    "duration": 196,
    "start_time": "2022-10-27T08:53:50.659Z"
   },
   {
    "duration": 148,
    "start_time": "2022-10-27T08:53:50.857Z"
   },
   {
    "duration": 207,
    "start_time": "2022-10-27T08:53:51.007Z"
   },
   {
    "duration": 3,
    "start_time": "2022-10-27T08:53:51.216Z"
   },
   {
    "duration": 6,
    "start_time": "2022-10-27T08:53:51.221Z"
   },
   {
    "duration": 28,
    "start_time": "2022-10-27T08:53:51.229Z"
   },
   {
    "duration": 18,
    "start_time": "2022-10-27T08:53:51.258Z"
   },
   {
    "duration": 453,
    "start_time": "2022-10-27T08:53:51.277Z"
   },
   {
    "duration": 16,
    "start_time": "2022-10-27T08:53:51.732Z"
   },
   {
    "duration": 428,
    "start_time": "2022-10-27T08:53:51.749Z"
   },
   {
    "duration": 54,
    "start_time": "2022-10-27T08:53:52.179Z"
   },
   {
    "duration": 456,
    "start_time": "2022-10-27T08:53:52.235Z"
   },
   {
    "duration": 55,
    "start_time": "2022-10-27T08:53:52.693Z"
   },
   {
    "duration": 416,
    "start_time": "2022-10-27T08:53:52.750Z"
   },
   {
    "duration": 48,
    "start_time": "2022-10-27T08:53:53.167Z"
   },
   {
    "duration": 16,
    "start_time": "2022-10-27T08:53:53.217Z"
   },
   {
    "duration": 18,
    "start_time": "2022-10-27T08:53:53.235Z"
   }
  ],
  "kernelspec": {
   "display_name": "Python 3 (ipykernel)",
   "language": "python",
   "name": "python3"
  },
  "language_info": {
   "codemirror_mode": {
    "name": "ipython",
    "version": 3
   },
   "file_extension": ".py",
   "mimetype": "text/x-python",
   "name": "python",
   "nbconvert_exporter": "python",
   "pygments_lexer": "ipython3",
   "version": "3.9.5"
  },
  "toc": {
   "base_numbering": 1,
   "nav_menu": {},
   "number_sections": true,
   "sideBar": true,
   "skip_h1_title": true,
   "title_cell": "Table of Contents",
   "title_sidebar": "Contents",
   "toc_cell": false,
   "toc_position": {
    "height": "calc(100% - 180px)",
    "left": "10px",
    "top": "150px",
    "width": "323.556px"
   },
   "toc_section_display": true,
   "toc_window_display": false
  }
 },
 "nbformat": 4,
 "nbformat_minor": 2
}
